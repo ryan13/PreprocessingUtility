{
 "cells": [
  {
   "cell_type": "code",
   "execution_count": null,
   "metadata": {
    "collapsed": true
   },
   "outputs": [],
   "source": []
  },
  {
   "cell_type": "markdown",
   "metadata": {},
   "source": [
    "### How to evaluate a model\n",
    "When our project goes into development stage, it needs to be estimated on several test sets. Furthermore, we also need to determine which measurement metrics for the task. In other words, our first objective is to see how well model cna be **generalized** and second objective is which **measurement metric** will be use. \n",
    "In fact, we often want to compare several models to select the best predictive model. As a result, a final step, **an ad-hoc analysis** will be presented in this notebook to illustrate **how** a comparative decision wil be made with statistic test."
   ]
  },
  {
   "cell_type": "markdown",
   "metadata": {},
   "source": [
    "1. **Train /test/evaluation** method\n",
    "Split the dataset into two subsets where one subset is used for training, and tuning with test set. finallly evaluating on the last set. We use [Pima Indian diabete dataset](\"https://archive.ics.uci.edu/ml/datasets/Pima+Indians+Diabetes\") from UCI."
   ]
  },
  {
   "cell_type": "code",
   "execution_count": 2,
   "metadata": {
    "collapsed": true
   },
   "outputs": [],
   "source": [
    "import pandas as pd\n",
    "\n",
    "url = 'https://archive.ics.uci.edu/ml/machine-learning-databases/pima-indians-diabetes/pima-indians-diabetes.data'\n",
    "col_names = ['pregnant', 'glucose', 'bp', 'skin', 'insulin', 'bmi', 'pedigree', 'age','label']\n",
    "pima = pd.read_csv(url, header=None, names=col_names)"
   ]
  },
  {
   "cell_type": "code",
   "execution_count": 4,
   "metadata": {},
   "outputs": [
    {
     "data": {
      "text/html": [
       "<div>\n",
       "<style>\n",
       "    .dataframe thead tr:only-child th {\n",
       "        text-align: right;\n",
       "    }\n",
       "\n",
       "    .dataframe thead th {\n",
       "        text-align: left;\n",
       "    }\n",
       "\n",
       "    .dataframe tbody tr th {\n",
       "        vertical-align: top;\n",
       "    }\n",
       "</style>\n",
       "<table border=\"1\" class=\"dataframe\">\n",
       "  <thead>\n",
       "    <tr style=\"text-align: right;\">\n",
       "      <th></th>\n",
       "      <th>pregnant</th>\n",
       "      <th>glucose</th>\n",
       "      <th>bp</th>\n",
       "      <th>skin</th>\n",
       "      <th>insulin</th>\n",
       "      <th>bmi</th>\n",
       "      <th>pedigree</th>\n",
       "      <th>age</th>\n",
       "      <th>label</th>\n",
       "    </tr>\n",
       "  </thead>\n",
       "  <tbody>\n",
       "    <tr>\n",
       "      <th>0</th>\n",
       "      <td>6</td>\n",
       "      <td>148</td>\n",
       "      <td>72</td>\n",
       "      <td>35</td>\n",
       "      <td>0</td>\n",
       "      <td>33.6</td>\n",
       "      <td>0.627</td>\n",
       "      <td>50</td>\n",
       "      <td>1</td>\n",
       "    </tr>\n",
       "    <tr>\n",
       "      <th>1</th>\n",
       "      <td>1</td>\n",
       "      <td>85</td>\n",
       "      <td>66</td>\n",
       "      <td>29</td>\n",
       "      <td>0</td>\n",
       "      <td>26.6</td>\n",
       "      <td>0.351</td>\n",
       "      <td>31</td>\n",
       "      <td>0</td>\n",
       "    </tr>\n",
       "    <tr>\n",
       "      <th>2</th>\n",
       "      <td>8</td>\n",
       "      <td>183</td>\n",
       "      <td>64</td>\n",
       "      <td>0</td>\n",
       "      <td>0</td>\n",
       "      <td>23.3</td>\n",
       "      <td>0.672</td>\n",
       "      <td>32</td>\n",
       "      <td>1</td>\n",
       "    </tr>\n",
       "    <tr>\n",
       "      <th>3</th>\n",
       "      <td>1</td>\n",
       "      <td>89</td>\n",
       "      <td>66</td>\n",
       "      <td>23</td>\n",
       "      <td>94</td>\n",
       "      <td>28.1</td>\n",
       "      <td>0.167</td>\n",
       "      <td>21</td>\n",
       "      <td>0</td>\n",
       "    </tr>\n",
       "    <tr>\n",
       "      <th>4</th>\n",
       "      <td>0</td>\n",
       "      <td>137</td>\n",
       "      <td>40</td>\n",
       "      <td>35</td>\n",
       "      <td>168</td>\n",
       "      <td>43.1</td>\n",
       "      <td>2.288</td>\n",
       "      <td>33</td>\n",
       "      <td>1</td>\n",
       "    </tr>\n",
       "  </tbody>\n",
       "</table>\n",
       "</div>"
      ],
      "text/plain": [
       "   pregnant  glucose  bp  skin  insulin   bmi  pedigree  age  label\n",
       "0         6      148  72    35        0  33.6     0.627   50      1\n",
       "1         1       85  66    29        0  26.6     0.351   31      0\n",
       "2         8      183  64     0        0  23.3     0.672   32      1\n",
       "3         1       89  66    23       94  28.1     0.167   21      0\n",
       "4         0      137  40    35      168  43.1     2.288   33      1"
      ]
     },
     "execution_count": 4,
     "metadata": {},
     "output_type": "execute_result"
    }
   ],
   "source": [
    "pima.head()"
   ]
  },
  {
   "cell_type": "markdown",
   "metadata": {},
   "source": [
    "label\n",
    "\n",
    "    1: diabetes\n",
    "    0: no diabetes\n",
    "\n",
    "pregnant\n",
    "\n",
    "    number of times pregnan"
   ]
  },
  {
   "cell_type": "code",
   "execution_count": 6,
   "metadata": {
    "collapsed": true
   },
   "outputs": [],
   "source": [
    "# X is a matrix, hence we use [] to access the features we want in feature_cols\n",
    "X = pima[['pregnant', 'insulin', 'bmi', 'age']]\n",
    "y = pima.label\n",
    "from sklearn.model_selection import train_test_split\n",
    "X_train, X_test, y_train, y_test = train_test_split(X, y, random_state=0)"
   ]
  },
  {
   "cell_type": "markdown",
   "metadata": {},
   "source": [
    "### Logistic Regression model"
   ]
  },
  {
   "cell_type": "code",
   "execution_count": 8,
   "metadata": {},
   "outputs": [
    {
     "data": {
      "text/plain": [
       "LogisticRegression(C=1.0, class_weight=None, dual=False, fit_intercept=True,\n",
       "          intercept_scaling=1, max_iter=100, multi_class='ovr', n_jobs=1,\n",
       "          penalty='l2', random_state=None, solver='liblinear', tol=0.0001,\n",
       "          verbose=0, warm_start=False)"
      ]
     },
     "execution_count": 8,
     "metadata": {},
     "output_type": "execute_result"
    }
   ],
   "source": [
    "from sklearn.linear_model import LogisticRegression\n",
    "\n",
    "logreg = LogisticRegression()\n",
    "logreg.fit(X_train, y_train)"
   ]
  },
  {
   "cell_type": "code",
   "execution_count": 30,
   "metadata": {},
   "outputs": [
    {
     "name": "stdout",
     "output_type": "stream",
     "text": [
      "0.692708333333\n"
     ]
    }
   ],
   "source": [
    "y_pred_class = logreg.predict(X_test)\n",
    "\n",
    "from sklearn.metrics import accuracy_score, confusion_matrix, precision_score\n",
    "print(accuracy_score(y_test, y_pred_class))"
   ]
  },
  {
   "cell_type": "code",
   "execution_count": 22,
   "metadata": {},
   "outputs": [
    {
     "data": {
      "text/plain": [
       "0    130\n",
       "1     62\n",
       "Name: label, dtype: int64"
      ]
     },
     "execution_count": 22,
     "metadata": {},
     "output_type": "execute_result"
    }
   ],
   "source": [
    "## Check target class\n",
    "y_test.value_counts()"
   ]
  },
  {
   "cell_type": "code",
   "execution_count": 23,
   "metadata": {},
   "outputs": [
    {
     "data": {
      "text/plain": [
       "0.3229166666666667"
      ]
     },
     "execution_count": 23,
     "metadata": {},
     "output_type": "execute_result"
    }
   ],
   "source": [
    "# Percentage of label one \n",
    "y_test.mean()"
   ]
  },
  {
   "cell_type": "code",
   "execution_count": 24,
   "metadata": {},
   "outputs": [
    {
     "data": {
      "text/plain": [
       "0.6770833333333333"
      ]
     },
     "execution_count": 24,
     "metadata": {},
     "output_type": "execute_result"
    }
   ],
   "source": [
    "# Computing accuracy of a based model\n",
    "max(y_test.mean(), 1 - y_test.mean())"
   ]
  },
  {
   "cell_type": "code",
   "execution_count": 25,
   "metadata": {},
   "outputs": [
    {
     "name": "stdout",
     "output_type": "stream",
     "text": [
      "[[118  12]\n",
      " [ 47  15]]\n"
     ]
    }
   ],
   "source": [
    "# As a target class unbalanced, we illustrate confusion matrix\n",
    "confusion =confusion_matrix(y_test, y_pred_class)\n",
    "print(confusion)\n",
    "TP = confusion[1, 1]\n",
    "TN = confusion[0, 0]\n",
    "FP = confusion[0, 1]\n",
    "FN = confusion[1, 0]"
   ]
  },
  {
   "cell_type": "code",
   "execution_count": 26,
   "metadata": {
    "collapsed": true
   },
   "outputs": [],
   "source": [
    "##  check the accuracy\n",
    "\n",
    "assert ((TP + TN) / float(TP + TN + FP + FN)) == accuracy_score(y_test, y_pred_class)"
   ]
  },
  {
   "cell_type": "code",
   "execution_count": 28,
   "metadata": {
    "collapsed": true
   },
   "outputs": [],
   "source": [
    "sensitivity = TP / float(FN + TP)\n",
    "specificity = TN / (TN + FP)\n",
    "assert metrics.recall_score(y_test, y_pred_class) ==sensitivity"
   ]
  },
  {
   "cell_type": "code",
   "execution_count": 31,
   "metadata": {
    "collapsed": true
   },
   "outputs": [],
   "source": [
    "precision = TP / float(TP + FP)\n",
    "\n",
    "assert precision == precision_score(y_test, y_pred_class)"
   ]
  },
  {
   "cell_type": "markdown",
   "metadata": {},
   "source": [
    "### Summarize\n",
    "Which metrics should you focus on?\n",
    "\n",
    "    Choice of metric depends on your business objective\n",
    "        Identify if FP or FN is more important to reduce\n",
    "        Choose metric with relevant variable (FP or FN in the equation)\n",
    "    Spam filter (positive class is \"spam\"):\n",
    "        Optimize for precision or specificity\n",
    "            precision\n",
    "                false positive as variable\n",
    "            specificity\n",
    "                false positive as variable\n",
    "        Because false negatives (spam goes to the inbox) are more acceptable than false positives (non-spam is caught by the spam filter)\n",
    "    Fraudulent transaction detector (positive class is \"fraud\"):\n",
    "        Optimize for sensitivity\n",
    "            FN as a variable\n",
    "        Because false positives (normal transactions that are flagged as possible fraud) are more acceptable than false negatives (fraudulent transactions that are not detected)\n"
   ]
  },
  {
   "cell_type": "markdown",
   "metadata": {},
   "source": [
    "## Adjusting the classification threshold"
   ]
  },
  {
   "cell_type": "code",
   "execution_count": 34,
   "metadata": {},
   "outputs": [
    {
     "data": {
      "text/plain": [
       "array([[ 0.63247571,  0.36752429],\n",
       "       [ 0.71643656,  0.28356344],\n",
       "       [ 0.71104114,  0.28895886],\n",
       "       [ 0.5858938 ,  0.4141062 ],\n",
       "       [ 0.84103973,  0.15896027],\n",
       "       [ 0.82934844,  0.17065156],\n",
       "       [ 0.50110974,  0.49889026],\n",
       "       [ 0.48658459,  0.51341541],\n",
       "       [ 0.72321388,  0.27678612],\n",
       "       [ 0.32810562,  0.67189438]])"
      ]
     },
     "execution_count": 34,
     "metadata": {},
     "output_type": "execute_result"
    }
   ],
   "source": [
    "logreg.predict(X_test)[0:10]\n",
    "# print the first 10 predicted probabilities of class membership\n",
    "logreg.predict_proba(X_test)[0:10]"
   ]
  },
  {
   "cell_type": "code",
   "execution_count": 35,
   "metadata": {
    "collapsed": true
   },
   "outputs": [],
   "source": [
    "# store the predicted probabilities for class 1\n",
    "y_pred_prob = logreg.predict_proba(X_test)[:, 1]"
   ]
  },
  {
   "cell_type": "code",
   "execution_count": 37,
   "metadata": {},
   "outputs": [
    {
     "data": {
      "text/plain": [
       "<matplotlib.text.Text at 0x236258fe2b0>"
      ]
     },
     "execution_count": 37,
     "metadata": {},
     "output_type": "execute_result"
    },
    {
     "data": {
      "image/png": "[encoded data removed]",
      "text/plain": [
       "<matplotlib.figure.Figure at 0x236241f0fd0>"
      ]
     },
     "metadata": {},
     "output_type": "display_data"
    }
   ],
   "source": [
    "# histogram of predicted probabilities\n",
    "%matplotlib inline\n",
    "import matplotlib.pyplot as plt\n",
    "\n",
    "# adjust the font size \n",
    "plt.rcParams['font.size'] = 12\n",
    "# 8 bins\n",
    "plt.hist(y_pred_prob, bins=8)\n",
    "\n",
    "# x-axis limit from 0 to 1\n",
    "plt.xlim(0,1)\n",
    "plt.title('Histogram of predicted probabilities')\n",
    "plt.xlabel('Predicted probability of diabetes')\n",
    "plt.ylabel('Frequency')"
   ]
  },
  {
   "cell_type": "markdown",
   "metadata": {},
   "source": [
    "    We can see from the third bar\n",
    "        About 45% of observations have probability from 0.2 to 0.3\n",
    "        Small number of observations with probability > 0.5\n",
    "        This is below the threshold of 0.5\n",
    "        Most would be predicted \"no diabetes\" in this case\n",
    "    Solution\n",
    "        Decrease the threshold for predicting diabetes\n",
    "            Increase the sensitivity of the classifier\n",
    "                This would increase the number of TP\n",
    "                    More sensitive to positive instances\n",
    "                    Example of metal detector\n",
    "                        Threshold set to set off alarm for large object but not tiny objects\n",
    "                        YES: metal, NO: no metal\n",
    "                        We lower the threshold amount of metal to set it off\n",
    "                        It is now more sensitive to metal\n",
    "                        It will then predict YES more often\n",
    "\n"
   ]
  },
  {
   "cell_type": "code",
   "execution_count": 38,
   "metadata": {},
   "outputs": [
    {
     "ename": "ValueError",
     "evalue": "Expected 2D array, got 1D array instead:\narray=[ 0.36752429  0.28356344  0.28895886  0.4141062   0.15896027  0.17065156\n  0.49889026  0.51341541  0.27678612  0.67189438  0.35755557  0.74087965\n  0.36050235  0.23012363  0.42654231  0.19103515  0.45763601  0.1190141\n  0.43928953  0.36961151  0.44187989  0.37611662  0.19816022  0.41677304\n  0.15548281  0.2531671   0.09743077  0.69633712  0.15358309  0.2197836\n  0.43094832  0.34216058  0.22396114  0.38073543  0.13342134  0.38790216\n  0.47049703  0.16204743  0.29548176  0.30918161  0.27299705  0.38816583\n  0.27353443  0.28881041  0.63471914  0.02365251  0.15820648  0.23018375\n  0.3484593   0.27580041  0.33264104  0.24880596  0.74489512  0.39001464\n  0.41625545  0.13575687  0.18895376  0.64777682  0.18922131  0.05685904\n  0.63991547  0.46636382  0.1250972   0.26957602  0.24919104  0.30570396\n  0.46376224  0.20963095  0.42847829  0.40762264  0.20169096  0.27027066\n  0.26255856  0.57238263  0.45467041  0.27716152  0.58001281  0.41599488\n  0.27276101  0.34099223  0.54626578  0.37930723  0.2992205   0.10059169\n  0.32872602  0.45101363  0.16036979  0.4896975   0.63230508  0.40738404\n  0.19794397  0.19698021  0.24463208  0.11147185  0.4158597   0.21561856\n  0.54124529  0.48803602  0.64652767  0.33940658  0.54263427  0.16213824\n  0.3778741   0.11311287  0.34781987  0.34042784  0.1790985   0.21324812\n  0.14710946  0.23014102  0.18404592  0.52224649  0.47099366  0.28884248\n  0.49325079  0.41744473  0.22915008  0.27022911  0.19243924  0.7498713\n  0.46500093  0.6645454   0.42098599  0.53564034  0.16034702  0.1435686\n  0.38142426  0.33827314  0.3630065   0.12842531  0.28333693  0.04005558\n  0.18481139  0.66716947  0.46352874  0.48715682  0.19910794  0.45861651\n  0.23216721  0.18369267  0.26391994  0.37492969  0.12916506  0.41413913\n  0.42460858  0.13832191  0.20781694  0.29477699  0.15825099  0.36016234\n  0.23741449  0.43350689  0.20619881  0.23162338  0.61111541  0.19731009\n  0.80071498  0.17808491  0.36488735  0.78618643  0.44080614  0.36559654\n  0.11760138  0.22843325  0.47865069  0.21320525  0.51498521  0.16122494\n  0.23740119  0.29374391  0.16670048  0.48716526  0.29969894  0.44651043\n  0.50169902  0.29246506  0.61736228  0.41593995  0.25820945  0.1741968\n  0.33519541  0.69606825  0.32454368  0.35730426  0.2336947   0.23738524\n  0.38409318  0.24691412  0.27954552  0.18501174  0.2622362   0.27856926].\nReshape your data either using array.reshape(-1, 1) if your data has a single feature or array.reshape(1, -1) if it contains a single sample.",
     "output_type": "error",
     "traceback": [
      "\u001b[1;31m---------------------------------------------------------------------------\u001b[0m",
      "\u001b[1;31mValueError\u001b[0m                                Traceback (most recent call last)",
      "\u001b[1;32m<ipython-input-38-510b479de73e>\u001b[0m in \u001b[0;36m<module>\u001b[1;34m()\u001b[0m\n\u001b[0;32m      3\u001b[0m \u001b[1;31m# it will return 1 for all values above 0.3 and 0 otherwise\u001b[0m\u001b[1;33m\u001b[0m\u001b[1;33m\u001b[0m\u001b[0m\n\u001b[0;32m      4\u001b[0m \u001b[1;31m# results are 2D so we slice out the first column\u001b[0m\u001b[1;33m\u001b[0m\u001b[1;33m\u001b[0m\u001b[0m\n\u001b[1;32m----> 5\u001b[1;33m \u001b[0my_pred_class\u001b[0m \u001b[1;33m=\u001b[0m \u001b[0mbinarize\u001b[0m\u001b[1;33m(\u001b[0m\u001b[0my_pred_prob\u001b[0m\u001b[1;33m,\u001b[0m \u001b[1;36m0.3\u001b[0m\u001b[1;33m)\u001b[0m\u001b[1;33m[\u001b[0m\u001b[1;36m0\u001b[0m\u001b[1;33m]\u001b[0m\u001b[1;33m\u001b[0m\u001b[0m\n\u001b[0m\u001b[0;32m      6\u001b[0m \u001b[1;33m\u001b[0m\u001b[0m\n",
      "\u001b[1;32m~\\Anaconda3\\lib\\site-packages\\sklearn\\preprocessing\\data.py\u001b[0m in \u001b[0;36mbinarize\u001b[1;34m(X, threshold, copy)\u001b[0m\n\u001b[0;32m   1558\u001b[0m         \u001b[1;33m(\u001b[0m\u001b[0me\u001b[0m\u001b[1;33m.\u001b[0m\u001b[0mg\u001b[0m\u001b[1;33m.\u001b[0m \u001b[1;32mas\u001b[0m \u001b[0mpart\u001b[0m \u001b[0mof\u001b[0m \u001b[0ma\u001b[0m \u001b[0mpreprocessing\u001b[0m \u001b[1;33m:\u001b[0m\u001b[1;32mclass\u001b[0m\u001b[1;33m:\u001b[0m\u001b[0;31m`\u001b[0m\u001b[0msklearn\u001b[0m\u001b[1;33m.\u001b[0m\u001b[0mpipeline\u001b[0m\u001b[1;33m.\u001b[0m\u001b[0mPipeline\u001b[0m\u001b[0;31m`\u001b[0m\u001b[1;33m)\u001b[0m\u001b[1;33m.\u001b[0m\u001b[1;33m\u001b[0m\u001b[0m\n\u001b[0;32m   1559\u001b[0m     \"\"\"\n\u001b[1;32m-> 1560\u001b[1;33m     \u001b[0mX\u001b[0m \u001b[1;33m=\u001b[0m \u001b[0mcheck_array\u001b[0m\u001b[1;33m(\u001b[0m\u001b[0mX\u001b[0m\u001b[1;33m,\u001b[0m \u001b[0maccept_sparse\u001b[0m\u001b[1;33m=\u001b[0m\u001b[1;33m[\u001b[0m\u001b[1;34m'csr'\u001b[0m\u001b[1;33m,\u001b[0m \u001b[1;34m'csc'\u001b[0m\u001b[1;33m]\u001b[0m\u001b[1;33m,\u001b[0m \u001b[0mcopy\u001b[0m\u001b[1;33m=\u001b[0m\u001b[0mcopy\u001b[0m\u001b[1;33m)\u001b[0m\u001b[1;33m\u001b[0m\u001b[0m\n\u001b[0m\u001b[0;32m   1561\u001b[0m     \u001b[1;32mif\u001b[0m \u001b[0msparse\u001b[0m\u001b[1;33m.\u001b[0m\u001b[0missparse\u001b[0m\u001b[1;33m(\u001b[0m\u001b[0mX\u001b[0m\u001b[1;33m)\u001b[0m\u001b[1;33m:\u001b[0m\u001b[1;33m\u001b[0m\u001b[0m\n\u001b[0;32m   1562\u001b[0m         \u001b[1;32mif\u001b[0m \u001b[0mthreshold\u001b[0m \u001b[1;33m<\u001b[0m \u001b[1;36m0\u001b[0m\u001b[1;33m:\u001b[0m\u001b[1;33m\u001b[0m\u001b[0m\n",
      "\u001b[1;32m~\\Anaconda3\\lib\\site-packages\\sklearn\\utils\\validation.py\u001b[0m in \u001b[0;36mcheck_array\u001b[1;34m(array, accept_sparse, dtype, order, copy, force_all_finite, ensure_2d, allow_nd, ensure_min_samples, ensure_min_features, warn_on_dtype, estimator)\u001b[0m\n\u001b[0;32m    408\u001b[0m                     \u001b[1;34m\"Reshape your data either using array.reshape(-1, 1) if \"\u001b[0m\u001b[1;33m\u001b[0m\u001b[0m\n\u001b[0;32m    409\u001b[0m                     \u001b[1;34m\"your data has a single feature or array.reshape(1, -1) \"\u001b[0m\u001b[1;33m\u001b[0m\u001b[0m\n\u001b[1;32m--> 410\u001b[1;33m                     \"if it contains a single sample.\".format(array))\n\u001b[0m\u001b[0;32m    411\u001b[0m             \u001b[0marray\u001b[0m \u001b[1;33m=\u001b[0m \u001b[0mnp\u001b[0m\u001b[1;33m.\u001b[0m\u001b[0matleast_2d\u001b[0m\u001b[1;33m(\u001b[0m\u001b[0marray\u001b[0m\u001b[1;33m)\u001b[0m\u001b[1;33m\u001b[0m\u001b[0m\n\u001b[0;32m    412\u001b[0m             \u001b[1;31m# To ensure that array flags are maintained\u001b[0m\u001b[1;33m\u001b[0m\u001b[1;33m\u001b[0m\u001b[0m\n",
      "\u001b[1;31mValueError\u001b[0m: Expected 2D array, got 1D array instead:\narray=[ 0.36752429  0.28356344  0.28895886  0.4141062   0.15896027  0.17065156\n  0.49889026  0.51341541  0.27678612  0.67189438  0.35755557  0.74087965\n  0.36050235  0.23012363  0.42654231  0.19103515  0.45763601  0.1190141\n  0.43928953  0.36961151  0.44187989  0.37611662  0.19816022  0.41677304\n  0.15548281  0.2531671   0.09743077  0.69633712  0.15358309  0.2197836\n  0.43094832  0.34216058  0.22396114  0.38073543  0.13342134  0.38790216\n  0.47049703  0.16204743  0.29548176  0.30918161  0.27299705  0.38816583\n  0.27353443  0.28881041  0.63471914  0.02365251  0.15820648  0.23018375\n  0.3484593   0.27580041  0.33264104  0.24880596  0.74489512  0.39001464\n  0.41625545  0.13575687  0.18895376  0.64777682  0.18922131  0.05685904\n  0.63991547  0.46636382  0.1250972   0.26957602  0.24919104  0.30570396\n  0.46376224  0.20963095  0.42847829  0.40762264  0.20169096  0.27027066\n  0.26255856  0.57238263  0.45467041  0.27716152  0.58001281  0.41599488\n  0.27276101  0.34099223  0.54626578  0.37930723  0.2992205   0.10059169\n  0.32872602  0.45101363  0.16036979  0.4896975   0.63230508  0.40738404\n  0.19794397  0.19698021  0.24463208  0.11147185  0.4158597   0.21561856\n  0.54124529  0.48803602  0.64652767  0.33940658  0.54263427  0.16213824\n  0.3778741   0.11311287  0.34781987  0.34042784  0.1790985   0.21324812\n  0.14710946  0.23014102  0.18404592  0.52224649  0.47099366  0.28884248\n  0.49325079  0.41744473  0.22915008  0.27022911  0.19243924  0.7498713\n  0.46500093  0.6645454   0.42098599  0.53564034  0.16034702  0.1435686\n  0.38142426  0.33827314  0.3630065   0.12842531  0.28333693  0.04005558\n  0.18481139  0.66716947  0.46352874  0.48715682  0.19910794  0.45861651\n  0.23216721  0.18369267  0.26391994  0.37492969  0.12916506  0.41413913\n  0.42460858  0.13832191  0.20781694  0.29477699  0.15825099  0.36016234\n  0.23741449  0.43350689  0.20619881  0.23162338  0.61111541  0.19731009\n  0.80071498  0.17808491  0.36488735  0.78618643  0.44080614  0.36559654\n  0.11760138  0.22843325  0.47865069  0.21320525  0.51498521  0.16122494\n  0.23740119  0.29374391  0.16670048  0.48716526  0.29969894  0.44651043\n  0.50169902  0.29246506  0.61736228  0.41593995  0.25820945  0.1741968\n  0.33519541  0.69606825  0.32454368  0.35730426  0.2336947   0.23738524\n  0.38409318  0.24691412  0.27954552  0.18501174  0.2622362   0.27856926].\nReshape your data either using array.reshape(-1, 1) if your data has a single feature or array.reshape(1, -1) if it contains a single sample."
     ]
    }
   ],
   "source": [
    "# predict diabetes if the predicted probability is greater than 0.3\n",
    "from sklearn.preprocessing import binarize\n",
    "# it will return 1 for all values above 0.3 and 0 otherwise\n",
    "# results are 2D so we slice out the first column\n",
    "y_pred_class = binarize(y_pred_prob, 0.3)[0]\n",
    "\n"
   ]
  },
  {
   "cell_type": "code",
   "execution_count": null,
   "metadata": {
    "collapsed": true
   },
   "outputs": [],
   "source": [
    "http://www.ritchieng.com/machine-learning-evaluate-classification-model/"
   ]
  },
  {
   "cell_type": "markdown",
   "metadata": {},
   "source": [
    "## how often is the classifier incorrect?"
   ]
  },
  {
   "cell_type": "code",
   "execution_count": 20,
   "metadata": {},
   "outputs": [
    {
     "ename": "AssertionError",
     "evalue": "",
     "output_type": "error",
     "traceback": [
      "\u001b[1;31m---------------------------------------------------------------------------\u001b[0m",
      "\u001b[1;31mAssertionError\u001b[0m                            Traceback (most recent call last)",
      "\u001b[1;32m<ipython-input-20-88731c5cf14c>\u001b[0m in \u001b[0;36m<module>\u001b[1;34m()\u001b[0m\n\u001b[0;32m      1\u001b[0m \u001b[0merror\u001b[0m \u001b[1;33m=\u001b[0m \u001b[1;33m(\u001b[0m\u001b[0mFP\u001b[0m \u001b[1;33m+\u001b[0m \u001b[0mFN\u001b[0m\u001b[1;33m)\u001b[0m \u001b[1;33m/\u001b[0m \u001b[0mfloat\u001b[0m\u001b[1;33m(\u001b[0m\u001b[0mTP\u001b[0m \u001b[1;33m+\u001b[0m \u001b[0mTN\u001b[0m \u001b[1;33m+\u001b[0m \u001b[0mFP\u001b[0m \u001b[1;33m+\u001b[0m \u001b[0mFN\u001b[0m\u001b[1;33m)\u001b[0m\u001b[1;33m\u001b[0m\u001b[0m\n\u001b[0;32m      2\u001b[0m \u001b[1;33m\u001b[0m\u001b[0m\n\u001b[1;32m----> 3\u001b[1;33m \u001b[1;32massert\u001b[0m \u001b[0merror\u001b[0m \u001b[1;33m==\u001b[0m \u001b[1;36m1\u001b[0m \u001b[1;33m-\u001b[0m \u001b[0mmetrics\u001b[0m\u001b[1;33m.\u001b[0m\u001b[0maccuracy_score\u001b[0m\u001b[1;33m(\u001b[0m\u001b[0my_test\u001b[0m\u001b[1;33m,\u001b[0m \u001b[0my_pred_class\u001b[0m\u001b[1;33m)\u001b[0m\u001b[1;33m\u001b[0m\u001b[0m\n\u001b[0m",
      "\u001b[1;31mAssertionError\u001b[0m: "
     ]
    }
   ],
   "source": [
    "error = (FP + FN) / float(TP + TN + FP + FN)\n",
    "\n",
    "assert error == 1 - metrics.accuracy_score(y_test, y_pred_class)"
   ]
  },
  {
   "cell_type": "code",
   "execution_count": null,
   "metadata": {
    "collapsed": true
   },
   "outputs": [],
   "source": [
    "K-fold cross-validation\n",
    "\n",
    "    Systematically create \"K\" train/test splits and average the results together\n",
    "    Even better estimate of out-of-sample performanc"
   ]
  },
  {
   "cell_type": "code",
   "execution_count": null,
   "metadata": {
    "collapsed": true
   },
   "outputs": [],
   "source": []
  },
  {
   "cell_type": "code",
   "execution_count": null,
   "metadata": {
    "collapsed": true
   },
   "outputs": [],
   "source": []
  },
  {
   "cell_type": "markdown",
   "metadata": {},
   "source": [
    "### Review\n",
    "In the context of binary classification, examples are either positive or negative.   \n",
    "**TP** (True Positive) =  Test says “A” while True is \"A\"; **FN** (False Negative)=  Test says \"Not A\" while it is \"A\".\n",
    "**FP** (Falso positive)=  Test says \"A\" while it is not \"A\"; **TN** (True negative)=  Test says \"not A\" while it is not \"A\"\n",
    "\n",
    "\n",
    " > The recall addresses the question: \"Given a positive example, will the classifier detect it ?\"    \n",
    " > The precision addresses the question: \"Given a positive prediction from the classifier, how likely is it to be correct ?\"\n",
    " \n",
    "Recall = TP/(TP + FN) whereas precision = TP/(TP+FP).   \n",
    "Eg.1: Assuming we create a detect videos that is safe for kid, our model may decide to keep only a good one (low recall) or higher TP by keeping only a safe one (high precision) **Rather than** higher recall but leta a few bad videos go through.\n",
    "E.g 2: A prodictive model to detect shopliters on surveillance video: we want all shoplifter caught by raising higer recall and allow lower precision. Since precision increases, recall decreases, this is known as precision-recall trade-off"
   ]
  },
  {
   "cell_type": "code",
   "execution_count": null,
   "metadata": {
    "collapsed": true
   },
   "outputs": [],
   "source": []
  },
  {
   "cell_type": "code",
   "execution_count": null,
   "metadata": {
    "collapsed": true
   },
   "outputs": [],
   "source": [
    "## When threshold comes into a pictures\n",
    "Threshold can be used to changed precision/ recall. To explain, we consider an example from Handon- ML and Tensor page 69\n",
    "\n"
   ]
  },
  {
   "cell_type": "code",
   "execution_count": null,
   "metadata": {
    "collapsed": true
   },
   "outputs": [],
   "source": []
  }
 ],
 "metadata": {
  "kernelspec": {
   "display_name": "Python 3",
   "language": "python",
   "name": "python3"
  },
  "language_info": {
   "codemirror_mode": {
    "name": "ipython",
    "version": 3
   },
   "file_extension": ".py",
   "mimetype": "text/x-python",
   "name": "python",
   "nbconvert_exporter": "python",
   "pygments_lexer": "ipython3",
   "version": "3.6.2"
  }
 },
 "nbformat": 4,
 "nbformat_minor": 2
}
