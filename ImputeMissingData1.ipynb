{
 "cells": [
  {
   "cell_type": "markdown",
   "metadata": {},
   "source": [
    "## Impute missing values by predicting missing values when index is date time \n",
    "* Common techniques includes mean/ median for numeric values and most frequent values for nominal/ text data. Especially, these methods may depend on the group where values are computed. E.g: We may compute mean/ median /most for each group and assign these values to missing ones. See more ImputingMissingWithPima.ipynb notebook   \n",
    "* Second approach is to use a predicted model to generate \"new values\"for those missing ones. Eg.: Random Forest model.    \n",
    "* Third approach comes from signal processing which will be presented in this notebook. It requires index data being date time. E.g: time series when up-sampling generates several undetermined values"
   ]
  },
  {
   "cell_type": "code",
   "execution_count": 1,
   "metadata": {
    "collapsed": true
   },
   "outputs": [],
   "source": [
    "import numpy as np\n",
    "import pylab as pl\n",
    "from numpy import fft\n",
    "    \n",
    "def fourierExtrapolation(x, n_predict):\n",
    "    n = x.size\n",
    "    n_harm = 10                     # number of harmonics in model\n",
    "    t = np.arange(0, n)\n",
    "    p = np.polyfit(t, x, 1)         # find linear trend in x\n",
    "    x_notrend = x - p[0] * t        # detrended x\n",
    "    x_freqdom = fft.fft(x_notrend)  # detrended x in frequency domain\n",
    "    f = fft.fftfreq(n)              # frequencies\n",
    "    indexes = range(n)\n",
    "    # sort indexes by frequency, lower -> higher\n",
    "    indexes.sort(key = lambda i: np.absolute(f[i]))\n",
    " \n",
    "    t = np.arange(0, n + n_predict)\n",
    "    restored_sig = np.zeros(t.size)\n",
    "    for i in indexes[:1 + n_harm * 2]:\n",
    "        ampli = np.absolute(x_freqdom[i]) / n   # amplitude\n",
    "        phase = np.angle(x_freqdom[i])          # phase\n",
    "        restored_sig += ampli * np.cos(2 * np.pi * f[i] * t + phase)\n",
    "    return restored_sig + p[0] * t"
   ]
  },
  {
   "cell_type": "code",
   "execution_count": null,
   "metadata": {},
   "outputs": [],
   "source": [
    "\n"
   ]
  },
  {
   "cell_type": "markdown",
   "metadata": {
    "collapsed": true
   },
   "source": [
    "## Temperature Predictions Hacker Rank  challenge\n",
    "This problem demontrates how to fill missing value with pandas intepolate. Origin problem from\n",
    "https://www.hackerrank.com/challenges/temperature-predictions. Given a record containing the maximum and minimum monthly temperatures at a particular station. The record shows the temperature information for each month in a data range from January 1908  to March 2012 ; however, some of the temperature values have been blanked out! Estimate and print the missing values. \n",
    "**Brief information:** The first line contains an integer, N, denoting the number of rows of data in the input file. \n",
    "The second line contains the header for the tab-separated file; this line can be ignored, and is simply there to make the test case easier to read.   \n",
    "The N subsequent lines each describe the respective , year, month, maximum temporature  and minimum temporature data as a row of tab-separated values. In some of the rows, The minum or maximum temperature field has been blanked out and replaced by:Missing_1 , Missing_2 , etc.   \n",
    "** Sample Input ** \n",
    "20   \n",
    "yyyy    month     tmax        tmin   \n",
    "1908    January   5.0        -1.4   \n",
    "1908    February  7.3         1.9   \n",
    "1908    March     6.2         0.3   \n",
    "1908    April     Missing_1   2.1   \n",
    "1908    May       Missing_2   7.7   \n",
    "1908    June      17.7        8.7   \n",
    "1908    July      Missing_3  11.0   \n",
    "1908    August    17.5        9.7   \n",
    "1908    September 16.3        8.4   \n",
    "** Sample output***   \n",
    "The four missing values (Missing_1,Missing_2 ,Missing_3 , and Missing_4) are:     \n",
    "8.6   \n",
    "15.8   \n",
    "18.9   \n"
   ]
  },
  {
   "cell_type": "code",
   "execution_count": 1,
   "metadata": {
    "collapsed": true
   },
   "outputs": [],
   "source": [
    "import fileinput\n",
    "import pandas as pd\n",
    "import numpy as np\n",
    "\n",
    "#####Extract the minimum and maximum temperature data\n",
    "#####   Append NA (empty value) to missing value\n",
    "#####   Store the location of missing value in missing_dict\n",
    "i=-2\n",
    "temperature=[]\n",
    "min_temp =[]\n",
    "max_temp = []\n",
    "missing_dict={}\n"
   ]
  },
  {
   "cell_type": "code",
   "execution_count": 2,
   "metadata": {},
   "outputs": [
    {
     "name": "stdout",
     "output_type": "stream",
     "text": [
      "20\n",
      "yyyy    month     tmax        tmin\n",
      "1908    January   5.0        -1.4\n",
      "1908    February  7.3         1.9\n",
      "1908    March     6.2         0.3\n",
      "1908    April     Missing_1   2.1\n",
      "1908    May       Missing_2   7.7\n",
      "1908    June      17.7        8.7\n",
      "1908    July      Missing_3  11.0\n",
      "1908    August    17.5        9.7\n",
      "1908    September 16.3        8.4\n",
      "1908    October   14.6        8.0\n",
      "1908    November   9.6        3.4\n",
      "1908    December   5.8        Missing_4\n",
      "1909    January    5.0        0.1\n",
      "1909    February   5.5       -0.3\n",
      "1909    March      5.6       -0.3\n",
      "1909    April     12.2        3.3\n",
      "1909    May       14.7        4.8\n",
      "1909    June      15.0        7.5\n",
      "1909    July      17.3       10.8\n",
      "1909    August    18.8       10.7  \n"
     ]
    }
   ],
   "source": [
    "no_test = int(input()) # a number of  data\n",
    "input() # skip columns name \n",
    "for i in range(no_test):\n",
    "    temperature_list = input().split()\n",
    "    if \"Missing\" not in temperature_list[2]:\n",
    "        min_temp.append(float(temperature_list[2]))\n",
    "    else:\n",
    "        missing_dict[int(temperature_list[2].replace(\"Missing_\",\"\").replace(\"\\n\",\"\"))]=['min',i]\n",
    "        min_temp.append(np.nan)\n",
    "    if \"Missing\" not in temperature_list[3]:\n",
    "        max_temp.append(float(temperature_list[3].replace(\"\\n\",\"\")))\n",
    "    else:\n",
    "        max_temp.append(np.nan)\n",
    "        missing_dict[int(temperature_list[3].replace(\"Missing_\",\"\").replace(\"\\n\",\"\"))]=['max',i]\n"
   ]
  },
  {
   "cell_type": "code",
   "execution_count": 3,
   "metadata": {},
   "outputs": [
    {
     "name": "stdout",
     "output_type": "stream",
     "text": [
      "10.0333333333\n",
      "13.8666666667\n",
      "17.6\n",
      "1.75\n"
     ]
    }
   ],
   "source": [
    "##### Interpolate the data i.e fill the missing value     \n",
    "d = {'min' : pd.Series(min_temp),'max' : pd.Series(max_temp)}\n",
    "df = pd.DataFrame(d)\n",
    "df_processed = df.interpolate()\n",
    "\n",
    "##### Print the filling missing value\n",
    "for x in sorted(missing_dict.keys()):\n",
    "    print(df_processed[missing_dict[x][0]][missing_dict[x][1]])\n"
   ]
  },
  {
   "cell_type": "code",
   "execution_count": null,
   "metadata": {
    "collapsed": true
   },
   "outputs": [],
   "source": []
  }
 ],
 "metadata": {
  "kernelspec": {
   "display_name": "Python 3",
   "language": "python",
   "name": "python3"
  },
  "language_info": {
   "codemirror_mode": {
    "name": "ipython",
    "version": 3
   },
   "file_extension": ".py",
   "mimetype": "text/x-python",
   "name": "python",
   "nbconvert_exporter": "python",
   "pygments_lexer": "ipython3",
   "version": "3.6.2"
  }
 },
 "nbformat": 4,
 "nbformat_minor": 2
}
