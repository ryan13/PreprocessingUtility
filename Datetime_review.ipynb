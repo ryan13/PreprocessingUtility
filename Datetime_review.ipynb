{
 "cells": [
  {
   "cell_type": "code",
   "execution_count": 58,
   "metadata": {},
   "outputs": [
    {
     "name": "stdout",
     "output_type": "stream",
     "text": [
      "2020-04-26 10:26:05.132521\n"
     ]
    }
   ],
   "source": [
    "from datetime import datetime, timedelta\n",
    "from calendar import mdays\n",
    "import pandas as pd\n",
    "\n",
    "current_date= datetime.now()\n",
    "print(current_date)"
   ]
  },
  {
   "cell_type": "code",
   "execution_count": 6,
   "metadata": {},
   "outputs": [
    {
     "data": {
      "text/plain": [
       "<function datetime.date>"
      ]
     },
     "execution_count": 6,
     "metadata": {},
     "output_type": "execute_result"
    }
   ],
   "source": [
    "current_date.date"
   ]
  },
  {
   "cell_type": "code",
   "execution_count": 7,
   "metadata": {},
   "outputs": [
    {
     "name": "stdout",
     "output_type": "stream",
     "text": [
      "2019-10-31 00:00:00\n",
      "Type:  <class 'datetime.datetime'>\n"
     ]
    }
   ],
   "source": [
    "my_string = '2019-10-31'\n",
    "\n",
    "# Create date object in given time format yyyy-mm-dd\n",
    "my_date = datetime.strptime(my_string, \"%Y-%m-%d\")\n",
    "\n",
    "print(my_date)\n",
    "print('Type: ',type(my_date))"
   ]
  },
  {
   "cell_type": "code",
   "execution_count": 12,
   "metadata": {},
   "outputs": [
    {
     "name": "stdout",
     "output_type": "stream",
     "text": [
      "2019-10-31 00:00:00\n"
     ]
    }
   ],
   "source": [
    "print(my_date)"
   ]
  },
  {
   "cell_type": "code",
   "execution_count": 14,
   "metadata": {},
   "outputs": [
    {
     "data": {
      "text/plain": [
       "'26/04/2020'"
      ]
     },
     "execution_count": 14,
     "metadata": {},
     "output_type": "execute_result"
    }
   ],
   "source": [
    "current_date.strftime(\"%d/%m/%Y\")"
   ]
  },
  {
   "cell_type": "code",
   "execution_count": 16,
   "metadata": {},
   "outputs": [
    {
     "data": {
      "text/plain": [
       "'09:15:09'"
      ]
     },
     "execution_count": 16,
     "metadata": {},
     "output_type": "execute_result"
    }
   ],
   "source": [
    "current_date.strftime(\"%H:%M:%S\")"
   ]
  },
  {
   "cell_type": "code",
   "execution_count": 22,
   "metadata": {},
   "outputs": [
    {
     "name": "stdout",
     "output_type": "stream",
     "text": [
      "2020-05-06 09:23:49.111848\n"
     ]
    }
   ],
   "source": [
    "print(current_date + timedelta(10))"
   ]
  },
  {
   "cell_type": "code",
   "execution_count": 28,
   "metadata": {},
   "outputs": [
    {
     "name": "stdout",
     "output_type": "stream",
     "text": [
      "DatetimeIndex(['2020-01-27', '2020-12-02'], dtype='datetime64[ns]', freq=None)\n"
     ]
    }
   ],
   "source": [
    "# Saturday January 27, 2020\n",
    "\n",
    "date_data_one = ['Saturday January 27, 2020', 'Saturday December 2, 2020']\n",
    "date_data_one = pd.to_datetime(date_data_one, format=\"%A %B %d, %Y\")\n",
    "print(date_data_one)"
   ]
  },
  {
   "cell_type": "code",
   "execution_count": 29,
   "metadata": {},
   "outputs": [
    {
     "name": "stdout",
     "output_type": "stream",
     "text": [
      "DatetimeIndex(['2020-01-27', '2020-12-02'], dtype='datetime64[ns]', freq=None)\n"
     ]
    }
   ],
   "source": [
    "# Saturday January 27, 2017\n",
    "date_data_one = pd.to_datetime(date_data_one, format=\"%A %B %d, %Y\")\n",
    "print(date_data_one)"
   ]
  },
  {
   "cell_type": "code",
   "execution_count": 30,
   "metadata": {},
   "outputs": [
    {
     "name": "stdout",
     "output_type": "stream",
     "text": [
      "DatetimeIndex(['2017-01-01', '2016-05-03'], dtype='datetime64[ns]', freq=None)\n"
     ]
    }
   ],
   "source": [
    "date_data_two = ['2017-01-01', '2016-05-03']\n",
    "date_data_two = pd.to_datetime(date_data_two, format=\"%Y-%m-%d\")\n",
    "print(date_data_two)"
   ]
  },
  {
   "cell_type": "code",
   "execution_count": 31,
   "metadata": {},
   "outputs": [
    {
     "name": "stdout",
     "output_type": "stream",
     "text": [
      "DatetimeIndex(['2016-03-01 01:56:00', '2016-01-04 02:16:00'], dtype='datetime64[ns]', freq=None)\n"
     ]
    }
   ],
   "source": [
    "date_data_four = ['2016 March 01 01:56', '2016 January 4 02:16']\n",
    "date_data_four = pd.to_datetime(date_data_four, format=\"%Y %B %d %H:%M\")\n",
    "print(date_data_four)"
   ]
  },
  {
   "cell_type": "code",
   "execution_count": 123,
   "metadata": {},
   "outputs": [
    {
     "data": {
      "text/html": [
       "<div>\n",
       "<style scoped>\n",
       "    .dataframe tbody tr th:only-of-type {\n",
       "        vertical-align: middle;\n",
       "    }\n",
       "\n",
       "    .dataframe tbody tr th {\n",
       "        vertical-align: top;\n",
       "    }\n",
       "\n",
       "    .dataframe thead th {\n",
       "        text-align: right;\n",
       "    }\n",
       "</style>\n",
       "<table border=\"1\" class=\"dataframe\">\n",
       "  <thead>\n",
       "    <tr style=\"text-align: right;\">\n",
       "      <th></th>\n",
       "      <th>date</th>\n",
       "      <th>uid</th>\n",
       "      <th>sku</th>\n",
       "      <th>price</th>\n",
       "    </tr>\n",
       "  </thead>\n",
       "  <tbody>\n",
       "    <tr>\n",
       "      <th>0</th>\n",
       "      <td>2017-07-10</td>\n",
       "      <td>41195147</td>\n",
       "      <td>sku_three_499</td>\n",
       "      <td>499</td>\n",
       "    </tr>\n",
       "    <tr>\n",
       "      <th>1</th>\n",
       "      <td>2017-07-15</td>\n",
       "      <td>41195147</td>\n",
       "      <td>sku_three_499</td>\n",
       "      <td>499</td>\n",
       "    </tr>\n",
       "    <tr>\n",
       "      <th>2</th>\n",
       "      <td>2017-11-12</td>\n",
       "      <td>41195147</td>\n",
       "      <td>sku_four_599</td>\n",
       "      <td>599</td>\n",
       "    </tr>\n",
       "    <tr>\n",
       "      <th>3</th>\n",
       "      <td>2017-09-26</td>\n",
       "      <td>91591874</td>\n",
       "      <td>sku_two_299</td>\n",
       "      <td>299</td>\n",
       "    </tr>\n",
       "    <tr>\n",
       "      <th>4</th>\n",
       "      <td>2017-12-01</td>\n",
       "      <td>91591874</td>\n",
       "      <td>sku_four_599</td>\n",
       "      <td>599</td>\n",
       "    </tr>\n",
       "  </tbody>\n",
       "</table>\n",
       "</div>"
      ],
      "text/plain": [
       "         date       uid            sku  price\n",
       "0  2017-07-10  41195147  sku_three_499    499\n",
       "1  2017-07-15  41195147  sku_three_499    499\n",
       "2  2017-11-12  41195147   sku_four_599    599\n",
       "3  2017-09-26  91591874    sku_two_299    299\n",
       "4  2017-12-01  91591874   sku_four_599    599"
      ]
     },
     "execution_count": 123,
     "metadata": {},
     "output_type": "execute_result"
    }
   ],
   "source": [
    "purchase = pd.read_csv('./Downloads/data/purchase_data_v1.csv')\n",
    "purchase.head()\n"
   ]
  },
  {
   "cell_type": "code",
   "execution_count": 124,
   "metadata": {},
   "outputs": [
    {
     "data": {
      "text/html": [
       "<div>\n",
       "<style scoped>\n",
       "    .dataframe tbody tr th:only-of-type {\n",
       "        vertical-align: middle;\n",
       "    }\n",
       "\n",
       "    .dataframe tbody tr th {\n",
       "        vertical-align: top;\n",
       "    }\n",
       "\n",
       "    .dataframe thead th {\n",
       "        text-align: right;\n",
       "    }\n",
       "</style>\n",
       "<table border=\"1\" class=\"dataframe\">\n",
       "  <thead>\n",
       "    <tr style=\"text-align: right;\">\n",
       "      <th></th>\n",
       "      <th>uid</th>\n",
       "      <th>reg_date</th>\n",
       "      <th>device</th>\n",
       "      <th>gender</th>\n",
       "      <th>country</th>\n",
       "      <th>age</th>\n",
       "    </tr>\n",
       "  </thead>\n",
       "  <tbody>\n",
       "    <tr>\n",
       "      <th>0</th>\n",
       "      <td>54030035.0</td>\n",
       "      <td>2017-06-29T00:00:00Z</td>\n",
       "      <td>and</td>\n",
       "      <td>M</td>\n",
       "      <td>USA</td>\n",
       "      <td>19</td>\n",
       "    </tr>\n",
       "    <tr>\n",
       "      <th>1</th>\n",
       "      <td>72574201.0</td>\n",
       "      <td>2018-03-05T00:00:00Z</td>\n",
       "      <td>iOS</td>\n",
       "      <td>F</td>\n",
       "      <td>TUR</td>\n",
       "      <td>22</td>\n",
       "    </tr>\n",
       "    <tr>\n",
       "      <th>2</th>\n",
       "      <td>64187558.0</td>\n",
       "      <td>2016-02-07T00:00:00Z</td>\n",
       "      <td>iOS</td>\n",
       "      <td>M</td>\n",
       "      <td>USA</td>\n",
       "      <td>16</td>\n",
       "    </tr>\n",
       "    <tr>\n",
       "      <th>3</th>\n",
       "      <td>92513925.0</td>\n",
       "      <td>2017-05-25T00:00:00Z</td>\n",
       "      <td>and</td>\n",
       "      <td>M</td>\n",
       "      <td>BRA</td>\n",
       "      <td>41</td>\n",
       "    </tr>\n",
       "    <tr>\n",
       "      <th>4</th>\n",
       "      <td>99231338.0</td>\n",
       "      <td>2017-03-26T00:00:00Z</td>\n",
       "      <td>iOS</td>\n",
       "      <td>M</td>\n",
       "      <td>FRA</td>\n",
       "      <td>59</td>\n",
       "    </tr>\n",
       "    <tr>\n",
       "      <th>...</th>\n",
       "      <td>...</td>\n",
       "      <td>...</td>\n",
       "      <td>...</td>\n",
       "      <td>...</td>\n",
       "      <td>...</td>\n",
       "      <td>...</td>\n",
       "    </tr>\n",
       "    <tr>\n",
       "      <th>9995</th>\n",
       "      <td>43138741.0</td>\n",
       "      <td>2016-11-23T00:00:00Z</td>\n",
       "      <td>and</td>\n",
       "      <td>M</td>\n",
       "      <td>BRA</td>\n",
       "      <td>16</td>\n",
       "    </tr>\n",
       "    <tr>\n",
       "      <th>9996</th>\n",
       "      <td>30326568.0</td>\n",
       "      <td>2016-08-21T00:00:00Z</td>\n",
       "      <td>and</td>\n",
       "      <td>M</td>\n",
       "      <td>BRA</td>\n",
       "      <td>15</td>\n",
       "    </tr>\n",
       "    <tr>\n",
       "      <th>9997</th>\n",
       "      <td>92384369.0</td>\n",
       "      <td>2015-08-20T00:00:00Z</td>\n",
       "      <td>and</td>\n",
       "      <td>F</td>\n",
       "      <td>DEU</td>\n",
       "      <td>33</td>\n",
       "    </tr>\n",
       "    <tr>\n",
       "      <th>9998</th>\n",
       "      <td>98809962.0</td>\n",
       "      <td>2017-04-08T00:00:00Z</td>\n",
       "      <td>iOS</td>\n",
       "      <td>F</td>\n",
       "      <td>FRA</td>\n",
       "      <td>32</td>\n",
       "    </tr>\n",
       "    <tr>\n",
       "      <th>9999</th>\n",
       "      <td>82078268.0</td>\n",
       "      <td>2018-02-23T00:00:00Z</td>\n",
       "      <td>and</td>\n",
       "      <td>F</td>\n",
       "      <td>CAN</td>\n",
       "      <td>31</td>\n",
       "    </tr>\n",
       "  </tbody>\n",
       "</table>\n",
       "<p>10000 rows × 6 columns</p>\n",
       "</div>"
      ],
      "text/plain": [
       "             uid              reg_date device gender country  age\n",
       "0     54030035.0  2017-06-29T00:00:00Z    and      M     USA   19\n",
       "1     72574201.0  2018-03-05T00:00:00Z    iOS      F     TUR   22\n",
       "2     64187558.0  2016-02-07T00:00:00Z    iOS      M     USA   16\n",
       "3     92513925.0  2017-05-25T00:00:00Z    and      M     BRA   41\n",
       "4     99231338.0  2017-03-26T00:00:00Z    iOS      M     FRA   59\n",
       "...          ...                   ...    ...    ...     ...  ...\n",
       "9995  43138741.0  2016-11-23T00:00:00Z    and      M     BRA   16\n",
       "9996  30326568.0  2016-08-21T00:00:00Z    and      M     BRA   15\n",
       "9997  92384369.0  2015-08-20T00:00:00Z    and      F     DEU   33\n",
       "9998  98809962.0  2017-04-08T00:00:00Z    iOS      F     FRA   32\n",
       "9999  82078268.0  2018-02-23T00:00:00Z    and      F     CAN   31\n",
       "\n",
       "[10000 rows x 6 columns]"
      ]
     },
     "execution_count": 124,
     "metadata": {},
     "output_type": "execute_result"
    }
   ],
   "source": [
    "customers = pd.read_csv('./Downloads/data/user_demographics_v1.csv')\n",
    "customers"
   ]
  },
  {
   "cell_type": "code",
   "execution_count": 125,
   "metadata": {},
   "outputs": [
    {
     "data": {
      "text/html": [
       "<div>\n",
       "<style scoped>\n",
       "    .dataframe tbody tr th:only-of-type {\n",
       "        vertical-align: middle;\n",
       "    }\n",
       "\n",
       "    .dataframe tbody tr th {\n",
       "        vertical-align: top;\n",
       "    }\n",
       "\n",
       "    .dataframe thead th {\n",
       "        text-align: right;\n",
       "    }\n",
       "</style>\n",
       "<table border=\"1\" class=\"dataframe\">\n",
       "  <thead>\n",
       "    <tr style=\"text-align: right;\">\n",
       "      <th></th>\n",
       "      <th>uid</th>\n",
       "      <th>reg_date</th>\n",
       "      <th>device</th>\n",
       "      <th>gender</th>\n",
       "      <th>country</th>\n",
       "      <th>age</th>\n",
       "      <th>date</th>\n",
       "      <th>sku</th>\n",
       "      <th>price</th>\n",
       "    </tr>\n",
       "  </thead>\n",
       "  <tbody>\n",
       "    <tr>\n",
       "      <th>0</th>\n",
       "      <td>92513925.0</td>\n",
       "      <td>2017-05-25T00:00:00Z</td>\n",
       "      <td>and</td>\n",
       "      <td>M</td>\n",
       "      <td>BRA</td>\n",
       "      <td>41</td>\n",
       "      <td>2017-10-20</td>\n",
       "      <td>sku_three_499</td>\n",
       "      <td>499</td>\n",
       "    </tr>\n",
       "    <tr>\n",
       "      <th>1</th>\n",
       "      <td>92513925.0</td>\n",
       "      <td>2017-05-25T00:00:00Z</td>\n",
       "      <td>and</td>\n",
       "      <td>M</td>\n",
       "      <td>BRA</td>\n",
       "      <td>41</td>\n",
       "      <td>2017-05-29</td>\n",
       "      <td>sku_two_299</td>\n",
       "      <td>299</td>\n",
       "    </tr>\n",
       "    <tr>\n",
       "      <th>2</th>\n",
       "      <td>92513925.0</td>\n",
       "      <td>2017-05-25T00:00:00Z</td>\n",
       "      <td>and</td>\n",
       "      <td>M</td>\n",
       "      <td>BRA</td>\n",
       "      <td>41</td>\n",
       "      <td>2017-08-23</td>\n",
       "      <td>sku_four_599</td>\n",
       "      <td>599</td>\n",
       "    </tr>\n",
       "    <tr>\n",
       "      <th>3</th>\n",
       "      <td>92513925.0</td>\n",
       "      <td>2017-05-25T00:00:00Z</td>\n",
       "      <td>and</td>\n",
       "      <td>M</td>\n",
       "      <td>BRA</td>\n",
       "      <td>41</td>\n",
       "      <td>2018-03-26</td>\n",
       "      <td>sku_six_1299</td>\n",
       "      <td>299</td>\n",
       "    </tr>\n",
       "    <tr>\n",
       "      <th>4</th>\n",
       "      <td>16377492.0</td>\n",
       "      <td>2016-10-16T00:00:00Z</td>\n",
       "      <td>and</td>\n",
       "      <td>M</td>\n",
       "      <td>BRA</td>\n",
       "      <td>20</td>\n",
       "      <td>2018-03-17</td>\n",
       "      <td>sku_one_199</td>\n",
       "      <td>199</td>\n",
       "    </tr>\n",
       "  </tbody>\n",
       "</table>\n",
       "</div>"
      ],
      "text/plain": [
       "          uid              reg_date device gender country  age        date  \\\n",
       "0  92513925.0  2017-05-25T00:00:00Z    and      M     BRA   41  2017-10-20   \n",
       "1  92513925.0  2017-05-25T00:00:00Z    and      M     BRA   41  2017-05-29   \n",
       "2  92513925.0  2017-05-25T00:00:00Z    and      M     BRA   41  2017-08-23   \n",
       "3  92513925.0  2017-05-25T00:00:00Z    and      M     BRA   41  2018-03-26   \n",
       "4  16377492.0  2016-10-16T00:00:00Z    and      M     BRA   20  2018-03-17   \n",
       "\n",
       "             sku  price  \n",
       "0  sku_three_499    499  \n",
       "1    sku_two_299    299  \n",
       "2   sku_four_599    599  \n",
       "3   sku_six_1299    299  \n",
       "4    sku_one_199    199  "
      ]
     },
     "execution_count": 125,
     "metadata": {},
     "output_type": "execute_result"
    }
   ],
   "source": [
    "user_purchases = pd.merge(customers, purchase)\n",
    "user_purchases.head()"
   ]
  },
  {
   "cell_type": "code",
   "execution_count": 133,
   "metadata": {},
   "outputs": [
    {
     "name": "stdout",
     "output_type": "stream",
     "text": [
      "<class 'pandas.core.frame.DataFrame'>\n",
      "Int64Index: 9006 entries, 0 to 9005\n",
      "Data columns (total 9 columns):\n",
      " #   Column    Non-Null Count  Dtype              \n",
      "---  ------    --------------  -----              \n",
      " 0   uid       9006 non-null   float64            \n",
      " 1   reg_date  9006 non-null   datetime64[ns, UTC]\n",
      " 2   device    9006 non-null   object             \n",
      " 3   gender    9006 non-null   object             \n",
      " 4   country   9006 non-null   object             \n",
      " 5   age       9006 non-null   int64              \n",
      " 6   date      9006 non-null   datetime64[ns]     \n",
      " 7   sku       9006 non-null   object             \n",
      " 8   price     9006 non-null   int64              \n",
      "dtypes: datetime64[ns, UTC](1), datetime64[ns](1), float64(1), int64(2), object(4)\n",
      "memory usage: 703.6+ KB\n"
     ]
    }
   ],
   "source": [
    "user_purchases[['reg_date','date']]= user_purchases[['reg_date','date']].apply(lambda x: pd.to_datetime(x)) \n",
    "\n",
    "# get date only column\n",
    "#user_purchases['reg_date'] = user_purchases['reg_date'].dt.date\n",
    "user_purchases.info()"
   ]
  },
  {
   "cell_type": "code",
   "execution_count": 134,
   "metadata": {},
   "outputs": [
    {
     "data": {
      "text/html": [
       "<div>\n",
       "<style scoped>\n",
       "    .dataframe tbody tr th:only-of-type {\n",
       "        vertical-align: middle;\n",
       "    }\n",
       "\n",
       "    .dataframe tbody tr th {\n",
       "        vertical-align: top;\n",
       "    }\n",
       "\n",
       "    .dataframe thead th {\n",
       "        text-align: right;\n",
       "    }\n",
       "</style>\n",
       "<table border=\"1\" class=\"dataframe\">\n",
       "  <thead>\n",
       "    <tr style=\"text-align: right;\">\n",
       "      <th></th>\n",
       "      <th>uid</th>\n",
       "      <th>reg_date</th>\n",
       "      <th>device</th>\n",
       "      <th>gender</th>\n",
       "      <th>country</th>\n",
       "      <th>age</th>\n",
       "      <th>date</th>\n",
       "      <th>sku</th>\n",
       "      <th>price</th>\n",
       "    </tr>\n",
       "  </thead>\n",
       "  <tbody>\n",
       "    <tr>\n",
       "      <th>0</th>\n",
       "      <td>92513925.0</td>\n",
       "      <td>2017-05-25 00:00:00+00:00</td>\n",
       "      <td>and</td>\n",
       "      <td>M</td>\n",
       "      <td>BRA</td>\n",
       "      <td>41</td>\n",
       "      <td>2017-10-20</td>\n",
       "      <td>sku_three_499</td>\n",
       "      <td>499</td>\n",
       "    </tr>\n",
       "    <tr>\n",
       "      <th>1</th>\n",
       "      <td>92513925.0</td>\n",
       "      <td>2017-05-25 00:00:00+00:00</td>\n",
       "      <td>and</td>\n",
       "      <td>M</td>\n",
       "      <td>BRA</td>\n",
       "      <td>41</td>\n",
       "      <td>2017-05-29</td>\n",
       "      <td>sku_two_299</td>\n",
       "      <td>299</td>\n",
       "    </tr>\n",
       "    <tr>\n",
       "      <th>2</th>\n",
       "      <td>92513925.0</td>\n",
       "      <td>2017-05-25 00:00:00+00:00</td>\n",
       "      <td>and</td>\n",
       "      <td>M</td>\n",
       "      <td>BRA</td>\n",
       "      <td>41</td>\n",
       "      <td>2017-08-23</td>\n",
       "      <td>sku_four_599</td>\n",
       "      <td>599</td>\n",
       "    </tr>\n",
       "    <tr>\n",
       "      <th>3</th>\n",
       "      <td>92513925.0</td>\n",
       "      <td>2017-05-25 00:00:00+00:00</td>\n",
       "      <td>and</td>\n",
       "      <td>M</td>\n",
       "      <td>BRA</td>\n",
       "      <td>41</td>\n",
       "      <td>2018-03-26</td>\n",
       "      <td>sku_six_1299</td>\n",
       "      <td>299</td>\n",
       "    </tr>\n",
       "    <tr>\n",
       "      <th>4</th>\n",
       "      <td>16377492.0</td>\n",
       "      <td>2016-10-16 00:00:00+00:00</td>\n",
       "      <td>and</td>\n",
       "      <td>M</td>\n",
       "      <td>BRA</td>\n",
       "      <td>20</td>\n",
       "      <td>2018-03-17</td>\n",
       "      <td>sku_one_199</td>\n",
       "      <td>199</td>\n",
       "    </tr>\n",
       "  </tbody>\n",
       "</table>\n",
       "</div>"
      ],
      "text/plain": [
       "          uid                  reg_date device gender country  age       date  \\\n",
       "0  92513925.0 2017-05-25 00:00:00+00:00    and      M     BRA   41 2017-10-20   \n",
       "1  92513925.0 2017-05-25 00:00:00+00:00    and      M     BRA   41 2017-05-29   \n",
       "2  92513925.0 2017-05-25 00:00:00+00:00    and      M     BRA   41 2017-08-23   \n",
       "3  92513925.0 2017-05-25 00:00:00+00:00    and      M     BRA   41 2018-03-26   \n",
       "4  16377492.0 2016-10-16 00:00:00+00:00    and      M     BRA   20 2018-03-17   \n",
       "\n",
       "             sku  price  \n",
       "0  sku_three_499    499  \n",
       "1    sku_two_299    299  \n",
       "2   sku_four_599    599  \n",
       "3   sku_six_1299    299  \n",
       "4    sku_one_199    199  "
      ]
     },
     "execution_count": 134,
     "metadata": {},
     "output_type": "execute_result"
    }
   ],
   "source": [
    "user_purchases.head()"
   ]
  },
  {
   "cell_type": "markdown",
   "metadata": {},
   "source": [
    "### How to get a next date after a month "
   ]
  },
  {
   "cell_type": "code",
   "execution_count": 86,
   "metadata": {},
   "outputs": [],
   "source": [
    "from datetime import date, timedelta\n",
    "\n",
    "def last_day_in_month(a_date, months_forward = 0):\n",
    "    month_index = a_date.year * 12 + a_date.month + months_forward\n",
    "    y = month_index // 12\n",
    "    m = (month_index % 12) + 1\n",
    "    return date(y, m, 1) - timedelta(1)\n",
    "\n",
    "def add_month(a_date, months = 1):\n",
    "    is_last_day = a_date == last_day_in_month(a_date)\n",
    "    last_in_target_month = last_day_in_month(a_date, months)\n",
    "    if is_last_day or a_date.day > last_in_target_month.day:\n",
    "        return last_in_target_month\n",
    "    else:\n",
    "        return last_in_target_month.replace(day = a_date.day)"
   ]
  },
  {
   "cell_type": "markdown",
   "metadata": {},
   "source": [
    "### Now when can get the next month of the same date`"
   ]
  },
  {
   "cell_type": "code",
   "execution_count": 135,
   "metadata": {},
   "outputs": [],
   "source": [
    "user_purchases['expired_trial'] = user_purchases['reg_date'].apply(lambda x: add_month(x))\n",
    "user_purchases['expired_trial'] = pd.to_datetime(user_purchases['expired_trial'])\n"
   ]
  },
  {
   "cell_type": "markdown",
   "metadata": {},
   "source": [
    "### Create a flag that indicates who makes a first purchase within a month"
   ]
  },
  {
   "cell_type": "code",
   "execution_count": 136,
   "metadata": {},
   "outputs": [
    {
     "data": {
      "text/html": [
       "<div>\n",
       "<style scoped>\n",
       "    .dataframe tbody tr th:only-of-type {\n",
       "        vertical-align: middle;\n",
       "    }\n",
       "\n",
       "    .dataframe tbody tr th {\n",
       "        vertical-align: top;\n",
       "    }\n",
       "\n",
       "    .dataframe thead th {\n",
       "        text-align: right;\n",
       "    }\n",
       "</style>\n",
       "<table border=\"1\" class=\"dataframe\">\n",
       "  <thead>\n",
       "    <tr style=\"text-align: right;\">\n",
       "      <th></th>\n",
       "      <th>date</th>\n",
       "      <th>expired_trial</th>\n",
       "    </tr>\n",
       "  </thead>\n",
       "  <tbody>\n",
       "    <tr>\n",
       "      <th>0</th>\n",
       "      <td>2017-10-20</td>\n",
       "      <td>2017-06-25</td>\n",
       "    </tr>\n",
       "    <tr>\n",
       "      <th>1</th>\n",
       "      <td>2017-05-29</td>\n",
       "      <td>2017-06-25</td>\n",
       "    </tr>\n",
       "    <tr>\n",
       "      <th>2</th>\n",
       "      <td>2017-08-23</td>\n",
       "      <td>2017-06-25</td>\n",
       "    </tr>\n",
       "    <tr>\n",
       "      <th>3</th>\n",
       "      <td>2018-03-26</td>\n",
       "      <td>2017-06-25</td>\n",
       "    </tr>\n",
       "    <tr>\n",
       "      <th>4</th>\n",
       "      <td>2018-03-17</td>\n",
       "      <td>2016-11-16</td>\n",
       "    </tr>\n",
       "  </tbody>\n",
       "</table>\n",
       "</div>"
      ],
      "text/plain": [
       "        date expired_trial\n",
       "0 2017-10-20    2017-06-25\n",
       "1 2017-05-29    2017-06-25\n",
       "2 2017-08-23    2017-06-25\n",
       "3 2018-03-26    2017-06-25\n",
       "4 2018-03-17    2016-11-16"
      ]
     },
     "execution_count": 136,
     "metadata": {},
     "output_type": "execute_result"
    }
   ],
   "source": [
    "user_purchases[['date','expired_trial']].head()"
   ]
  },
  {
   "cell_type": "code",
   "execution_count": 137,
   "metadata": {},
   "outputs": [
    {
     "name": "stdout",
     "output_type": "stream",
     "text": [
      "<class 'pandas.core.frame.DataFrame'>\n",
      "Int64Index: 9006 entries, 0 to 9005\n",
      "Data columns (total 10 columns):\n",
      " #   Column         Non-Null Count  Dtype              \n",
      "---  ------         --------------  -----              \n",
      " 0   uid            9006 non-null   float64            \n",
      " 1   reg_date       9006 non-null   datetime64[ns, UTC]\n",
      " 2   device         9006 non-null   object             \n",
      " 3   gender         9006 non-null   object             \n",
      " 4   country        9006 non-null   object             \n",
      " 5   age            9006 non-null   int64              \n",
      " 6   date           9006 non-null   datetime64[ns]     \n",
      " 7   sku            9006 non-null   object             \n",
      " 8   price          9006 non-null   int64              \n",
      " 9   expired_trial  9006 non-null   datetime64[ns]     \n",
      "dtypes: datetime64[ns, UTC](1), datetime64[ns](2), float64(1), int64(2), object(4)\n",
      "memory usage: 774.0+ KB\n"
     ]
    }
   ],
   "source": [
    "user_purchases.info()"
   ]
  },
  {
   "cell_type": "code",
   "execution_count": 138,
   "metadata": {},
   "outputs": [
    {
     "data": {
      "text/html": [
       "<div>\n",
       "<style scoped>\n",
       "    .dataframe tbody tr th:only-of-type {\n",
       "        vertical-align: middle;\n",
       "    }\n",
       "\n",
       "    .dataframe tbody tr th {\n",
       "        vertical-align: top;\n",
       "    }\n",
       "\n",
       "    .dataframe thead th {\n",
       "        text-align: right;\n",
       "    }\n",
       "</style>\n",
       "<table border=\"1\" class=\"dataframe\">\n",
       "  <thead>\n",
       "    <tr style=\"text-align: right;\">\n",
       "      <th></th>\n",
       "      <th>uid</th>\n",
       "      <th>reg_date</th>\n",
       "      <th>device</th>\n",
       "      <th>gender</th>\n",
       "      <th>country</th>\n",
       "      <th>age</th>\n",
       "      <th>date</th>\n",
       "      <th>sku</th>\n",
       "      <th>price</th>\n",
       "      <th>expired_trial</th>\n",
       "      <th>first_week_purchase</th>\n",
       "    </tr>\n",
       "  </thead>\n",
       "  <tbody>\n",
       "    <tr>\n",
       "      <th>0</th>\n",
       "      <td>92513925.0</td>\n",
       "      <td>2017-05-25 00:00:00+00:00</td>\n",
       "      <td>and</td>\n",
       "      <td>M</td>\n",
       "      <td>BRA</td>\n",
       "      <td>41</td>\n",
       "      <td>2017-10-20</td>\n",
       "      <td>sku_three_499</td>\n",
       "      <td>499</td>\n",
       "      <td>2017-06-25</td>\n",
       "      <td>0</td>\n",
       "    </tr>\n",
       "    <tr>\n",
       "      <th>1</th>\n",
       "      <td>92513925.0</td>\n",
       "      <td>2017-05-25 00:00:00+00:00</td>\n",
       "      <td>and</td>\n",
       "      <td>M</td>\n",
       "      <td>BRA</td>\n",
       "      <td>41</td>\n",
       "      <td>2017-05-29</td>\n",
       "      <td>sku_two_299</td>\n",
       "      <td>299</td>\n",
       "      <td>2017-06-25</td>\n",
       "      <td>1</td>\n",
       "    </tr>\n",
       "    <tr>\n",
       "      <th>2</th>\n",
       "      <td>92513925.0</td>\n",
       "      <td>2017-05-25 00:00:00+00:00</td>\n",
       "      <td>and</td>\n",
       "      <td>M</td>\n",
       "      <td>BRA</td>\n",
       "      <td>41</td>\n",
       "      <td>2017-08-23</td>\n",
       "      <td>sku_four_599</td>\n",
       "      <td>599</td>\n",
       "      <td>2017-06-25</td>\n",
       "      <td>0</td>\n",
       "    </tr>\n",
       "    <tr>\n",
       "      <th>3</th>\n",
       "      <td>92513925.0</td>\n",
       "      <td>2017-05-25 00:00:00+00:00</td>\n",
       "      <td>and</td>\n",
       "      <td>M</td>\n",
       "      <td>BRA</td>\n",
       "      <td>41</td>\n",
       "      <td>2018-03-26</td>\n",
       "      <td>sku_six_1299</td>\n",
       "      <td>299</td>\n",
       "      <td>2017-06-25</td>\n",
       "      <td>0</td>\n",
       "    </tr>\n",
       "    <tr>\n",
       "      <th>4</th>\n",
       "      <td>16377492.0</td>\n",
       "      <td>2016-10-16 00:00:00+00:00</td>\n",
       "      <td>and</td>\n",
       "      <td>M</td>\n",
       "      <td>BRA</td>\n",
       "      <td>20</td>\n",
       "      <td>2018-03-17</td>\n",
       "      <td>sku_one_199</td>\n",
       "      <td>199</td>\n",
       "      <td>2016-11-16</td>\n",
       "      <td>0</td>\n",
       "    </tr>\n",
       "  </tbody>\n",
       "</table>\n",
       "</div>"
      ],
      "text/plain": [
       "          uid                  reg_date device gender country  age       date  \\\n",
       "0  92513925.0 2017-05-25 00:00:00+00:00    and      M     BRA   41 2017-10-20   \n",
       "1  92513925.0 2017-05-25 00:00:00+00:00    and      M     BRA   41 2017-05-29   \n",
       "2  92513925.0 2017-05-25 00:00:00+00:00    and      M     BRA   41 2017-08-23   \n",
       "3  92513925.0 2017-05-25 00:00:00+00:00    and      M     BRA   41 2018-03-26   \n",
       "4  16377492.0 2016-10-16 00:00:00+00:00    and      M     BRA   20 2018-03-17   \n",
       "\n",
       "             sku  price expired_trial  first_week_purchase  \n",
       "0  sku_three_499    499    2017-06-25                    0  \n",
       "1    sku_two_299    299    2017-06-25                    1  \n",
       "2   sku_four_599    599    2017-06-25                    0  \n",
       "3   sku_six_1299    299    2017-06-25                    0  \n",
       "4    sku_one_199    199    2016-11-16                    0  "
      ]
     },
     "execution_count": 138,
     "metadata": {},
     "output_type": "execute_result"
    }
   ],
   "source": [
    "user_purchases= user_purchases.assign(first_week_purchase =lambda x: (user_purchases['expired_trial'] > user_purchases['date']).astype(int))\n",
    "user_purchases.head()"
   ]
  },
  {
   "cell_type": "markdown",
   "metadata": {},
   "source": [
    "**Filter this dataset to only include purchases that occurred on a date within the first 28 days. Recall that the date of purchase is stored in the date column.**"
   ]
  },
  {
   "cell_type": "markdown",
   "metadata": {},
   "source": [
    "**Note**: since column reg_date indicates timezone UTC, we may need to convert datetime into UTC time zone with**tx_localize** to avoid error:\n",
    "\n",
    "Cannot compare tz-naive and tz-aware timestamps error\n",
    "eg:\n",
    "pd.to_datetime('2015-01-01').tz_localize('US/Eastern') instead of naive dates such as datetime(2015, 1, 1, 0, 0, 0)"
   ]
  },
  {
   "cell_type": "code",
   "execution_count": 142,
   "metadata": {},
   "outputs": [
    {
     "data": {
      "text/html": [
       "<div>\n",
       "<style scoped>\n",
       "    .dataframe tbody tr th:only-of-type {\n",
       "        vertical-align: middle;\n",
       "    }\n",
       "\n",
       "    .dataframe tbody tr th {\n",
       "        vertical-align: top;\n",
       "    }\n",
       "\n",
       "    .dataframe thead th {\n",
       "        text-align: right;\n",
       "    }\n",
       "</style>\n",
       "<table border=\"1\" class=\"dataframe\">\n",
       "  <thead>\n",
       "    <tr style=\"text-align: right;\">\n",
       "      <th></th>\n",
       "      <th>uid</th>\n",
       "      <th>reg_date</th>\n",
       "      <th>device</th>\n",
       "      <th>gender</th>\n",
       "      <th>country</th>\n",
       "      <th>age</th>\n",
       "      <th>date</th>\n",
       "      <th>sku</th>\n",
       "      <th>price</th>\n",
       "      <th>expired_trial</th>\n",
       "      <th>first_week_purchase</th>\n",
       "    </tr>\n",
       "  </thead>\n",
       "  <tbody>\n",
       "    <tr>\n",
       "      <th>4</th>\n",
       "      <td>16377492.0</td>\n",
       "      <td>2016-10-16 00:00:00+00:00</td>\n",
       "      <td>and</td>\n",
       "      <td>M</td>\n",
       "      <td>BRA</td>\n",
       "      <td>20</td>\n",
       "      <td>2018-03-17</td>\n",
       "      <td>sku_one_199</td>\n",
       "      <td>199</td>\n",
       "      <td>2016-11-16</td>\n",
       "      <td>0</td>\n",
       "    </tr>\n",
       "    <tr>\n",
       "      <th>5</th>\n",
       "      <td>16377492.0</td>\n",
       "      <td>2016-10-16 00:00:00+00:00</td>\n",
       "      <td>and</td>\n",
       "      <td>M</td>\n",
       "      <td>BRA</td>\n",
       "      <td>20</td>\n",
       "      <td>2017-02-06</td>\n",
       "      <td>sku_three_499</td>\n",
       "      <td>499</td>\n",
       "      <td>2016-11-16</td>\n",
       "      <td>0</td>\n",
       "    </tr>\n",
       "    <tr>\n",
       "      <th>6</th>\n",
       "      <td>16377492.0</td>\n",
       "      <td>2016-10-16 00:00:00+00:00</td>\n",
       "      <td>and</td>\n",
       "      <td>M</td>\n",
       "      <td>BRA</td>\n",
       "      <td>20</td>\n",
       "      <td>2017-03-01</td>\n",
       "      <td>sku_seven_1499</td>\n",
       "      <td>499</td>\n",
       "      <td>2016-11-16</td>\n",
       "      <td>0</td>\n",
       "    </tr>\n",
       "    <tr>\n",
       "      <th>7</th>\n",
       "      <td>36350096.0</td>\n",
       "      <td>2017-04-07 00:00:00+00:00</td>\n",
       "      <td>and</td>\n",
       "      <td>M</td>\n",
       "      <td>USA</td>\n",
       "      <td>23</td>\n",
       "      <td>2017-04-21</td>\n",
       "      <td>sku_seven_1499</td>\n",
       "      <td>499</td>\n",
       "      <td>2017-05-07</td>\n",
       "      <td>1</td>\n",
       "    </tr>\n",
       "    <tr>\n",
       "      <th>8</th>\n",
       "      <td>36350096.0</td>\n",
       "      <td>2017-04-07 00:00:00+00:00</td>\n",
       "      <td>and</td>\n",
       "      <td>M</td>\n",
       "      <td>USA</td>\n",
       "      <td>23</td>\n",
       "      <td>2017-06-04</td>\n",
       "      <td>sku_three_499</td>\n",
       "      <td>499</td>\n",
       "      <td>2017-05-07</td>\n",
       "      <td>0</td>\n",
       "    </tr>\n",
       "    <tr>\n",
       "      <th>...</th>\n",
       "      <td>...</td>\n",
       "      <td>...</td>\n",
       "      <td>...</td>\n",
       "      <td>...</td>\n",
       "      <td>...</td>\n",
       "      <td>...</td>\n",
       "      <td>...</td>\n",
       "      <td>...</td>\n",
       "      <td>...</td>\n",
       "      <td>...</td>\n",
       "      <td>...</td>\n",
       "    </tr>\n",
       "    <tr>\n",
       "      <th>8998</th>\n",
       "      <td>90783242.0</td>\n",
       "      <td>2016-10-07 00:00:00+00:00</td>\n",
       "      <td>and</td>\n",
       "      <td>M</td>\n",
       "      <td>BRA</td>\n",
       "      <td>17</td>\n",
       "      <td>2017-10-11</td>\n",
       "      <td>sku_five_899</td>\n",
       "      <td>899</td>\n",
       "      <td>2016-11-07</td>\n",
       "      <td>0</td>\n",
       "    </tr>\n",
       "    <tr>\n",
       "      <th>8999</th>\n",
       "      <td>90783242.0</td>\n",
       "      <td>2016-10-07 00:00:00+00:00</td>\n",
       "      <td>and</td>\n",
       "      <td>M</td>\n",
       "      <td>BRA</td>\n",
       "      <td>17</td>\n",
       "      <td>2017-10-27</td>\n",
       "      <td>sku_four_599</td>\n",
       "      <td>599</td>\n",
       "      <td>2016-11-07</td>\n",
       "      <td>0</td>\n",
       "    </tr>\n",
       "    <tr>\n",
       "      <th>9000</th>\n",
       "      <td>90783242.0</td>\n",
       "      <td>2016-10-07 00:00:00+00:00</td>\n",
       "      <td>and</td>\n",
       "      <td>M</td>\n",
       "      <td>BRA</td>\n",
       "      <td>17</td>\n",
       "      <td>2018-01-04</td>\n",
       "      <td>sku_one_199</td>\n",
       "      <td>199</td>\n",
       "      <td>2016-11-07</td>\n",
       "      <td>0</td>\n",
       "    </tr>\n",
       "    <tr>\n",
       "      <th>9001</th>\n",
       "      <td>91591874.0</td>\n",
       "      <td>2017-01-05 00:00:00+00:00</td>\n",
       "      <td>and</td>\n",
       "      <td>M</td>\n",
       "      <td>TUR</td>\n",
       "      <td>17</td>\n",
       "      <td>2017-09-26</td>\n",
       "      <td>sku_two_299</td>\n",
       "      <td>299</td>\n",
       "      <td>2017-02-05</td>\n",
       "      <td>0</td>\n",
       "    </tr>\n",
       "    <tr>\n",
       "      <th>9002</th>\n",
       "      <td>91591874.0</td>\n",
       "      <td>2017-01-05 00:00:00+00:00</td>\n",
       "      <td>and</td>\n",
       "      <td>M</td>\n",
       "      <td>TUR</td>\n",
       "      <td>17</td>\n",
       "      <td>2017-12-01</td>\n",
       "      <td>sku_four_599</td>\n",
       "      <td>599</td>\n",
       "      <td>2017-02-05</td>\n",
       "      <td>0</td>\n",
       "    </tr>\n",
       "  </tbody>\n",
       "</table>\n",
       "<p>7418 rows × 11 columns</p>\n",
       "</div>"
      ],
      "text/plain": [
       "             uid                  reg_date device gender country  age  \\\n",
       "4     16377492.0 2016-10-16 00:00:00+00:00    and      M     BRA   20   \n",
       "5     16377492.0 2016-10-16 00:00:00+00:00    and      M     BRA   20   \n",
       "6     16377492.0 2016-10-16 00:00:00+00:00    and      M     BRA   20   \n",
       "7     36350096.0 2017-04-07 00:00:00+00:00    and      M     USA   23   \n",
       "8     36350096.0 2017-04-07 00:00:00+00:00    and      M     USA   23   \n",
       "...          ...                       ...    ...    ...     ...  ...   \n",
       "8998  90783242.0 2016-10-07 00:00:00+00:00    and      M     BRA   17   \n",
       "8999  90783242.0 2016-10-07 00:00:00+00:00    and      M     BRA   17   \n",
       "9000  90783242.0 2016-10-07 00:00:00+00:00    and      M     BRA   17   \n",
       "9001  91591874.0 2017-01-05 00:00:00+00:00    and      M     TUR   17   \n",
       "9002  91591874.0 2017-01-05 00:00:00+00:00    and      M     TUR   17   \n",
       "\n",
       "           date             sku  price expired_trial  first_week_purchase  \n",
       "4    2018-03-17     sku_one_199    199    2016-11-16                    0  \n",
       "5    2017-02-06   sku_three_499    499    2016-11-16                    0  \n",
       "6    2017-03-01  sku_seven_1499    499    2016-11-16                    0  \n",
       "7    2017-04-21  sku_seven_1499    499    2017-05-07                    1  \n",
       "8    2017-06-04   sku_three_499    499    2017-05-07                    0  \n",
       "...         ...             ...    ...           ...                  ...  \n",
       "8998 2017-10-11    sku_five_899    899    2016-11-07                    0  \n",
       "8999 2017-10-27    sku_four_599    599    2016-11-07                    0  \n",
       "9000 2018-01-04     sku_one_199    199    2016-11-07                    0  \n",
       "9001 2017-09-26     sku_two_299    299    2017-02-05                    0  \n",
       "9002 2017-12-01    sku_four_599    599    2017-02-05                    0  \n",
       "\n",
       "[7418 rows x 11 columns]"
      ]
     },
     "execution_count": 142,
     "metadata": {},
     "output_type": "execute_result"
    }
   ],
   "source": [
    "# Compute max_purchase_date\n",
    "max_purchase_date = pd.to_datetime('2017-05-20').tz_localize('UTC') - timedelta(days=28)\n",
    "\n",
    "# Filter to only include users who registered before our max date\n",
    "purchase_data_filt = user_purchases[user_purchases.reg_date < max_purchase_date]\n",
    "purchase_data_filt"
   ]
  },
  {
   "cell_type": "code",
   "execution_count": 151,
   "metadata": {},
   "outputs": [
    {
     "name": "stdout",
     "output_type": "stream",
     "text": [
      "<class 'pandas.core.frame.DataFrame'>\n",
      "Int64Index: 9006 entries, 0 to 9005\n",
      "Data columns (total 11 columns):\n",
      " #   Column               Non-Null Count  Dtype              \n",
      "---  ------               --------------  -----              \n",
      " 0   uid                  9006 non-null   float64            \n",
      " 1   reg_date             9006 non-null   datetime64[ns, UTC]\n",
      " 2   device               9006 non-null   object             \n",
      " 3   gender               9006 non-null   object             \n",
      " 4   country              9006 non-null   object             \n",
      " 5   age                  9006 non-null   int64              \n",
      " 6   date                 9006 non-null   datetime64[ns]     \n",
      " 7   sku                  9006 non-null   object             \n",
      " 8   price                9006 non-null   int64              \n",
      " 9   expired_trial        9006 non-null   datetime64[ns]     \n",
      " 10  first_week_purchase  9006 non-null   int64              \n",
      "dtypes: datetime64[ns, UTC](1), datetime64[ns](2), float64(1), int64(3), object(4)\n",
      "memory usage: 844.3+ KB\n"
     ]
    }
   ],
   "source": [
    "user_purchases.info()"
   ]
  },
  {
   "cell_type": "markdown",
   "metadata": {},
   "source": [
    "To ease the calculation, we may want to remove timezone\n"
   ]
  },
  {
   "cell_type": "code",
   "execution_count": 155,
   "metadata": {},
   "outputs": [],
   "source": [
    "user_purchases.reg_date =user_purchases.reg_date.dt.tz_localize(None)"
   ]
  },
  {
   "cell_type": "code",
   "execution_count": 156,
   "metadata": {},
   "outputs": [
    {
     "name": "stdout",
     "output_type": "stream",
     "text": [
      "<class 'pandas.core.frame.DataFrame'>\n",
      "Int64Index: 9006 entries, 0 to 9005\n",
      "Data columns (total 11 columns):\n",
      " #   Column               Non-Null Count  Dtype         \n",
      "---  ------               --------------  -----         \n",
      " 0   uid                  9006 non-null   float64       \n",
      " 1   reg_date             9006 non-null   datetime64[ns]\n",
      " 2   device               9006 non-null   object        \n",
      " 3   gender               9006 non-null   object        \n",
      " 4   country              9006 non-null   object        \n",
      " 5   age                  9006 non-null   int64         \n",
      " 6   date                 9006 non-null   datetime64[ns]\n",
      " 7   sku                  9006 non-null   object        \n",
      " 8   price                9006 non-null   int64         \n",
      " 9   expired_trial        9006 non-null   datetime64[ns]\n",
      " 10  first_week_purchase  9006 non-null   int64         \n",
      "dtypes: datetime64[ns](3), float64(1), int64(3), object(4)\n",
      "memory usage: 844.3+ KB\n"
     ]
    }
   ],
   "source": [
    "user_purchases.info()"
   ]
  },
  {
   "cell_type": "code",
   "execution_count": null,
   "metadata": {},
   "outputs": [],
   "source": []
  }
 ],
 "metadata": {
  "kernelspec": {
   "display_name": "Python 3",
   "language": "python",
   "name": "python3"
  },
  "language_info": {
   "codemirror_mode": {
    "name": "ipython",
    "version": 3
   },
   "file_extension": ".py",
   "mimetype": "text/x-python",
   "name": "python",
   "nbconvert_exporter": "python",
   "pygments_lexer": "ipython3",
   "version": "3.7.6"
  }
 },
 "nbformat": 4,
 "nbformat_minor": 4
}
