{
 "cells": [
  {
   "cell_type": "markdown",
   "metadata": {},
   "source": [
    "This notebook is from the [R_datacarpentry](https://datacarpentry.org/r-socialsci/03-dplyr-tidyr/index.html). The purpose is to review  for interview.    \n",
    "1. **tidyverse**  \n",
    "\n"
   ]
  },
  {
   "cell_type": "code",
   "execution_count": 1,
   "metadata": {},
   "outputs": [
    {
     "name": "stderr",
     "output_type": "stream",
     "text": [
      "Registered S3 methods overwritten by 'ggplot2':\n",
      "  method         from \n",
      "  [.quosures     rlang\n",
      "  c.quosures     rlang\n",
      "  print.quosures rlang\n",
      "Registered S3 method overwritten by 'rvest':\n",
      "  method            from\n",
      "  read_xml.response xml2\n",
      "-- Attaching packages --------------------------------------- tidyverse 1.2.1 --\n",
      "v ggplot2 3.1.1       v purrr   0.3.2  \n",
      "v tibble  2.1.1       v dplyr   0.8.0.1\n",
      "v tidyr   0.8.3       v stringr 1.4.0  \n",
      "v readr   1.3.1       v forcats 0.4.0  \n",
      "-- Conflicts ------------------------------------------ tidyverse_conflicts() --\n",
      "x dplyr::filter() masks stats::filter()\n",
      "x dplyr::lag()    masks stats::lag()\n",
      "Parsed with column specification:\n",
      "cols(\n",
      "  key_ID = col_double(),\n",
      "  village = col_character(),\n",
      "  interview_date = col_datetime(format = \"\"),\n",
      "  no_membrs = col_double(),\n",
      "  years_liv = col_double(),\n",
      "  respondent_wall_type = col_character(),\n",
      "  rooms = col_double(),\n",
      "  memb_assoc = col_character(),\n",
      "  affect_conflicts = col_character(),\n",
      "  liv_count = col_double(),\n",
      "  items_owned = col_character(),\n",
      "  no_meals = col_double(),\n",
      "  months_lack_food = col_character(),\n",
      "  instanceID = col_character()\n",
      ")\n"
     ]
    },
    {
     "data": {
      "text/html": [
       "<table>\n",
       "<thead><tr><th scope=col>key_ID</th><th scope=col>village</th><th scope=col>interview_date</th><th scope=col>no_membrs</th><th scope=col>years_liv</th><th scope=col>respondent_wall_type</th><th scope=col>rooms</th><th scope=col>memb_assoc</th><th scope=col>affect_conflicts</th><th scope=col>liv_count</th><th scope=col>items_owned</th><th scope=col>no_meals</th><th scope=col>months_lack_food</th><th scope=col>instanceID</th></tr></thead>\n",
       "<tbody>\n",
       "\t<tr><td>1                                                                           </td><td>God                                                                         </td><td>2016-11-17                                                                  </td><td> 3                                                                          </td><td> 4                                                                          </td><td>muddaub                                                                     </td><td>1                                                                           </td><td>NA                                                                          </td><td>NA                                                                          </td><td>1                                                                           </td><td>bicycle;television;solar_panel;table                                        </td><td>2                                                                           </td><td>Jan                                                                         </td><td>uuid:ec241f2c-0609-46ed-b5e8-fe575f6cefef                                   </td></tr>\n",
       "\t<tr><td>1                                                                           </td><td>God                                                                         </td><td>2016-11-17                                                                  </td><td> 7                                                                          </td><td> 9                                                                          </td><td>muddaub                                                                     </td><td>1                                                                           </td><td>yes                                                                         </td><td>once                                                                        </td><td>3                                                                           </td><td>cow_cart;bicycle;radio;cow_plough;solar_panel;solar_torch;table;mobile_phone</td><td>2                                                                           </td><td>Jan;Sept;Oct;Nov;Dec                                                        </td><td>uuid:099de9c9-3e5e-427b-8452-26250e840d6e                                   </td></tr>\n",
       "\t<tr><td>3                                                                           </td><td>God                                                                         </td><td>2016-11-17                                                                  </td><td>10                                                                          </td><td>15                                                                          </td><td>burntbricks                                                                 </td><td>1                                                                           </td><td>NA                                                                          </td><td>NA                                                                          </td><td>1                                                                           </td><td>solar_torch                                                                 </td><td>2                                                                           </td><td>Jan;Feb;Mar;Oct;Nov;Dec                                                     </td><td>uuid:193d7daf-9582-409b-bf09-027dd36f9007                                   </td></tr>\n",
       "</tbody>\n",
       "</table>\n"
      ],
      "text/latex": [
       "\\begin{tabular}{r|llllllllllllll}\n",
       " key\\_ID & village & interview\\_date & no\\_membrs & years\\_liv & respondent\\_wall\\_type & rooms & memb\\_assoc & affect\\_conflicts & liv\\_count & items\\_owned & no\\_meals & months\\_lack\\_food & instanceID\\\\\n",
       "\\hline\n",
       "\t 1                                                                              & God                                                                            & 2016-11-17                                                                     &  3                                                                             &  4                                                                             & muddaub                                                                        & 1                                                                              & NA                                                                             & NA                                                                             & 1                                                                              & bicycle;television;solar\\_panel;table                                         & 2                                                                              & Jan                                                                            & uuid:ec241f2c-0609-46ed-b5e8-fe575f6cefef                                     \\\\\n",
       "\t 1                                                                                      & God                                                                                    & 2016-11-17                                                                             &  7                                                                                     &  9                                                                                     & muddaub                                                                                & 1                                                                                      & yes                                                                                    & once                                                                                   & 3                                                                                      & cow\\_cart;bicycle;radio;cow\\_plough;solar\\_panel;solar\\_torch;table;mobile\\_phone & 2                                                                                      & Jan;Sept;Oct;Nov;Dec                                                                   & uuid:099de9c9-3e5e-427b-8452-26250e840d6e                                             \\\\\n",
       "\t 3                                                                              & God                                                                            & 2016-11-17                                                                     & 10                                                                             & 15                                                                             & burntbricks                                                                    & 1                                                                              & NA                                                                             & NA                                                                             & 1                                                                              & solar\\_torch                                                                  & 2                                                                              & Jan;Feb;Mar;Oct;Nov;Dec                                                        & uuid:193d7daf-9582-409b-bf09-027dd36f9007                                     \\\\\n",
       "\\end{tabular}\n"
      ],
      "text/markdown": [
       "\n",
       "| key_ID | village | interview_date | no_membrs | years_liv | respondent_wall_type | rooms | memb_assoc | affect_conflicts | liv_count | items_owned | no_meals | months_lack_food | instanceID |\n",
       "|---|---|---|---|---|---|---|---|---|---|---|---|---|---|\n",
       "| 1                                                                            | God                                                                          | 2016-11-17                                                                   |  3                                                                           |  4                                                                           | muddaub                                                                      | 1                                                                            | NA                                                                           | NA                                                                           | 1                                                                            | bicycle;television;solar_panel;table                                         | 2                                                                            | Jan                                                                          | uuid:ec241f2c-0609-46ed-b5e8-fe575f6cefef                                    |\n",
       "| 1                                                                            | God                                                                          | 2016-11-17                                                                   |  7                                                                           |  9                                                                           | muddaub                                                                      | 1                                                                            | yes                                                                          | once                                                                         | 3                                                                            | cow_cart;bicycle;radio;cow_plough;solar_panel;solar_torch;table;mobile_phone | 2                                                                            | Jan;Sept;Oct;Nov;Dec                                                         | uuid:099de9c9-3e5e-427b-8452-26250e840d6e                                    |\n",
       "| 3                                                                            | God                                                                          | 2016-11-17                                                                   | 10                                                                           | 15                                                                           | burntbricks                                                                  | 1                                                                            | NA                                                                           | NA                                                                           | 1                                                                            | solar_torch                                                                  | 2                                                                            | Jan;Feb;Mar;Oct;Nov;Dec                                                      | uuid:193d7daf-9582-409b-bf09-027dd36f9007                                    |\n",
       "\n"
      ],
      "text/plain": [
       "  key_ID village interview_date no_membrs years_liv respondent_wall_type rooms\n",
       "1 1      God     2016-11-17      3         4        muddaub              1    \n",
       "2 1      God     2016-11-17      7         9        muddaub              1    \n",
       "3 3      God     2016-11-17     10        15        burntbricks          1    \n",
       "  memb_assoc affect_conflicts liv_count\n",
       "1 NA         NA               1        \n",
       "2 yes        once             3        \n",
       "3 NA         NA               1        \n",
       "  items_owned                                                                 \n",
       "1 bicycle;television;solar_panel;table                                        \n",
       "2 cow_cart;bicycle;radio;cow_plough;solar_panel;solar_torch;table;mobile_phone\n",
       "3 solar_torch                                                                 \n",
       "  no_meals months_lack_food        instanceID                               \n",
       "1 2        Jan                     uuid:ec241f2c-0609-46ed-b5e8-fe575f6cefef\n",
       "2 2        Jan;Sept;Oct;Nov;Dec    uuid:099de9c9-3e5e-427b-8452-26250e840d6e\n",
       "3 2        Jan;Feb;Mar;Oct;Nov;Dec uuid:193d7daf-9582-409b-bf09-027dd36f9007"
      ]
     },
     "metadata": {},
     "output_type": "display_data"
    }
   ],
   "source": [
    "library(tidyverse)\n",
    "\n",
    "interviews <- read_csv(\"C:/training/data/SAFI_clean.csv\", na = \"NULL\")\n",
    "\n",
    "## inspect the data\n",
    "head(interviews,3)"
   ]
  },
  {
   "cell_type": "markdown",
   "metadata": {},
   "source": [
    "Select a column and filter row"
   ]
  },
  {
   "cell_type": "code",
   "execution_count": 2,
   "metadata": {},
   "outputs": [
    {
     "data": {
      "text/html": [
       "<table>\n",
       "<thead><tr><th scope=col>village</th><th scope=col>no_membrs</th><th scope=col>years_liv</th></tr></thead>\n",
       "<tbody>\n",
       "\t<tr><td>God</td><td>3  </td><td>4  </td></tr>\n",
       "\t<tr><td>God</td><td>7  </td><td>9  </td></tr>\n",
       "</tbody>\n",
       "</table>\n"
      ],
      "text/latex": [
       "\\begin{tabular}{r|lll}\n",
       " village & no\\_membrs & years\\_liv\\\\\n",
       "\\hline\n",
       "\t God & 3   & 4  \\\\\n",
       "\t God & 7   & 9  \\\\\n",
       "\\end{tabular}\n"
      ],
      "text/markdown": [
       "\n",
       "| village | no_membrs | years_liv |\n",
       "|---|---|---|\n",
       "| God | 3   | 4   |\n",
       "| God | 7   | 9   |\n",
       "\n"
      ],
      "text/plain": [
       "  village no_membrs years_liv\n",
       "1 God     3         4        \n",
       "2 God     7         9        "
      ]
     },
     "metadata": {},
     "output_type": "display_data"
    }
   ],
   "source": [
    "select(interviews, village, no_membrs, years_liv)[1:2,]"
   ]
  },
  {
   "cell_type": "code",
   "execution_count": 3,
   "metadata": {},
   "outputs": [
    {
     "data": {
      "text/html": [
       "<table>\n",
       "<thead><tr><th scope=col>key_ID</th><th scope=col>village</th><th scope=col>interview_date</th><th scope=col>no_membrs</th><th scope=col>years_liv</th><th scope=col>respondent_wall_type</th><th scope=col>rooms</th><th scope=col>memb_assoc</th><th scope=col>affect_conflicts</th><th scope=col>liv_count</th><th scope=col>items_owned</th><th scope=col>no_meals</th><th scope=col>months_lack_food</th><th scope=col>instanceID</th></tr></thead>\n",
       "<tbody>\n",
       "\t<tr><td>1                                                                           </td><td>God                                                                         </td><td>2016-11-17                                                                  </td><td>3                                                                           </td><td>4                                                                           </td><td>muddaub                                                                     </td><td>1                                                                           </td><td>NA                                                                          </td><td>NA                                                                          </td><td>1                                                                           </td><td>bicycle;television;solar_panel;table                                        </td><td>2                                                                           </td><td>Jan                                                                         </td><td>uuid:ec241f2c-0609-46ed-b5e8-fe575f6cefef                                   </td></tr>\n",
       "\t<tr><td>1                                                                           </td><td>God                                                                         </td><td>2016-11-17                                                                  </td><td>7                                                                           </td><td>9                                                                           </td><td>muddaub                                                                     </td><td>1                                                                           </td><td>yes                                                                         </td><td>once                                                                        </td><td>3                                                                           </td><td>cow_cart;bicycle;radio;cow_plough;solar_panel;solar_torch;table;mobile_phone</td><td>2                                                                           </td><td>Jan;Sept;Oct;Nov;Dec                                                        </td><td>uuid:099de9c9-3e5e-427b-8452-26250e840d6e                                   </td></tr>\n",
       "</tbody>\n",
       "</table>\n"
      ],
      "text/latex": [
       "\\begin{tabular}{r|llllllllllllll}\n",
       " key\\_ID & village & interview\\_date & no\\_membrs & years\\_liv & respondent\\_wall\\_type & rooms & memb\\_assoc & affect\\_conflicts & liv\\_count & items\\_owned & no\\_meals & months\\_lack\\_food & instanceID\\\\\n",
       "\\hline\n",
       "\t 1                                                                              & God                                                                            & 2016-11-17                                                                     & 3                                                                              & 4                                                                              & muddaub                                                                        & 1                                                                              & NA                                                                             & NA                                                                             & 1                                                                              & bicycle;television;solar\\_panel;table                                         & 2                                                                              & Jan                                                                            & uuid:ec241f2c-0609-46ed-b5e8-fe575f6cefef                                     \\\\\n",
       "\t 1                                                                                      & God                                                                                    & 2016-11-17                                                                             & 7                                                                                      & 9                                                                                      & muddaub                                                                                & 1                                                                                      & yes                                                                                    & once                                                                                   & 3                                                                                      & cow\\_cart;bicycle;radio;cow\\_plough;solar\\_panel;solar\\_torch;table;mobile\\_phone & 2                                                                                      & Jan;Sept;Oct;Nov;Dec                                                                   & uuid:099de9c9-3e5e-427b-8452-26250e840d6e                                             \\\\\n",
       "\\end{tabular}\n"
      ],
      "text/markdown": [
       "\n",
       "| key_ID | village | interview_date | no_membrs | years_liv | respondent_wall_type | rooms | memb_assoc | affect_conflicts | liv_count | items_owned | no_meals | months_lack_food | instanceID |\n",
       "|---|---|---|---|---|---|---|---|---|---|---|---|---|---|\n",
       "| 1                                                                            | God                                                                          | 2016-11-17                                                                   | 3                                                                            | 4                                                                            | muddaub                                                                      | 1                                                                            | NA                                                                           | NA                                                                           | 1                                                                            | bicycle;television;solar_panel;table                                         | 2                                                                            | Jan                                                                          | uuid:ec241f2c-0609-46ed-b5e8-fe575f6cefef                                    |\n",
       "| 1                                                                            | God                                                                          | 2016-11-17                                                                   | 7                                                                            | 9                                                                            | muddaub                                                                      | 1                                                                            | yes                                                                          | once                                                                         | 3                                                                            | cow_cart;bicycle;radio;cow_plough;solar_panel;solar_torch;table;mobile_phone | 2                                                                            | Jan;Sept;Oct;Nov;Dec                                                         | uuid:099de9c9-3e5e-427b-8452-26250e840d6e                                    |\n",
       "\n"
      ],
      "text/plain": [
       "  key_ID village interview_date no_membrs years_liv respondent_wall_type rooms\n",
       "1 1      God     2016-11-17     3         4         muddaub              1    \n",
       "2 1      God     2016-11-17     7         9         muddaub              1    \n",
       "  memb_assoc affect_conflicts liv_count\n",
       "1 NA         NA               1        \n",
       "2 yes        once             3        \n",
       "  items_owned                                                                 \n",
       "1 bicycle;television;solar_panel;table                                        \n",
       "2 cow_cart;bicycle;radio;cow_plough;solar_panel;solar_torch;table;mobile_phone\n",
       "  no_meals months_lack_food     instanceID                               \n",
       "1 2        Jan                  uuid:ec241f2c-0609-46ed-b5e8-fe575f6cefef\n",
       "2 2        Jan;Sept;Oct;Nov;Dec uuid:099de9c9-3e5e-427b-8452-26250e840d6e"
      ]
     },
     "metadata": {},
     "output_type": "display_data"
    }
   ],
   "source": [
    "#Choose specified row\n",
    "filter(interviews, village==\"God\")[1:2,]"
   ]
  },
  {
   "cell_type": "markdown",
   "metadata": {},
   "source": [
    "# Using pipe"
   ]
  },
  {
   "cell_type": "code",
   "execution_count": 4,
   "metadata": {},
   "outputs": [],
   "source": [
    "interviews_god <- select(filter(interviews, village == \"God\"), no_membrs, years_liv)"
   ]
  },
  {
   "cell_type": "markdown",
   "metadata": {},
   "source": [
    "**Or**"
   ]
  },
  {
   "cell_type": "code",
   "execution_count": 5,
   "metadata": {},
   "outputs": [
    {
     "data": {
      "text/html": [
       "<table>\n",
       "<thead><tr><th scope=col>no_membrs</th><th scope=col>years_liv</th></tr></thead>\n",
       "<tbody>\n",
       "\t<tr><td>3</td><td>4</td></tr>\n",
       "\t<tr><td>7</td><td>9</td></tr>\n",
       "</tbody>\n",
       "</table>\n"
      ],
      "text/latex": [
       "\\begin{tabular}{r|ll}\n",
       " no\\_membrs & years\\_liv\\\\\n",
       "\\hline\n",
       "\t 3 & 4\\\\\n",
       "\t 7 & 9\\\\\n",
       "\\end{tabular}\n"
      ],
      "text/markdown": [
       "\n",
       "| no_membrs | years_liv |\n",
       "|---|---|\n",
       "| 3 | 4 |\n",
       "| 7 | 9 |\n",
       "\n"
      ],
      "text/plain": [
       "  no_membrs years_liv\n",
       "1 3         4        \n",
       "2 7         9        "
      ]
     },
     "metadata": {},
     "output_type": "display_data"
    }
   ],
   "source": [
    "interviews_god <- interviews %>%\n",
    "    filter(village == \"God\") %>%\n",
    "    select(no_membrs, years_liv)\n",
    "\n",
    "interviews_god[1:2,]"
   ]
  },
  {
   "cell_type": "markdown",
   "metadata": {},
   "source": [
    "**Mutate**"
   ]
  },
  {
   "cell_type": "code",
   "execution_count": 6,
   "metadata": {},
   "outputs": [
    {
     "data": {
      "text/html": [
       "<table>\n",
       "<thead><tr><th scope=col>key_ID</th><th scope=col>village</th><th scope=col>interview_date</th><th scope=col>no_membrs</th><th scope=col>years_liv</th><th scope=col>respondent_wall_type</th><th scope=col>rooms</th><th scope=col>memb_assoc</th><th scope=col>affect_conflicts</th><th scope=col>liv_count</th><th scope=col>items_owned</th><th scope=col>no_meals</th><th scope=col>months_lack_food</th><th scope=col>instanceID</th><th scope=col>people_per_room</th></tr></thead>\n",
       "<tbody>\n",
       "\t<tr><td>1                                                                           </td><td>God                                                                         </td><td>2016-11-17                                                                  </td><td>3                                                                           </td><td>4                                                                           </td><td>muddaub                                                                     </td><td>1                                                                           </td><td>NA                                                                          </td><td>NA                                                                          </td><td>1                                                                           </td><td>bicycle;television;solar_panel;table                                        </td><td>2                                                                           </td><td>Jan                                                                         </td><td>uuid:ec241f2c-0609-46ed-b5e8-fe575f6cefef                                   </td><td>3                                                                           </td></tr>\n",
       "\t<tr><td>1                                                                           </td><td>God                                                                         </td><td>2016-11-17                                                                  </td><td>7                                                                           </td><td>9                                                                           </td><td>muddaub                                                                     </td><td>1                                                                           </td><td>yes                                                                         </td><td>once                                                                        </td><td>3                                                                           </td><td>cow_cart;bicycle;radio;cow_plough;solar_panel;solar_torch;table;mobile_phone</td><td>2                                                                           </td><td>Jan;Sept;Oct;Nov;Dec                                                        </td><td>uuid:099de9c9-3e5e-427b-8452-26250e840d6e                                   </td><td>7                                                                           </td></tr>\n",
       "</tbody>\n",
       "</table>\n"
      ],
      "text/latex": [
       "\\begin{tabular}{r|lllllllllllllll}\n",
       " key\\_ID & village & interview\\_date & no\\_membrs & years\\_liv & respondent\\_wall\\_type & rooms & memb\\_assoc & affect\\_conflicts & liv\\_count & items\\_owned & no\\_meals & months\\_lack\\_food & instanceID & people\\_per\\_room\\\\\n",
       "\\hline\n",
       "\t 1                                                                              & God                                                                            & 2016-11-17                                                                     & 3                                                                              & 4                                                                              & muddaub                                                                        & 1                                                                              & NA                                                                             & NA                                                                             & 1                                                                              & bicycle;television;solar\\_panel;table                                         & 2                                                                              & Jan                                                                            & uuid:ec241f2c-0609-46ed-b5e8-fe575f6cefef                                      & 3                                                                             \\\\\n",
       "\t 1                                                                                      & God                                                                                    & 2016-11-17                                                                             & 7                                                                                      & 9                                                                                      & muddaub                                                                                & 1                                                                                      & yes                                                                                    & once                                                                                   & 3                                                                                      & cow\\_cart;bicycle;radio;cow\\_plough;solar\\_panel;solar\\_torch;table;mobile\\_phone & 2                                                                                      & Jan;Sept;Oct;Nov;Dec                                                                   & uuid:099de9c9-3e5e-427b-8452-26250e840d6e                                              & 7                                                                                     \\\\\n",
       "\\end{tabular}\n"
      ],
      "text/markdown": [
       "\n",
       "| key_ID | village | interview_date | no_membrs | years_liv | respondent_wall_type | rooms | memb_assoc | affect_conflicts | liv_count | items_owned | no_meals | months_lack_food | instanceID | people_per_room |\n",
       "|---|---|---|---|---|---|---|---|---|---|---|---|---|---|---|\n",
       "| 1                                                                            | God                                                                          | 2016-11-17                                                                   | 3                                                                            | 4                                                                            | muddaub                                                                      | 1                                                                            | NA                                                                           | NA                                                                           | 1                                                                            | bicycle;television;solar_panel;table                                         | 2                                                                            | Jan                                                                          | uuid:ec241f2c-0609-46ed-b5e8-fe575f6cefef                                    | 3                                                                            |\n",
       "| 1                                                                            | God                                                                          | 2016-11-17                                                                   | 7                                                                            | 9                                                                            | muddaub                                                                      | 1                                                                            | yes                                                                          | once                                                                         | 3                                                                            | cow_cart;bicycle;radio;cow_plough;solar_panel;solar_torch;table;mobile_phone | 2                                                                            | Jan;Sept;Oct;Nov;Dec                                                         | uuid:099de9c9-3e5e-427b-8452-26250e840d6e                                    | 7                                                                            |\n",
       "\n"
      ],
      "text/plain": [
       "  key_ID village interview_date no_membrs years_liv respondent_wall_type rooms\n",
       "1 1      God     2016-11-17     3         4         muddaub              1    \n",
       "2 1      God     2016-11-17     7         9         muddaub              1    \n",
       "  memb_assoc affect_conflicts liv_count\n",
       "1 NA         NA               1        \n",
       "2 yes        once             3        \n",
       "  items_owned                                                                 \n",
       "1 bicycle;television;solar_panel;table                                        \n",
       "2 cow_cart;bicycle;radio;cow_plough;solar_panel;solar_torch;table;mobile_phone\n",
       "  no_meals months_lack_food     instanceID                               \n",
       "1 2        Jan                  uuid:ec241f2c-0609-46ed-b5e8-fe575f6cefef\n",
       "2 2        Jan;Sept;Oct;Nov;Dec uuid:099de9c9-3e5e-427b-8452-26250e840d6e\n",
       "  people_per_room\n",
       "1 3              \n",
       "2 7              "
      ]
     },
     "metadata": {},
     "output_type": "display_data"
    }
   ],
   "source": [
    "interviews %>%\n",
    "    mutate(people_per_room = no_membrs / rooms) %>% head(2)"
   ]
  },
  {
   "cell_type": "markdown",
   "metadata": {},
   "source": [
    "There is a case that missing data can cause NULL value, we avoid by filter"
   ]
  },
  {
   "cell_type": "code",
   "execution_count": 7,
   "metadata": {},
   "outputs": [
    {
     "data": {
      "text/html": [
       "<table>\n",
       "<thead><tr><th scope=col>key_ID</th><th scope=col>village</th><th scope=col>interview_date</th><th scope=col>no_membrs</th><th scope=col>years_liv</th><th scope=col>respondent_wall_type</th><th scope=col>rooms</th><th scope=col>memb_assoc</th><th scope=col>affect_conflicts</th><th scope=col>liv_count</th><th scope=col>items_owned</th><th scope=col>no_meals</th><th scope=col>months_lack_food</th><th scope=col>instanceID</th><th scope=col>people_per_room</th></tr></thead>\n",
       "<tbody>\n",
       "\t<tr><td>1                                                                           </td><td>God                                                                         </td><td>2016-11-17                                                                  </td><td>7                                                                           </td><td> 9                                                                          </td><td>muddaub                                                                     </td><td>1                                                                           </td><td>yes                                                                         </td><td>once                                                                        </td><td>3                                                                           </td><td>cow_cart;bicycle;radio;cow_plough;solar_panel;solar_torch;table;mobile_phone</td><td>2                                                                           </td><td>Jan;Sept;Oct;Nov;Dec                                                        </td><td>uuid:099de9c9-3e5e-427b-8452-26250e840d6e                                   </td><td>7                                                                           </td></tr>\n",
       "\t<tr><td>7                                                                           </td><td>God                                                                         </td><td>2016-11-17                                                                  </td><td>6                                                                           </td><td>38                                                                          </td><td>muddaub                                                                     </td><td>1                                                                           </td><td>no                                                                          </td><td>never                                                                       </td><td>1                                                                           </td><td>motorcyle;cow_plough                                                        </td><td>3                                                                           </td><td>Nov                                                                         </td><td>uuid:ae20a58d-56f4-43d7-bafa-e7963d850844                                   </td><td>6                                                                           </td></tr>\n",
       "</tbody>\n",
       "</table>\n"
      ],
      "text/latex": [
       "\\begin{tabular}{r|lllllllllllllll}\n",
       " key\\_ID & village & interview\\_date & no\\_membrs & years\\_liv & respondent\\_wall\\_type & rooms & memb\\_assoc & affect\\_conflicts & liv\\_count & items\\_owned & no\\_meals & months\\_lack\\_food & instanceID & people\\_per\\_room\\\\\n",
       "\\hline\n",
       "\t 1                                                                                      & God                                                                                    & 2016-11-17                                                                             & 7                                                                                      &  9                                                                                     & muddaub                                                                                & 1                                                                                      & yes                                                                                    & once                                                                                   & 3                                                                                      & cow\\_cart;bicycle;radio;cow\\_plough;solar\\_panel;solar\\_torch;table;mobile\\_phone & 2                                                                                      & Jan;Sept;Oct;Nov;Dec                                                                   & uuid:099de9c9-3e5e-427b-8452-26250e840d6e                                              & 7                                                                                     \\\\\n",
       "\t 7                                                                              & God                                                                            & 2016-11-17                                                                     & 6                                                                              & 38                                                                             & muddaub                                                                        & 1                                                                              & no                                                                             & never                                                                          & 1                                                                              & motorcyle;cow\\_plough                                                         & 3                                                                              & Nov                                                                            & uuid:ae20a58d-56f4-43d7-bafa-e7963d850844                                      & 6                                                                             \\\\\n",
       "\\end{tabular}\n"
      ],
      "text/markdown": [
       "\n",
       "| key_ID | village | interview_date | no_membrs | years_liv | respondent_wall_type | rooms | memb_assoc | affect_conflicts | liv_count | items_owned | no_meals | months_lack_food | instanceID | people_per_room |\n",
       "|---|---|---|---|---|---|---|---|---|---|---|---|---|---|---|\n",
       "| 1                                                                            | God                                                                          | 2016-11-17                                                                   | 7                                                                            |  9                                                                           | muddaub                                                                      | 1                                                                            | yes                                                                          | once                                                                         | 3                                                                            | cow_cart;bicycle;radio;cow_plough;solar_panel;solar_torch;table;mobile_phone | 2                                                                            | Jan;Sept;Oct;Nov;Dec                                                         | uuid:099de9c9-3e5e-427b-8452-26250e840d6e                                    | 7                                                                            |\n",
       "| 7                                                                            | God                                                                          | 2016-11-17                                                                   | 6                                                                            | 38                                                                           | muddaub                                                                      | 1                                                                            | no                                                                           | never                                                                        | 1                                                                            | motorcyle;cow_plough                                                         | 3                                                                            | Nov                                                                          | uuid:ae20a58d-56f4-43d7-bafa-e7963d850844                                    | 6                                                                            |\n",
       "\n"
      ],
      "text/plain": [
       "  key_ID village interview_date no_membrs years_liv respondent_wall_type rooms\n",
       "1 1      God     2016-11-17     7          9        muddaub              1    \n",
       "2 7      God     2016-11-17     6         38        muddaub              1    \n",
       "  memb_assoc affect_conflicts liv_count\n",
       "1 yes        once             3        \n",
       "2 no         never            1        \n",
       "  items_owned                                                                 \n",
       "1 cow_cart;bicycle;radio;cow_plough;solar_panel;solar_torch;table;mobile_phone\n",
       "2 motorcyle;cow_plough                                                        \n",
       "  no_meals months_lack_food     instanceID                               \n",
       "1 2        Jan;Sept;Oct;Nov;Dec uuid:099de9c9-3e5e-427b-8452-26250e840d6e\n",
       "2 3        Nov                  uuid:ae20a58d-56f4-43d7-bafa-e7963d850844\n",
       "  people_per_room\n",
       "1 7              \n",
       "2 6              "
      ]
     },
     "metadata": {},
     "output_type": "display_data"
    }
   ],
   "source": [
    "interviews %>%\n",
    "    filter(!is.na(memb_assoc)) %>%\n",
    "    mutate(people_per_room = no_membrs / rooms) %>% head(2)"
   ]
  },
  {
   "cell_type": "markdown",
   "metadata": {},
   "source": [
    "**Summarize**"
   ]
  },
  {
   "cell_type": "code",
   "execution_count": 8,
   "metadata": {},
   "outputs": [
    {
     "data": {
      "text/html": [
       "<table>\n",
       "<thead><tr><th scope=col>village</th><th scope=col>mean_no_membrs</th></tr></thead>\n",
       "<tbody>\n",
       "\t<tr><td>Chirodzo</td><td>7.076923</td></tr>\n",
       "\t<tr><td>God     </td><td>6.860465</td></tr>\n",
       "\t<tr><td>Ruaca   </td><td>7.571429</td></tr>\n",
       "</tbody>\n",
       "</table>\n"
      ],
      "text/latex": [
       "\\begin{tabular}{r|ll}\n",
       " village & mean\\_no\\_membrs\\\\\n",
       "\\hline\n",
       "\t Chirodzo & 7.076923\\\\\n",
       "\t God      & 6.860465\\\\\n",
       "\t Ruaca    & 7.571429\\\\\n",
       "\\end{tabular}\n"
      ],
      "text/markdown": [
       "\n",
       "| village | mean_no_membrs |\n",
       "|---|---|\n",
       "| Chirodzo | 7.076923 |\n",
       "| God      | 6.860465 |\n",
       "| Ruaca    | 7.571429 |\n",
       "\n"
      ],
      "text/plain": [
       "  village  mean_no_membrs\n",
       "1 Chirodzo 7.076923      \n",
       "2 God      6.860465      \n",
       "3 Ruaca    7.571429      "
      ]
     },
     "metadata": {},
     "output_type": "display_data"
    }
   ],
   "source": [
    "#  to compute the average household size by village:\n",
    "interviews %>%\n",
    "    group_by(village) %>%\n",
    "    summarize(mean_no_membrs = mean(no_membrs))"
   ]
  },
  {
   "cell_type": "code",
   "execution_count": 9,
   "metadata": {},
   "outputs": [
    {
     "data": {
      "text/html": [
       "<table>\n",
       "<thead><tr><th scope=col>village</th><th scope=col>memb_assoc</th><th scope=col>mean_no_membrs</th></tr></thead>\n",
       "<tbody>\n",
       "\t<tr><td>Chirodzo</td><td>NA      </td><td>5.083333</td></tr>\n",
       "\t<tr><td>Chirodzo</td><td>no      </td><td>8.062500</td></tr>\n",
       "\t<tr><td>Chirodzo</td><td>yes     </td><td>7.818182</td></tr>\n",
       "\t<tr><td>God     </td><td>NA      </td><td>6.000000</td></tr>\n",
       "\t<tr><td>God     </td><td>no      </td><td>7.133333</td></tr>\n",
       "\t<tr><td>God     </td><td>yes     </td><td>8.000000</td></tr>\n",
       "\t<tr><td>Ruaca   </td><td>NA      </td><td>6.222222</td></tr>\n",
       "\t<tr><td>Ruaca   </td><td>no      </td><td>7.178571</td></tr>\n",
       "\t<tr><td>Ruaca   </td><td>yes     </td><td>9.500000</td></tr>\n",
       "</tbody>\n",
       "</table>\n"
      ],
      "text/latex": [
       "\\begin{tabular}{r|lll}\n",
       " village & memb\\_assoc & mean\\_no\\_membrs\\\\\n",
       "\\hline\n",
       "\t Chirodzo & NA       & 5.083333\\\\\n",
       "\t Chirodzo & no       & 8.062500\\\\\n",
       "\t Chirodzo & yes      & 7.818182\\\\\n",
       "\t God      & NA       & 6.000000\\\\\n",
       "\t God      & no       & 7.133333\\\\\n",
       "\t God      & yes      & 8.000000\\\\\n",
       "\t Ruaca    & NA       & 6.222222\\\\\n",
       "\t Ruaca    & no       & 7.178571\\\\\n",
       "\t Ruaca    & yes      & 9.500000\\\\\n",
       "\\end{tabular}\n"
      ],
      "text/markdown": [
       "\n",
       "| village | memb_assoc | mean_no_membrs |\n",
       "|---|---|---|\n",
       "| Chirodzo | NA       | 5.083333 |\n",
       "| Chirodzo | no       | 8.062500 |\n",
       "| Chirodzo | yes      | 7.818182 |\n",
       "| God      | NA       | 6.000000 |\n",
       "| God      | no       | 7.133333 |\n",
       "| God      | yes      | 8.000000 |\n",
       "| Ruaca    | NA       | 6.222222 |\n",
       "| Ruaca    | no       | 7.178571 |\n",
       "| Ruaca    | yes      | 9.500000 |\n",
       "\n"
      ],
      "text/plain": [
       "  village  memb_assoc mean_no_membrs\n",
       "1 Chirodzo NA         5.083333      \n",
       "2 Chirodzo no         8.062500      \n",
       "3 Chirodzo yes        7.818182      \n",
       "4 God      NA         6.000000      \n",
       "5 God      no         7.133333      \n",
       "6 God      yes        8.000000      \n",
       "7 Ruaca    NA         6.222222      \n",
       "8 Ruaca    no         7.178571      \n",
       "9 Ruaca    yes        9.500000      "
      ]
     },
     "metadata": {},
     "output_type": "display_data"
    }
   ],
   "source": [
    "interviews %>%\n",
    "    group_by(village, memb_assoc) %>%\n",
    "    summarize(mean_no_membrs = mean(no_membrs))"
   ]
  },
  {
   "cell_type": "markdown",
   "metadata": {},
   "source": [
    "we see rows in our table for respondents who did not specify whether they were a member of an irrigation association. We can **exclude those data** from our table using a filter step."
   ]
  },
  {
   "cell_type": "code",
   "execution_count": 10,
   "metadata": {},
   "outputs": [
    {
     "data": {
      "text/html": [
       "<table>\n",
       "<thead><tr><th scope=col>village</th><th scope=col>memb_assoc</th><th scope=col>mean_no_membrs</th><th scope=col>min_membrs</th></tr></thead>\n",
       "<tbody>\n",
       "\t<tr><td>Chirodzo</td><td>no      </td><td>8.062500</td><td>4       </td></tr>\n",
       "\t<tr><td>Chirodzo</td><td>yes     </td><td>7.818182</td><td>2       </td></tr>\n",
       "\t<tr><td>God     </td><td>no      </td><td>7.133333</td><td>3       </td></tr>\n",
       "\t<tr><td>God     </td><td>yes     </td><td>8.000000</td><td>5       </td></tr>\n",
       "\t<tr><td>Ruaca   </td><td>no      </td><td>7.178571</td><td>2       </td></tr>\n",
       "\t<tr><td>Ruaca   </td><td>yes     </td><td>9.500000</td><td>5       </td></tr>\n",
       "</tbody>\n",
       "</table>\n"
      ],
      "text/latex": [
       "\\begin{tabular}{r|llll}\n",
       " village & memb\\_assoc & mean\\_no\\_membrs & min\\_membrs\\\\\n",
       "\\hline\n",
       "\t Chirodzo & no       & 8.062500 & 4       \\\\\n",
       "\t Chirodzo & yes      & 7.818182 & 2       \\\\\n",
       "\t God      & no       & 7.133333 & 3       \\\\\n",
       "\t God      & yes      & 8.000000 & 5       \\\\\n",
       "\t Ruaca    & no       & 7.178571 & 2       \\\\\n",
       "\t Ruaca    & yes      & 9.500000 & 5       \\\\\n",
       "\\end{tabular}\n"
      ],
      "text/markdown": [
       "\n",
       "| village | memb_assoc | mean_no_membrs | min_membrs |\n",
       "|---|---|---|---|\n",
       "| Chirodzo | no       | 8.062500 | 4        |\n",
       "| Chirodzo | yes      | 7.818182 | 2        |\n",
       "| God      | no       | 7.133333 | 3        |\n",
       "| God      | yes      | 8.000000 | 5        |\n",
       "| Ruaca    | no       | 7.178571 | 2        |\n",
       "| Ruaca    | yes      | 9.500000 | 5        |\n",
       "\n"
      ],
      "text/plain": [
       "  village  memb_assoc mean_no_membrs min_membrs\n",
       "1 Chirodzo no         8.062500       4         \n",
       "2 Chirodzo yes        7.818182       2         \n",
       "3 God      no         7.133333       3         \n",
       "4 God      yes        8.000000       5         \n",
       "5 Ruaca    no         7.178571       2         \n",
       "6 Ruaca    yes        9.500000       5         "
      ]
     },
     "metadata": {},
     "output_type": "display_data"
    }
   ],
   "source": [
    "interviews %>%\n",
    "    filter(!is.na(memb_assoc)) %>%\n",
    "    group_by(village, memb_assoc) %>%\n",
    "    summarize(mean_no_membrs = mean(no_membrs),\n",
    "              min_membrs = min(no_membrs))"
   ]
  },
  {
   "cell_type": "markdown",
   "metadata": {},
   "source": [
    "**Sort**"
   ]
  },
  {
   "cell_type": "code",
   "execution_count": 11,
   "metadata": {},
   "outputs": [
    {
     "data": {
      "text/html": [
       "<table>\n",
       "<thead><tr><th scope=col>village</th><th scope=col>memb_assoc</th><th scope=col>mean_no_membrs</th><th scope=col>min_membrs</th></tr></thead>\n",
       "<tbody>\n",
       "\t<tr><td>Chirodzo</td><td>yes     </td><td>7.818182</td><td>2       </td></tr>\n",
       "\t<tr><td>Ruaca   </td><td>no      </td><td>7.178571</td><td>2       </td></tr>\n",
       "\t<tr><td>God     </td><td>no      </td><td>7.133333</td><td>3       </td></tr>\n",
       "\t<tr><td>Chirodzo</td><td>no      </td><td>8.062500</td><td>4       </td></tr>\n",
       "\t<tr><td>God     </td><td>yes     </td><td>8.000000</td><td>5       </td></tr>\n",
       "\t<tr><td>Ruaca   </td><td>yes     </td><td>9.500000</td><td>5       </td></tr>\n",
       "</tbody>\n",
       "</table>\n"
      ],
      "text/latex": [
       "\\begin{tabular}{r|llll}\n",
       " village & memb\\_assoc & mean\\_no\\_membrs & min\\_membrs\\\\\n",
       "\\hline\n",
       "\t Chirodzo & yes      & 7.818182 & 2       \\\\\n",
       "\t Ruaca    & no       & 7.178571 & 2       \\\\\n",
       "\t God      & no       & 7.133333 & 3       \\\\\n",
       "\t Chirodzo & no       & 8.062500 & 4       \\\\\n",
       "\t God      & yes      & 8.000000 & 5       \\\\\n",
       "\t Ruaca    & yes      & 9.500000 & 5       \\\\\n",
       "\\end{tabular}\n"
      ],
      "text/markdown": [
       "\n",
       "| village | memb_assoc | mean_no_membrs | min_membrs |\n",
       "|---|---|---|---|\n",
       "| Chirodzo | yes      | 7.818182 | 2        |\n",
       "| Ruaca    | no       | 7.178571 | 2        |\n",
       "| God      | no       | 7.133333 | 3        |\n",
       "| Chirodzo | no       | 8.062500 | 4        |\n",
       "| God      | yes      | 8.000000 | 5        |\n",
       "| Ruaca    | yes      | 9.500000 | 5        |\n",
       "\n"
      ],
      "text/plain": [
       "  village  memb_assoc mean_no_membrs min_membrs\n",
       "1 Chirodzo yes        7.818182       2         \n",
       "2 Ruaca    no         7.178571       2         \n",
       "3 God      no         7.133333       3         \n",
       "4 Chirodzo no         8.062500       4         \n",
       "5 God      yes        8.000000       5         \n",
       "6 Ruaca    yes        9.500000       5         "
      ]
     },
     "metadata": {},
     "output_type": "display_data"
    }
   ],
   "source": [
    "interviews %>%\n",
    "    filter(!is.na(memb_assoc)) %>%\n",
    "    group_by(village, memb_assoc) %>%\n",
    "    summarize(mean_no_membrs = mean(no_membrs), min_membrs = min(no_membrs)) %>%\n",
    "    arrange(min_membrs)"
   ]
  },
  {
   "cell_type": "markdown",
   "metadata": {},
   "source": [
    "To sort in descending order, we need to add the desc() function. If we want to sort the results by decreasing order of minimum household size:"
   ]
  },
  {
   "cell_type": "code",
   "execution_count": 12,
   "metadata": {},
   "outputs": [
    {
     "data": {
      "text/html": [
       "<table>\n",
       "<thead><tr><th scope=col>village</th><th scope=col>memb_assoc</th><th scope=col>mean_no_membrs</th><th scope=col>min_membrs</th></tr></thead>\n",
       "<tbody>\n",
       "\t<tr><td>God     </td><td>yes     </td><td>8.000000</td><td>5       </td></tr>\n",
       "\t<tr><td>Ruaca   </td><td>yes     </td><td>9.500000</td><td>5       </td></tr>\n",
       "\t<tr><td>Chirodzo</td><td>no      </td><td>8.062500</td><td>4       </td></tr>\n",
       "\t<tr><td>God     </td><td>no      </td><td>7.133333</td><td>3       </td></tr>\n",
       "\t<tr><td>Chirodzo</td><td>yes     </td><td>7.818182</td><td>2       </td></tr>\n",
       "\t<tr><td>Ruaca   </td><td>no      </td><td>7.178571</td><td>2       </td></tr>\n",
       "</tbody>\n",
       "</table>\n"
      ],
      "text/latex": [
       "\\begin{tabular}{r|llll}\n",
       " village & memb\\_assoc & mean\\_no\\_membrs & min\\_membrs\\\\\n",
       "\\hline\n",
       "\t God      & yes      & 8.000000 & 5       \\\\\n",
       "\t Ruaca    & yes      & 9.500000 & 5       \\\\\n",
       "\t Chirodzo & no       & 8.062500 & 4       \\\\\n",
       "\t God      & no       & 7.133333 & 3       \\\\\n",
       "\t Chirodzo & yes      & 7.818182 & 2       \\\\\n",
       "\t Ruaca    & no       & 7.178571 & 2       \\\\\n",
       "\\end{tabular}\n"
      ],
      "text/markdown": [
       "\n",
       "| village | memb_assoc | mean_no_membrs | min_membrs |\n",
       "|---|---|---|---|\n",
       "| God      | yes      | 8.000000 | 5        |\n",
       "| Ruaca    | yes      | 9.500000 | 5        |\n",
       "| Chirodzo | no       | 8.062500 | 4        |\n",
       "| God      | no       | 7.133333 | 3        |\n",
       "| Chirodzo | yes      | 7.818182 | 2        |\n",
       "| Ruaca    | no       | 7.178571 | 2        |\n",
       "\n"
      ],
      "text/plain": [
       "  village  memb_assoc mean_no_membrs min_membrs\n",
       "1 God      yes        8.000000       5         \n",
       "2 Ruaca    yes        9.500000       5         \n",
       "3 Chirodzo no         8.062500       4         \n",
       "4 God      no         7.133333       3         \n",
       "5 Chirodzo yes        7.818182       2         \n",
       "6 Ruaca    no         7.178571       2         "
      ]
     },
     "metadata": {},
     "output_type": "display_data"
    }
   ],
   "source": [
    "interviews %>%\n",
    "    filter(!is.na(memb_assoc)) %>%\n",
    "    group_by(village, memb_assoc) %>%\n",
    "    summarize(mean_no_membrs = mean(no_membrs),\n",
    "              min_membrs = min(no_membrs)) %>%\n",
    "    arrange(desc(min_membrs))"
   ]
  },
  {
   "cell_type": "markdown",
   "metadata": {},
   "source": [
    "**Counting**   \n",
    "For this task, dplyr provides count(). For example, we can count the number of rows of data for each village and sort in descreasing order"
   ]
  },
  {
   "cell_type": "code",
   "execution_count": 13,
   "metadata": {},
   "outputs": [
    {
     "data": {
      "text/html": [
       "<table>\n",
       "<thead><tr><th scope=col>village</th><th scope=col>n</th></tr></thead>\n",
       "<tbody>\n",
       "\t<tr><td>Ruaca   </td><td>49      </td></tr>\n",
       "\t<tr><td>God     </td><td>43      </td></tr>\n",
       "\t<tr><td>Chirodzo</td><td>39      </td></tr>\n",
       "</tbody>\n",
       "</table>\n"
      ],
      "text/latex": [
       "\\begin{tabular}{r|ll}\n",
       " village & n\\\\\n",
       "\\hline\n",
       "\t Ruaca    & 49      \\\\\n",
       "\t God      & 43      \\\\\n",
       "\t Chirodzo & 39      \\\\\n",
       "\\end{tabular}\n"
      ],
      "text/markdown": [
       "\n",
       "| village | n |\n",
       "|---|---|\n",
       "| Ruaca    | 49       |\n",
       "| God      | 43       |\n",
       "| Chirodzo | 39       |\n",
       "\n"
      ],
      "text/plain": [
       "  village  n \n",
       "1 Ruaca    49\n",
       "2 God      43\n",
       "3 Chirodzo 39"
      ]
     },
     "metadata": {},
     "output_type": "display_data"
    }
   ],
   "source": [
    "interviews %>%\n",
    "    count(village, sort = TRUE)"
   ]
  },
  {
   "cell_type": "markdown",
   "metadata": {},
   "source": [
    "What was the largest household interviewed in each month?"
   ]
  },
  {
   "cell_type": "code",
   "execution_count": 14,
   "metadata": {},
   "outputs": [
    {
     "name": "stderr",
     "output_type": "stream",
     "text": [
      "\n",
      "Attaching package: 'lubridate'\n",
      "\n",
      "The following object is masked from 'package:base':\n",
      "\n",
      "    date\n",
      "\n"
     ]
    },
    {
     "data": {
      "text/html": [
       "<table>\n",
       "<thead><tr><th scope=col>year</th><th scope=col>month</th><th scope=col>max_no_membrs</th></tr></thead>\n",
       "<tbody>\n",
       "\t<tr><td>2016</td><td>11  </td><td>19  </td></tr>\n",
       "\t<tr><td>2016</td><td>12  </td><td>12  </td></tr>\n",
       "\t<tr><td>2017</td><td> 4  </td><td>17  </td></tr>\n",
       "\t<tr><td>2017</td><td> 5  </td><td>15  </td></tr>\n",
       "\t<tr><td>2017</td><td> 6  </td><td>15  </td></tr>\n",
       "</tbody>\n",
       "</table>\n"
      ],
      "text/latex": [
       "\\begin{tabular}{r|lll}\n",
       " year & month & max\\_no\\_membrs\\\\\n",
       "\\hline\n",
       "\t 2016 & 11   & 19  \\\\\n",
       "\t 2016 & 12   & 12  \\\\\n",
       "\t 2017 &  4   & 17  \\\\\n",
       "\t 2017 &  5   & 15  \\\\\n",
       "\t 2017 &  6   & 15  \\\\\n",
       "\\end{tabular}\n"
      ],
      "text/markdown": [
       "\n",
       "| year | month | max_no_membrs |\n",
       "|---|---|---|\n",
       "| 2016 | 11   | 19   |\n",
       "| 2016 | 12   | 12   |\n",
       "| 2017 |  4   | 17   |\n",
       "| 2017 |  5   | 15   |\n",
       "| 2017 |  6   | 15   |\n",
       "\n"
      ],
      "text/plain": [
       "  year month max_no_membrs\n",
       "1 2016 11    19           \n",
       "2 2016 12    12           \n",
       "3 2017  4    17           \n",
       "4 2017  5    15           \n",
       "5 2017  6    15           "
      ]
     },
     "metadata": {},
     "output_type": "display_data"
    }
   ],
   "source": [
    "library(lubridate)\n",
    "\n",
    "interviews %>%\n",
    "    mutate(month = month(interview_date),\n",
    "           day = day(interview_date),\n",
    "           year = year(interview_date)) %>%\n",
    "    group_by(year, month) %>%\n",
    "    summarize(max_no_membrs = max(no_membrs))"
   ]
  },
  {
   "cell_type": "markdown",
   "metadata": {},
   "source": [
    "## Reshaping with gather and spread   \n",
    "\n",
    "**Convert long to wide format**\n",
    "\n",
    "spread() takes three principal arguments:\n",
    "    the data\n",
    "    the key column variable whose values will become new column names.\n",
    "    the value column variable whose values will fill the new column variables.\n",
    "\n",
    "Further arguments include fill which, if set, fills in missing values with the value provided. for example we could compare the ratio of household members to sleeping rooms grouped by type of construction material. The key point here is that we are still following a tidy data structure, but we have reshaped the data according to the observations of interest. tidyr provide **spread()** and **gather()**."
   ]
  },
  {
   "cell_type": "code",
   "execution_count": 16,
   "metadata": {},
   "outputs": [
    {
     "data": {
      "text/html": [
       "<table>\n",
       "<thead><tr><th scope=col>key_ID</th><th scope=col>village</th><th scope=col>interview_date</th><th scope=col>no_membrs</th><th scope=col>years_liv</th><th scope=col>rooms</th><th scope=col>memb_assoc</th><th scope=col>affect_conflicts</th><th scope=col>liv_count</th><th scope=col>items_owned</th><th scope=col>no_meals</th><th scope=col>months_lack_food</th><th scope=col>instanceID</th><th scope=col>burntbricks</th><th scope=col>cement</th><th scope=col>muddaub</th><th scope=col>sunbricks</th></tr></thead>\n",
       "<tbody>\n",
       "\t<tr><td>1                                                                           </td><td>God                                                                         </td><td>2016-11-17                                                                  </td><td>3                                                                           </td><td>4                                                                           </td><td>1                                                                           </td><td>NA                                                                          </td><td>NA                                                                          </td><td>1                                                                           </td><td>bicycle;television;solar_panel;table                                        </td><td>2                                                                           </td><td>Jan                                                                         </td><td>uuid:ec241f2c-0609-46ed-b5e8-fe575f6cefef                                   </td><td>FALSE                                                                       </td><td>FALSE                                                                       </td><td>TRUE                                                                        </td><td>FALSE                                                                       </td></tr>\n",
       "\t<tr><td>1                                                                           </td><td>God                                                                         </td><td>2016-11-17                                                                  </td><td>7                                                                           </td><td>9                                                                           </td><td>1                                                                           </td><td>yes                                                                         </td><td>once                                                                        </td><td>3                                                                           </td><td>cow_cart;bicycle;radio;cow_plough;solar_panel;solar_torch;table;mobile_phone</td><td>2                                                                           </td><td>Jan;Sept;Oct;Nov;Dec                                                        </td><td>uuid:099de9c9-3e5e-427b-8452-26250e840d6e                                   </td><td>FALSE                                                                       </td><td>FALSE                                                                       </td><td>TRUE                                                                        </td><td>FALSE                                                                       </td></tr>\n",
       "</tbody>\n",
       "</table>\n"
      ],
      "text/latex": [
       "\\begin{tabular}{r|lllllllllllllllll}\n",
       " key\\_ID & village & interview\\_date & no\\_membrs & years\\_liv & rooms & memb\\_assoc & affect\\_conflicts & liv\\_count & items\\_owned & no\\_meals & months\\_lack\\_food & instanceID & burntbricks & cement & muddaub & sunbricks\\\\\n",
       "\\hline\n",
       "\t 1                                                                              & God                                                                            & 2016-11-17                                                                     & 3                                                                              & 4                                                                              & 1                                                                              & NA                                                                             & NA                                                                             & 1                                                                              & bicycle;television;solar\\_panel;table                                         & 2                                                                              & Jan                                                                            & uuid:ec241f2c-0609-46ed-b5e8-fe575f6cefef                                      & FALSE                                                                          & FALSE                                                                          & TRUE                                                                           & FALSE                                                                         \\\\\n",
       "\t 1                                                                                      & God                                                                                    & 2016-11-17                                                                             & 7                                                                                      & 9                                                                                      & 1                                                                                      & yes                                                                                    & once                                                                                   & 3                                                                                      & cow\\_cart;bicycle;radio;cow\\_plough;solar\\_panel;solar\\_torch;table;mobile\\_phone & 2                                                                                      & Jan;Sept;Oct;Nov;Dec                                                                   & uuid:099de9c9-3e5e-427b-8452-26250e840d6e                                              & FALSE                                                                                  & FALSE                                                                                  & TRUE                                                                                   & FALSE                                                                                 \\\\\n",
       "\\end{tabular}\n"
      ],
      "text/markdown": [
       "\n",
       "| key_ID | village | interview_date | no_membrs | years_liv | rooms | memb_assoc | affect_conflicts | liv_count | items_owned | no_meals | months_lack_food | instanceID | burntbricks | cement | muddaub | sunbricks |\n",
       "|---|---|---|---|---|---|---|---|---|---|---|---|---|---|---|---|---|\n",
       "| 1                                                                            | God                                                                          | 2016-11-17                                                                   | 3                                                                            | 4                                                                            | 1                                                                            | NA                                                                           | NA                                                                           | 1                                                                            | bicycle;television;solar_panel;table                                         | 2                                                                            | Jan                                                                          | uuid:ec241f2c-0609-46ed-b5e8-fe575f6cefef                                    | FALSE                                                                        | FALSE                                                                        | TRUE                                                                         | FALSE                                                                        |\n",
       "| 1                                                                            | God                                                                          | 2016-11-17                                                                   | 7                                                                            | 9                                                                            | 1                                                                            | yes                                                                          | once                                                                         | 3                                                                            | cow_cart;bicycle;radio;cow_plough;solar_panel;solar_torch;table;mobile_phone | 2                                                                            | Jan;Sept;Oct;Nov;Dec                                                         | uuid:099de9c9-3e5e-427b-8452-26250e840d6e                                    | FALSE                                                                        | FALSE                                                                        | TRUE                                                                         | FALSE                                                                        |\n",
       "\n"
      ],
      "text/plain": [
       "  key_ID village interview_date no_membrs years_liv rooms memb_assoc\n",
       "1 1      God     2016-11-17     3         4         1     NA        \n",
       "2 1      God     2016-11-17     7         9         1     yes       \n",
       "  affect_conflicts liv_count\n",
       "1 NA               1        \n",
       "2 once             3        \n",
       "  items_owned                                                                 \n",
       "1 bicycle;television;solar_panel;table                                        \n",
       "2 cow_cart;bicycle;radio;cow_plough;solar_panel;solar_torch;table;mobile_phone\n",
       "  no_meals months_lack_food     instanceID                               \n",
       "1 2        Jan                  uuid:ec241f2c-0609-46ed-b5e8-fe575f6cefef\n",
       "2 2        Jan;Sept;Oct;Nov;Dec uuid:099de9c9-3e5e-427b-8452-26250e840d6e\n",
       "  burntbricks cement muddaub sunbricks\n",
       "1 FALSE       FALSE  TRUE    FALSE    \n",
       "2 FALSE       FALSE  TRUE    FALSE    "
      ]
     },
     "metadata": {},
     "output_type": "display_data"
    }
   ],
   "source": [
    "## Create new columns for each type of wall construction material   \n",
    "interviews_spread <- interviews %>%\n",
    "    mutate(wall_type_logical = TRUE) %>%\n",
    "    spread(key = respondent_wall_type, value = wall_type_logical, fill = FALSE)\n",
    "interviews_spread[1:2,]"
   ]
  },
  {
   "cell_type": "markdown",
   "metadata": {},
   "source": [
    "## Gathering   \n",
    "**gather** transform w wide to long format and takes four principal arguments:\n",
    "\n",
    "    the data\n",
    "    the key column variable we wish to create from column names.\n",
    "    the value column variable we wish to create and fill with values associated with the key.\n",
    "    the names of the columns we use to fill the key variable (or to drop).\n"
   ]
  },
  {
   "cell_type": "code",
   "execution_count": 17,
   "metadata": {},
   "outputs": [
    {
     "data": {
      "text/html": [
       "<table>\n",
       "<thead><tr><th scope=col>key_ID</th><th scope=col>village</th><th scope=col>interview_date</th><th scope=col>no_membrs</th><th scope=col>years_liv</th><th scope=col>rooms</th><th scope=col>memb_assoc</th><th scope=col>affect_conflicts</th><th scope=col>liv_count</th><th scope=col>items_owned</th><th scope=col>no_meals</th><th scope=col>months_lack_food</th><th scope=col>instanceID</th><th scope=col>respondent_wall_type</th><th scope=col>wall_type_logical</th></tr></thead>\n",
       "<tbody>\n",
       "\t<tr><td>1                                                                           </td><td>God                                                                         </td><td>2016-11-17                                                                  </td><td>3                                                                           </td><td>4                                                                           </td><td>1                                                                           </td><td>NA                                                                          </td><td>NA                                                                          </td><td>1                                                                           </td><td>bicycle;television;solar_panel;table                                        </td><td>2                                                                           </td><td>Jan                                                                         </td><td>uuid:ec241f2c-0609-46ed-b5e8-fe575f6cefef                                   </td><td>burntbricks                                                                 </td><td>FALSE                                                                       </td></tr>\n",
       "\t<tr><td>1                                                                           </td><td>God                                                                         </td><td>2016-11-17                                                                  </td><td>7                                                                           </td><td>9                                                                           </td><td>1                                                                           </td><td>yes                                                                         </td><td>once                                                                        </td><td>3                                                                           </td><td>cow_cart;bicycle;radio;cow_plough;solar_panel;solar_torch;table;mobile_phone</td><td>2                                                                           </td><td>Jan;Sept;Oct;Nov;Dec                                                        </td><td>uuid:099de9c9-3e5e-427b-8452-26250e840d6e                                   </td><td>burntbricks                                                                 </td><td>FALSE                                                                       </td></tr>\n",
       "</tbody>\n",
       "</table>\n"
      ],
      "text/latex": [
       "\\begin{tabular}{r|lllllllllllllll}\n",
       " key\\_ID & village & interview\\_date & no\\_membrs & years\\_liv & rooms & memb\\_assoc & affect\\_conflicts & liv\\_count & items\\_owned & no\\_meals & months\\_lack\\_food & instanceID & respondent\\_wall\\_type & wall\\_type\\_logical\\\\\n",
       "\\hline\n",
       "\t 1                                                                              & God                                                                            & 2016-11-17                                                                     & 3                                                                              & 4                                                                              & 1                                                                              & NA                                                                             & NA                                                                             & 1                                                                              & bicycle;television;solar\\_panel;table                                         & 2                                                                              & Jan                                                                            & uuid:ec241f2c-0609-46ed-b5e8-fe575f6cefef                                      & burntbricks                                                                    & FALSE                                                                         \\\\\n",
       "\t 1                                                                                      & God                                                                                    & 2016-11-17                                                                             & 7                                                                                      & 9                                                                                      & 1                                                                                      & yes                                                                                    & once                                                                                   & 3                                                                                      & cow\\_cart;bicycle;radio;cow\\_plough;solar\\_panel;solar\\_torch;table;mobile\\_phone & 2                                                                                      & Jan;Sept;Oct;Nov;Dec                                                                   & uuid:099de9c9-3e5e-427b-8452-26250e840d6e                                              & burntbricks                                                                            & FALSE                                                                                 \\\\\n",
       "\\end{tabular}\n"
      ],
      "text/markdown": [
       "\n",
       "| key_ID | village | interview_date | no_membrs | years_liv | rooms | memb_assoc | affect_conflicts | liv_count | items_owned | no_meals | months_lack_food | instanceID | respondent_wall_type | wall_type_logical |\n",
       "|---|---|---|---|---|---|---|---|---|---|---|---|---|---|---|\n",
       "| 1                                                                            | God                                                                          | 2016-11-17                                                                   | 3                                                                            | 4                                                                            | 1                                                                            | NA                                                                           | NA                                                                           | 1                                                                            | bicycle;television;solar_panel;table                                         | 2                                                                            | Jan                                                                          | uuid:ec241f2c-0609-46ed-b5e8-fe575f6cefef                                    | burntbricks                                                                  | FALSE                                                                        |\n",
       "| 1                                                                            | God                                                                          | 2016-11-17                                                                   | 7                                                                            | 9                                                                            | 1                                                                            | yes                                                                          | once                                                                         | 3                                                                            | cow_cart;bicycle;radio;cow_plough;solar_panel;solar_torch;table;mobile_phone | 2                                                                            | Jan;Sept;Oct;Nov;Dec                                                         | uuid:099de9c9-3e5e-427b-8452-26250e840d6e                                    | burntbricks                                                                  | FALSE                                                                        |\n",
       "\n"
      ],
      "text/plain": [
       "  key_ID village interview_date no_membrs years_liv rooms memb_assoc\n",
       "1 1      God     2016-11-17     3         4         1     NA        \n",
       "2 1      God     2016-11-17     7         9         1     yes       \n",
       "  affect_conflicts liv_count\n",
       "1 NA               1        \n",
       "2 once             3        \n",
       "  items_owned                                                                 \n",
       "1 bicycle;television;solar_panel;table                                        \n",
       "2 cow_cart;bicycle;radio;cow_plough;solar_panel;solar_torch;table;mobile_phone\n",
       "  no_meals months_lack_food     instanceID                               \n",
       "1 2        Jan                  uuid:ec241f2c-0609-46ed-b5e8-fe575f6cefef\n",
       "2 2        Jan;Sept;Oct;Nov;Dec uuid:099de9c9-3e5e-427b-8452-26250e840d6e\n",
       "  respondent_wall_type wall_type_logical\n",
       "1 burntbricks          FALSE            \n",
       "2 burntbricks          FALSE            "
      ]
     },
     "metadata": {},
     "output_type": "display_data"
    }
   ],
   "source": [
    "## reconstruct data\n",
    "interviews_gather <- interviews_spread %>%\n",
    "    gather(key = respondent_wall_type, value = \"wall_type_logical\",\n",
    "           burntbricks:sunbricks)\n",
    "interviews_gather[1:2,]\n"
   ]
  },
  {
   "cell_type": "markdown",
   "metadata": {},
   "source": [
    "Only one row for each interview respondent is informative - we know that if the house walls are made of “sunbrick” they aren’t made of any other the other materials. Therefore, we can get filter our dataset to only keep values where wall_type_logical is TRUE. Because, wall_type_logical is already either TRUE or FALSE, when passing the column name to filter(), it will automatically already only keep rows where this column has the value TRUE. We can then remove the wall_type_logical column. We do all of these steps together in the next chunk of code:"
   ]
  },
  {
   "cell_type": "code",
   "execution_count": 18,
   "metadata": {},
   "outputs": [
    {
     "data": {
      "text/html": [
       "<table>\n",
       "<thead><tr><th scope=col>key_ID</th><th scope=col>village</th><th scope=col>interview_date</th><th scope=col>no_membrs</th><th scope=col>years_liv</th><th scope=col>rooms</th><th scope=col>memb_assoc</th><th scope=col>affect_conflicts</th><th scope=col>liv_count</th><th scope=col>items_owned</th><th scope=col>no_meals</th><th scope=col>months_lack_food</th><th scope=col>instanceID</th><th scope=col>respondent_wall_type</th></tr></thead>\n",
       "<tbody>\n",
       "\t<tr><td>3                                                </td><td>God                                              </td><td>2016-11-17                                       </td><td>10                                               </td><td>15                                               </td><td>1                                                </td><td>NA                                               </td><td>NA                                               </td><td>1                                                </td><td>solar_torch                                      </td><td>2                                                </td><td>Jan;Feb;Mar;Oct;Nov;Dec                          </td><td>uuid:193d7daf-9582-409b-bf09-027dd36f9007        </td><td>burntbricks                                      </td></tr>\n",
       "\t<tr><td>4                                                </td><td>God                                              </td><td>2016-11-17                                       </td><td> 7                                               </td><td> 6                                               </td><td>1                                                </td><td>NA                                               </td><td>NA                                               </td><td>2                                                </td><td>bicycle;radio;cow_plough;solar_panel;mobile_phone</td><td>2                                                </td><td>Sept;Oct;Nov;Dec                                 </td><td>uuid:148d1105-778a-4755-aa71-281eadd4a973        </td><td>burntbricks                                      </td></tr>\n",
       "</tbody>\n",
       "</table>\n"
      ],
      "text/latex": [
       "\\begin{tabular}{r|llllllllllllll}\n",
       " key\\_ID & village & interview\\_date & no\\_membrs & years\\_liv & rooms & memb\\_assoc & affect\\_conflicts & liv\\_count & items\\_owned & no\\_meals & months\\_lack\\_food & instanceID & respondent\\_wall\\_type\\\\\n",
       "\\hline\n",
       "\t 3                                                   & God                                                 & 2016-11-17                                          & 10                                                  & 15                                                  & 1                                                   & NA                                                  & NA                                                  & 1                                                   & solar\\_torch                                       & 2                                                   & Jan;Feb;Mar;Oct;Nov;Dec                             & uuid:193d7daf-9582-409b-bf09-027dd36f9007           & burntbricks                                        \\\\\n",
       "\t 4                                                       & God                                                     & 2016-11-17                                              &  7                                                      &  6                                                      & 1                                                       & NA                                                      & NA                                                      & 2                                                       & bicycle;radio;cow\\_plough;solar\\_panel;mobile\\_phone & 2                                                       & Sept;Oct;Nov;Dec                                        & uuid:148d1105-778a-4755-aa71-281eadd4a973               & burntbricks                                            \\\\\n",
       "\\end{tabular}\n"
      ],
      "text/markdown": [
       "\n",
       "| key_ID | village | interview_date | no_membrs | years_liv | rooms | memb_assoc | affect_conflicts | liv_count | items_owned | no_meals | months_lack_food | instanceID | respondent_wall_type |\n",
       "|---|---|---|---|---|---|---|---|---|---|---|---|---|---|\n",
       "| 3                                                 | God                                               | 2016-11-17                                        | 10                                                | 15                                                | 1                                                 | NA                                                | NA                                                | 1                                                 | solar_torch                                       | 2                                                 | Jan;Feb;Mar;Oct;Nov;Dec                           | uuid:193d7daf-9582-409b-bf09-027dd36f9007         | burntbricks                                       |\n",
       "| 4                                                 | God                                               | 2016-11-17                                        |  7                                                |  6                                                | 1                                                 | NA                                                | NA                                                | 2                                                 | bicycle;radio;cow_plough;solar_panel;mobile_phone | 2                                                 | Sept;Oct;Nov;Dec                                  | uuid:148d1105-778a-4755-aa71-281eadd4a973         | burntbricks                                       |\n",
       "\n"
      ],
      "text/plain": [
       "  key_ID village interview_date no_membrs years_liv rooms memb_assoc\n",
       "1 3      God     2016-11-17     10        15        1     NA        \n",
       "2 4      God     2016-11-17      7         6        1     NA        \n",
       "  affect_conflicts liv_count items_owned                                      \n",
       "1 NA               1         solar_torch                                      \n",
       "2 NA               2         bicycle;radio;cow_plough;solar_panel;mobile_phone\n",
       "  no_meals months_lack_food        instanceID                               \n",
       "1 2        Jan;Feb;Mar;Oct;Nov;Dec uuid:193d7daf-9582-409b-bf09-027dd36f9007\n",
       "2 2        Sept;Oct;Nov;Dec        uuid:148d1105-778a-4755-aa71-281eadd4a973\n",
       "  respondent_wall_type\n",
       "1 burntbricks         \n",
       "2 burntbricks         "
      ]
     },
     "metadata": {},
     "output_type": "display_data"
    }
   ],
   "source": [
    "interviews_gather <- interviews_spread %>%\n",
    "    gather(key = \"respondent_wall_type\", value = \"wall_type_logical\",\n",
    "           burntbricks:sunbricks) %>%\n",
    "    filter(wall_type_logical) %>%\n",
    "    select(-wall_type_logical)\n",
    "interviews_gather[1:2,]"
   ]
  },
  {
   "cell_type": "markdown",
   "metadata": {},
   "source": [
    "## generate data from splitting a specified column   \n",
    "For example, the **items_owned** column contains information about whether our respondents owned a **fridge, a television,** etc. To make this data easier to analyze, we will split this column and create a new column for each item. Each cell in that column will either be TRUE or FALSE and will indicate whether that interview respondent owned that item."
   ]
  },
  {
   "cell_type": "code",
   "execution_count": 19,
   "metadata": {},
   "outputs": [
    {
     "data": {
      "text/html": [
       "<table>\n",
       "<thead><tr><th scope=col>items_owned</th></tr></thead>\n",
       "<tbody>\n",
       "\t<tr><td>bicycle;television;solar_panel;table                                        </td></tr>\n",
       "\t<tr><td>cow_cart;bicycle;radio;cow_plough;solar_panel;solar_torch;table;mobile_phone</td></tr>\n",
       "</tbody>\n",
       "</table>\n"
      ],
      "text/latex": [
       "\\begin{tabular}{r|l}\n",
       " items\\_owned\\\\\n",
       "\\hline\n",
       "\t bicycle;television;solar\\_panel;table                                        \\\\\n",
       "\t cow\\_cart;bicycle;radio;cow\\_plough;solar\\_panel;solar\\_torch;table;mobile\\_phone\\\\\n",
       "\\end{tabular}\n"
      ],
      "text/markdown": [
       "\n",
       "| items_owned |\n",
       "|---|\n",
       "| bicycle;television;solar_panel;table                                         |\n",
       "| cow_cart;bicycle;radio;cow_plough;solar_panel;solar_torch;table;mobile_phone |\n",
       "\n"
      ],
      "text/plain": [
       "  items_owned                                                                 \n",
       "1 bicycle;television;solar_panel;table                                        \n",
       "2 cow_cart;bicycle;radio;cow_plough;solar_panel;solar_torch;table;mobile_phone"
      ]
     },
     "metadata": {},
     "output_type": "display_data"
    }
   ],
   "source": [
    "interviews[1:2, 'items_owned']"
   ]
  },
  {
   "cell_type": "code",
   "execution_count": 20,
   "metadata": {},
   "outputs": [
    {
     "data": {
      "text/html": [
       "<table>\n",
       "<thead><tr><th scope=col>key_ID</th><th scope=col>village</th><th scope=col>interview_date</th><th scope=col>no_membrs</th><th scope=col>years_liv</th><th scope=col>respondent_wall_type</th><th scope=col>rooms</th><th scope=col>memb_assoc</th><th scope=col>affect_conflicts</th><th scope=col>liv_count</th><th scope=col>...</th><th scope=col>mobile_phone</th><th scope=col>motorcyle</th><th scope=col>radio</th><th scope=col>sofa_set</th><th scope=col>solar_panel</th><th scope=col>solar_torch</th><th scope=col>sterio</th><th scope=col>table</th><th scope=col>television</th><th scope=col>&lt;NA&gt;</th></tr></thead>\n",
       "<tbody>\n",
       "\t<tr><td>1          </td><td>God        </td><td>2016-11-17 </td><td> 3         </td><td> 4         </td><td>muddaub    </td><td>1          </td><td>NA         </td><td>NA         </td><td>1          </td><td>...        </td><td>FALSE      </td><td>FALSE      </td><td>FALSE      </td><td>FALSE      </td><td> TRUE      </td><td>FALSE      </td><td>FALSE      </td><td> TRUE      </td><td> TRUE      </td><td>FALSE      </td></tr>\n",
       "\t<tr><td>1          </td><td>God        </td><td>2016-11-17 </td><td> 7         </td><td> 9         </td><td>muddaub    </td><td>1          </td><td>yes        </td><td>once       </td><td>3          </td><td>...        </td><td> TRUE      </td><td>FALSE      </td><td> TRUE      </td><td>FALSE      </td><td> TRUE      </td><td> TRUE      </td><td>FALSE      </td><td> TRUE      </td><td>FALSE      </td><td>FALSE      </td></tr>\n",
       "\t<tr><td>3          </td><td>God        </td><td>2016-11-17 </td><td>10         </td><td>15         </td><td>burntbricks</td><td>1          </td><td>NA         </td><td>NA         </td><td>1          </td><td>...        </td><td>FALSE      </td><td>FALSE      </td><td>FALSE      </td><td>FALSE      </td><td>FALSE      </td><td> TRUE      </td><td>FALSE      </td><td>FALSE      </td><td>FALSE      </td><td>FALSE      </td></tr>\n",
       "</tbody>\n",
       "</table>\n"
      ],
      "text/latex": [
       "\\begin{tabular}{r|llllllllllllllllllllllllllllllll}\n",
       " key\\_ID & village & interview\\_date & no\\_membrs & years\\_liv & respondent\\_wall\\_type & rooms & memb\\_assoc & affect\\_conflicts & liv\\_count & ... & mobile\\_phone & motorcyle & radio & sofa\\_set & solar\\_panel & solar\\_torch & sterio & table & television & <NA>\\\\\n",
       "\\hline\n",
       "\t 1           & God         & 2016-11-17  &  3          &  4          & muddaub     & 1           & NA          & NA          & 1           & ...         & FALSE       & FALSE       & FALSE       & FALSE       &  TRUE       & FALSE       & FALSE       &  TRUE       &  TRUE       & FALSE      \\\\\n",
       "\t 1           & God         & 2016-11-17  &  7          &  9          & muddaub     & 1           & yes         & once        & 3           & ...         &  TRUE       & FALSE       &  TRUE       & FALSE       &  TRUE       &  TRUE       & FALSE       &  TRUE       & FALSE       & FALSE      \\\\\n",
       "\t 3           & God         & 2016-11-17  & 10          & 15          & burntbricks & 1           & NA          & NA          & 1           & ...         & FALSE       & FALSE       & FALSE       & FALSE       & FALSE       &  TRUE       & FALSE       & FALSE       & FALSE       & FALSE      \\\\\n",
       "\\end{tabular}\n"
      ],
      "text/markdown": [
       "\n",
       "| key_ID | village | interview_date | no_membrs | years_liv | respondent_wall_type | rooms | memb_assoc | affect_conflicts | liv_count | ... | mobile_phone | motorcyle | radio | sofa_set | solar_panel | solar_torch | sterio | table | television | <NA> |\n",
       "|---|---|---|---|---|---|---|---|---|---|---|---|---|---|---|---|---|---|---|---|---|\n",
       "| 1           | God         | 2016-11-17  |  3          |  4          | muddaub     | 1           | NA          | NA          | 1           | ...         | FALSE       | FALSE       | FALSE       | FALSE       |  TRUE       | FALSE       | FALSE       |  TRUE       |  TRUE       | FALSE       |\n",
       "| 1           | God         | 2016-11-17  |  7          |  9          | muddaub     | 1           | yes         | once        | 3           | ...         |  TRUE       | FALSE       |  TRUE       | FALSE       |  TRUE       |  TRUE       | FALSE       |  TRUE       | FALSE       | FALSE       |\n",
       "| 3           | God         | 2016-11-17  | 10          | 15          | burntbricks | 1           | NA          | NA          | 1           | ...         | FALSE       | FALSE       | FALSE       | FALSE       | FALSE       |  TRUE       | FALSE       | FALSE       | FALSE       | FALSE       |\n",
       "\n"
      ],
      "text/plain": [
       "  key_ID village interview_date no_membrs years_liv respondent_wall_type rooms\n",
       "1 1      God     2016-11-17      3         4        muddaub              1    \n",
       "2 1      God     2016-11-17      7         9        muddaub              1    \n",
       "3 3      God     2016-11-17     10        15        burntbricks          1    \n",
       "  memb_assoc affect_conflicts liv_count ... mobile_phone motorcyle radio\n",
       "1 NA         NA               1         ... FALSE        FALSE     FALSE\n",
       "2 yes        once             3         ...  TRUE        FALSE      TRUE\n",
       "3 NA         NA               1         ... FALSE        FALSE     FALSE\n",
       "  sofa_set solar_panel solar_torch sterio table television <NA> \n",
       "1 FALSE     TRUE       FALSE       FALSE   TRUE  TRUE      FALSE\n",
       "2 FALSE     TRUE        TRUE       FALSE   TRUE FALSE      FALSE\n",
       "3 FALSE    FALSE        TRUE       FALSE  FALSE FALSE      FALSE"
      ]
     },
     "metadata": {},
     "output_type": "display_data"
    }
   ],
   "source": [
    "interviews_items_owned <- interviews %>%\n",
    "    mutate(split_items = strsplit(items_owned, \";\")) %>%\n",
    "    unnest() %>%   # Create a long format \n",
    "    mutate(items_owned_logical = TRUE) %>%\n",
    "    spread(key = split_items, value = items_owned_logical, fill = FALSE)  # convert from long format to short format\n",
    "\n",
    "interviews_items_owned[1:3,]"
   ]
  },
  {
   "cell_type": "code",
   "execution_count": 25,
   "metadata": {},
   "outputs": [
    {
     "data": {
      "text/html": [
       "<ol class=list-inline>\n",
       "\t<li>131</li>\n",
       "\t<li>32</li>\n",
       "</ol>\n"
      ],
      "text/latex": [
       "\\begin{enumerate*}\n",
       "\\item 131\n",
       "\\item 32\n",
       "\\end{enumerate*}\n"
      ],
      "text/markdown": [
       "1. 131\n",
       "2. 32\n",
       "\n",
       "\n"
      ],
      "text/plain": [
       "[1] 131  32"
      ]
     },
     "metadata": {},
     "output_type": "display_data"
    }
   ],
   "source": [
    "dim(interviews_items_owned)"
   ]
  },
  {
   "cell_type": "markdown",
   "metadata": {},
   "source": [
    "This format of the data allows us to do interesting things, like make a table showing the number of respondents in each village who owned a particular item:"
   ]
  },
  {
   "cell_type": "code",
   "execution_count": 26,
   "metadata": {},
   "outputs": [
    {
     "data": {
      "text/html": [
       "<table>\n",
       "<thead><tr><th scope=col>village</th><th scope=col>bicycle</th><th scope=col>n</th></tr></thead>\n",
       "<tbody>\n",
       "\t<tr><td>Chirodzo</td><td>TRUE    </td><td>17      </td></tr>\n",
       "\t<tr><td>God     </td><td>TRUE    </td><td>23      </td></tr>\n",
       "\t<tr><td>Ruaca   </td><td>TRUE    </td><td>20      </td></tr>\n",
       "</tbody>\n",
       "</table>\n"
      ],
      "text/latex": [
       "\\begin{tabular}{r|lll}\n",
       " village & bicycle & n\\\\\n",
       "\\hline\n",
       "\t Chirodzo & TRUE     & 17      \\\\\n",
       "\t God      & TRUE     & 23      \\\\\n",
       "\t Ruaca    & TRUE     & 20      \\\\\n",
       "\\end{tabular}\n"
      ],
      "text/markdown": [
       "\n",
       "| village | bicycle | n |\n",
       "|---|---|---|\n",
       "| Chirodzo | TRUE     | 17       |\n",
       "| God      | TRUE     | 23       |\n",
       "| Ruaca    | TRUE     | 20       |\n",
       "\n"
      ],
      "text/plain": [
       "  village  bicycle n \n",
       "1 Chirodzo TRUE    17\n",
       "2 God      TRUE    23\n",
       "3 Ruaca    TRUE    20"
      ]
     },
     "metadata": {},
     "output_type": "display_data"
    }
   ],
   "source": [
    "interviews_items_owned %>%\n",
    "    filter(bicycle) %>%\n",
    "    group_by(village) %>%\n",
    "    count(bicycle)"
   ]
  },
  {
   "cell_type": "markdown",
   "metadata": {},
   "source": [
    "Use **rowSum** to calculate the average number of items from the list owned by respondents in each village"
   ]
  },
  {
   "cell_type": "code",
   "execution_count": 27,
   "metadata": {},
   "outputs": [
    {
     "data": {
      "text/html": [
       "<table>\n",
       "<thead><tr><th scope=col>village</th><th scope=col>mean_items</th></tr></thead>\n",
       "<tbody>\n",
       "\t<tr><td>Chirodzo</td><td>4.538462</td></tr>\n",
       "\t<tr><td>God     </td><td>3.976744</td></tr>\n",
       "\t<tr><td>Ruaca   </td><td>5.571429</td></tr>\n",
       "</tbody>\n",
       "</table>\n"
      ],
      "text/latex": [
       "\\begin{tabular}{r|ll}\n",
       " village & mean\\_items\\\\\n",
       "\\hline\n",
       "\t Chirodzo & 4.538462\\\\\n",
       "\t God      & 3.976744\\\\\n",
       "\t Ruaca    & 5.571429\\\\\n",
       "\\end{tabular}\n"
      ],
      "text/markdown": [
       "\n",
       "| village | mean_items |\n",
       "|---|---|\n",
       "| Chirodzo | 4.538462 |\n",
       "| God      | 3.976744 |\n",
       "| Ruaca    | 5.571429 |\n",
       "\n"
      ],
      "text/plain": [
       "  village  mean_items\n",
       "1 Chirodzo 4.538462  \n",
       "2 God      3.976744  \n",
       "3 Ruaca    5.571429  "
      ]
     },
     "metadata": {},
     "output_type": "display_data"
    }
   ],
   "source": [
    "interviews_items_owned %>%\n",
    "    mutate(number_items = rowSums(select(., bicycle:television))) %>%\n",
    "    group_by(village) %>%\n",
    "    summarize(mean_items = mean(number_items))"
   ]
  },
  {
   "cell_type": "code",
   "execution_count": 28,
   "metadata": {},
   "outputs": [
    {
     "name": "stdout",
     "output_type": "stream",
     "text": [
      "Classes 'spec_tbl_df', 'tbl_df', 'tbl' and 'data.frame':\t131 obs. of  14 variables:\n",
      " $ key_ID              : num  1 1 3 4 5 6 7 8 9 10 ...\n",
      " $ village             : chr  \"God\" \"God\" \"God\" \"God\" ...\n",
      " $ interview_date      : POSIXct, format: \"2016-11-17\" \"2016-11-17\" ...\n",
      " $ no_membrs           : num  3 7 10 7 7 3 6 12 8 12 ...\n",
      " $ years_liv           : num  4 9 15 6 40 3 38 70 6 23 ...\n",
      " $ respondent_wall_type: chr  \"muddaub\" \"muddaub\" \"burntbricks\" \"burntbricks\" ...\n",
      " $ rooms               : num  1 1 1 1 1 1 1 3 1 5 ...\n",
      " $ memb_assoc          : chr  NA \"yes\" NA NA ...\n",
      " $ affect_conflicts    : chr  NA \"once\" NA NA ...\n",
      " $ liv_count           : num  1 3 1 2 4 1 1 2 3 2 ...\n",
      " $ items_owned         : chr  \"bicycle;television;solar_panel;table\" \"cow_cart;bicycle;radio;cow_plough;solar_panel;solar_torch;table;mobile_phone\" \"solar_torch\" \"bicycle;radio;cow_plough;solar_panel;mobile_phone\" ...\n",
      " $ no_meals            : num  2 2 2 2 2 2 3 2 3 3 ...\n",
      " $ months_lack_food    : chr  \"Jan\" \"Jan;Sept;Oct;Nov;Dec\" \"Jan;Feb;Mar;Oct;Nov;Dec\" \"Sept;Oct;Nov;Dec\" ...\n",
      " $ instanceID          : chr  \"uuid:ec241f2c-0609-46ed-b5e8-fe575f6cefef\" \"uuid:099de9c9-3e5e-427b-8452-26250e840d6e\" \"uuid:193d7daf-9582-409b-bf09-027dd36f9007\" \"uuid:148d1105-778a-4755-aa71-281eadd4a973\" ...\n",
      " - attr(*, \"spec\")=\n",
      "  .. cols(\n",
      "  ..   key_ID = col_double(),\n",
      "  ..   village = col_character(),\n",
      "  ..   interview_date = col_datetime(format = \"\"),\n",
      "  ..   no_membrs = col_double(),\n",
      "  ..   years_liv = col_double(),\n",
      "  ..   respondent_wall_type = col_character(),\n",
      "  ..   rooms = col_double(),\n",
      "  ..   memb_assoc = col_character(),\n",
      "  ..   affect_conflicts = col_character(),\n",
      "  ..   liv_count = col_double(),\n",
      "  ..   items_owned = col_character(),\n",
      "  ..   no_meals = col_double(),\n",
      "  ..   months_lack_food = col_character(),\n",
      "  ..   instanceID = col_character()\n",
      "  .. )\n"
     ]
    }
   ],
   "source": [
    "str(interviews)"
   ]
  },
  {
   "cell_type": "markdown",
   "metadata": {},
   "source": [
    "Create a new data frame (named interviews_months_lack_food) that has one column for each month and records TRUE or FALSE for whether each interview respondent was lacking food in that month."
   ]
  },
  {
   "cell_type": "code",
   "execution_count": 29,
   "metadata": {},
   "outputs": [
    {
     "data": {
      "text/html": [
       "<table>\n",
       "<thead><tr><th scope=col>key_ID</th><th scope=col>village</th><th scope=col>interview_date</th><th scope=col>no_membrs</th><th scope=col>years_liv</th><th scope=col>respondent_wall_type</th><th scope=col>rooms</th><th scope=col>memb_assoc</th><th scope=col>affect_conflicts</th><th scope=col>liv_count</th><th scope=col>...</th><th scope=col>Feb</th><th scope=col>Jan</th><th scope=col>July</th><th scope=col>June</th><th scope=col>Mar</th><th scope=col>May</th><th scope=col>none</th><th scope=col>Nov</th><th scope=col>Oct</th><th scope=col>Sept</th></tr></thead>\n",
       "<tbody>\n",
       "\t<tr><td>1         </td><td>God       </td><td>2016-11-17</td><td>3         </td><td>4         </td><td>muddaub   </td><td>1         </td><td>NA        </td><td>NA        </td><td>1         </td><td>...       </td><td>FALSE     </td><td>TRUE      </td><td>FALSE     </td><td>FALSE     </td><td>FALSE     </td><td>FALSE     </td><td>FALSE     </td><td>FALSE     </td><td>FALSE     </td><td>FALSE     </td></tr>\n",
       "\t<tr><td>1         </td><td>God       </td><td>2016-11-17</td><td>7         </td><td>9         </td><td>muddaub   </td><td>1         </td><td>yes       </td><td>once      </td><td>3         </td><td>...       </td><td>FALSE     </td><td>TRUE      </td><td>FALSE     </td><td>FALSE     </td><td>FALSE     </td><td>FALSE     </td><td>FALSE     </td><td> TRUE     </td><td> TRUE     </td><td> TRUE     </td></tr>\n",
       "</tbody>\n",
       "</table>\n"
      ],
      "text/latex": [
       "\\begin{tabular}{r|lllllllllllllllllllllllllll}\n",
       " key\\_ID & village & interview\\_date & no\\_membrs & years\\_liv & respondent\\_wall\\_type & rooms & memb\\_assoc & affect\\_conflicts & liv\\_count & ... & Feb & Jan & July & June & Mar & May & none & Nov & Oct & Sept\\\\\n",
       "\\hline\n",
       "\t 1          & God        & 2016-11-17 & 3          & 4          & muddaub    & 1          & NA         & NA         & 1          & ...        & FALSE      & TRUE       & FALSE      & FALSE      & FALSE      & FALSE      & FALSE      & FALSE      & FALSE      & FALSE     \\\\\n",
       "\t 1          & God        & 2016-11-17 & 7          & 9          & muddaub    & 1          & yes        & once       & 3          & ...        & FALSE      & TRUE       & FALSE      & FALSE      & FALSE      & FALSE      & FALSE      &  TRUE      &  TRUE      &  TRUE     \\\\\n",
       "\\end{tabular}\n"
      ],
      "text/markdown": [
       "\n",
       "| key_ID | village | interview_date | no_membrs | years_liv | respondent_wall_type | rooms | memb_assoc | affect_conflicts | liv_count | ... | Feb | Jan | July | June | Mar | May | none | Nov | Oct | Sept |\n",
       "|---|---|---|---|---|---|---|---|---|---|---|---|---|---|---|---|---|---|---|---|---|\n",
       "| 1          | God        | 2016-11-17 | 3          | 4          | muddaub    | 1          | NA         | NA         | 1          | ...        | FALSE      | TRUE       | FALSE      | FALSE      | FALSE      | FALSE      | FALSE      | FALSE      | FALSE      | FALSE      |\n",
       "| 1          | God        | 2016-11-17 | 7          | 9          | muddaub    | 1          | yes        | once       | 3          | ...        | FALSE      | TRUE       | FALSE      | FALSE      | FALSE      | FALSE      | FALSE      |  TRUE      |  TRUE      |  TRUE      |\n",
       "\n"
      ],
      "text/plain": [
       "  key_ID village interview_date no_membrs years_liv respondent_wall_type rooms\n",
       "1 1      God     2016-11-17     3         4         muddaub              1    \n",
       "2 1      God     2016-11-17     7         9         muddaub              1    \n",
       "  memb_assoc affect_conflicts liv_count ... Feb   Jan  July  June  Mar   May  \n",
       "1 NA         NA               1         ... FALSE TRUE FALSE FALSE FALSE FALSE\n",
       "2 yes        once             3         ... FALSE TRUE FALSE FALSE FALSE FALSE\n",
       "  none  Nov   Oct   Sept \n",
       "1 FALSE FALSE FALSE FALSE\n",
       "2 FALSE  TRUE  TRUE  TRUE"
      ]
     },
     "metadata": {},
     "output_type": "display_data"
    }
   ],
   "source": [
    "interviews_months_lack_food <- interviews %>%\n",
    "  mutate(split_months = strsplit(months_lack_food, \";\")) %>%\n",
    "  unnest() %>%\n",
    "  mutate(months_lack_food_logical  = TRUE) %>%\n",
    "  spread(key = split_months, value = months_lack_food_logical, fill = FALSE)\n",
    "\n",
    "interviews_months_lack_food[1:2,]"
   ]
  },
  {
   "cell_type": "markdown",
   "metadata": {},
   "source": [
    "**How many months (on average)** were respondents **without food** if they did belong to an irrigation association? What about if they didn’t?\n",
    "    "
   ]
  },
  {
   "cell_type": "code",
   "execution_count": 30,
   "metadata": {},
   "outputs": [
    {
     "data": {
      "text/html": [
       "<table>\n",
       "<thead><tr><th scope=col>memb_assoc</th><th scope=col>mean_months</th></tr></thead>\n",
       "<tbody>\n",
       "\t<tr><td>NA      </td><td>2.948718</td></tr>\n",
       "\t<tr><td>no      </td><td>2.305085</td></tr>\n",
       "\t<tr><td>yes     </td><td>2.636364</td></tr>\n",
       "</tbody>\n",
       "</table>\n"
      ],
      "text/latex": [
       "\\begin{tabular}{r|ll}\n",
       " memb\\_assoc & mean\\_months\\\\\n",
       "\\hline\n",
       "\t NA       & 2.948718\\\\\n",
       "\t no       & 2.305085\\\\\n",
       "\t yes      & 2.636364\\\\\n",
       "\\end{tabular}\n"
      ],
      "text/markdown": [
       "\n",
       "| memb_assoc | mean_months |\n",
       "|---|---|\n",
       "| NA       | 2.948718 |\n",
       "| no       | 2.305085 |\n",
       "| yes      | 2.636364 |\n",
       "\n"
      ],
      "text/plain": [
       "  memb_assoc mean_months\n",
       "1 NA         2.948718   \n",
       "2 no         2.305085   \n",
       "3 yes        2.636364   "
      ]
     },
     "metadata": {},
     "output_type": "display_data"
    },
    {
     "data": {
      "text/html": [
       "<table>\n",
       "<thead><tr><th scope=col>key_ID</th><th scope=col>village</th><th scope=col>interview_date</th><th scope=col>no_membrs</th><th scope=col>years_liv</th><th scope=col>respondent_wall_type</th><th scope=col>rooms</th><th scope=col>memb_assoc</th><th scope=col>affect_conflicts</th><th scope=col>liv_count</th><th scope=col>...</th><th scope=col>Feb</th><th scope=col>Jan</th><th scope=col>July</th><th scope=col>June</th><th scope=col>Mar</th><th scope=col>May</th><th scope=col>none</th><th scope=col>Nov</th><th scope=col>Oct</th><th scope=col>Sept</th></tr></thead>\n",
       "<tbody>\n",
       "\t<tr><td>1         </td><td>God       </td><td>2016-11-17</td><td>3         </td><td>4         </td><td>muddaub   </td><td>1         </td><td>NA        </td><td>NA        </td><td>1         </td><td>...       </td><td>FALSE     </td><td>TRUE      </td><td>FALSE     </td><td>FALSE     </td><td>FALSE     </td><td>FALSE     </td><td>FALSE     </td><td>FALSE     </td><td>FALSE     </td><td>FALSE     </td></tr>\n",
       "\t<tr><td>1         </td><td>God       </td><td>2016-11-17</td><td>7         </td><td>9         </td><td>muddaub   </td><td>1         </td><td>yes       </td><td>once      </td><td>3         </td><td>...       </td><td>FALSE     </td><td>TRUE      </td><td>FALSE     </td><td>FALSE     </td><td>FALSE     </td><td>FALSE     </td><td>FALSE     </td><td> TRUE     </td><td> TRUE     </td><td> TRUE     </td></tr>\n",
       "</tbody>\n",
       "</table>\n"
      ],
      "text/latex": [
       "\\begin{tabular}{r|lllllllllllllllllllllllllll}\n",
       " key\\_ID & village & interview\\_date & no\\_membrs & years\\_liv & respondent\\_wall\\_type & rooms & memb\\_assoc & affect\\_conflicts & liv\\_count & ... & Feb & Jan & July & June & Mar & May & none & Nov & Oct & Sept\\\\\n",
       "\\hline\n",
       "\t 1          & God        & 2016-11-17 & 3          & 4          & muddaub    & 1          & NA         & NA         & 1          & ...        & FALSE      & TRUE       & FALSE      & FALSE      & FALSE      & FALSE      & FALSE      & FALSE      & FALSE      & FALSE     \\\\\n",
       "\t 1          & God        & 2016-11-17 & 7          & 9          & muddaub    & 1          & yes        & once       & 3          & ...        & FALSE      & TRUE       & FALSE      & FALSE      & FALSE      & FALSE      & FALSE      &  TRUE      &  TRUE      &  TRUE     \\\\\n",
       "\\end{tabular}\n"
      ],
      "text/markdown": [
       "\n",
       "| key_ID | village | interview_date | no_membrs | years_liv | respondent_wall_type | rooms | memb_assoc | affect_conflicts | liv_count | ... | Feb | Jan | July | June | Mar | May | none | Nov | Oct | Sept |\n",
       "|---|---|---|---|---|---|---|---|---|---|---|---|---|---|---|---|---|---|---|---|---|\n",
       "| 1          | God        | 2016-11-17 | 3          | 4          | muddaub    | 1          | NA         | NA         | 1          | ...        | FALSE      | TRUE       | FALSE      | FALSE      | FALSE      | FALSE      | FALSE      | FALSE      | FALSE      | FALSE      |\n",
       "| 1          | God        | 2016-11-17 | 7          | 9          | muddaub    | 1          | yes        | once       | 3          | ...        | FALSE      | TRUE       | FALSE      | FALSE      | FALSE      | FALSE      | FALSE      |  TRUE      |  TRUE      |  TRUE      |\n",
       "\n"
      ],
      "text/plain": [
       "  key_ID village interview_date no_membrs years_liv respondent_wall_type rooms\n",
       "1 1      God     2016-11-17     3         4         muddaub              1    \n",
       "2 1      God     2016-11-17     7         9         muddaub              1    \n",
       "  memb_assoc affect_conflicts liv_count ... Feb   Jan  July  June  Mar   May  \n",
       "1 NA         NA               1         ... FALSE TRUE FALSE FALSE FALSE FALSE\n",
       "2 yes        once             3         ... FALSE TRUE FALSE FALSE FALSE FALSE\n",
       "  none  Nov   Oct   Sept \n",
       "1 FALSE FALSE FALSE FALSE\n",
       "2 FALSE  TRUE  TRUE  TRUE"
      ]
     },
     "metadata": {},
     "output_type": "display_data"
    }
   ],
   "source": [
    "interviews_months_lack_food %>%\n",
    "  mutate(number_months = rowSums(select(., Apr:Sept))) %>%\n",
    "  group_by(memb_assoc) %>%\n",
    "  summarize(mean_months = mean(number_months))\n",
    "\n",
    "interviews_months_lack_food[1:2,]"
   ]
  },
  {
   "cell_type": "code",
   "execution_count": 31,
   "metadata": {},
   "outputs": [
    {
     "data": {
      "text/html": [
       "<table>\n",
       "<thead><tr><th scope=col>key_ID</th><th scope=col>village</th><th scope=col>interview_date</th><th scope=col>no_membrs</th><th scope=col>years_liv</th><th scope=col>respondent_wall_type</th><th scope=col>rooms</th><th scope=col>memb_assoc</th><th scope=col>affect_conflicts</th><th scope=col>liv_count</th><th scope=col>...</th><th scope=col>July</th><th scope=col>June</th><th scope=col>Mar</th><th scope=col>May</th><th scope=col>none</th><th scope=col>Nov</th><th scope=col>Oct</th><th scope=col>Sept</th><th scope=col>number_months_lack_food</th><th scope=col>number_items</th></tr></thead>\n",
       "<tbody>\n",
       "\t<tr><td>1         </td><td>God       </td><td>2016-11-17</td><td>3         </td><td>4         </td><td>muddaub   </td><td>1         </td><td>NA        </td><td>NA        </td><td>1         </td><td>...       </td><td>FALSE     </td><td>FALSE     </td><td>FALSE     </td><td>FALSE     </td><td>FALSE     </td><td>FALSE     </td><td>FALSE     </td><td>FALSE     </td><td>1         </td><td>4         </td></tr>\n",
       "\t<tr><td>1         </td><td>God       </td><td>2016-11-17</td><td>7         </td><td>9         </td><td>muddaub   </td><td>1         </td><td>yes       </td><td>once      </td><td>3         </td><td>...       </td><td>FALSE     </td><td>FALSE     </td><td>FALSE     </td><td>FALSE     </td><td>FALSE     </td><td> TRUE     </td><td> TRUE     </td><td> TRUE     </td><td>5         </td><td>8         </td></tr>\n",
       "</tbody>\n",
       "</table>\n"
      ],
      "text/latex": [
       "\\begin{tabular}{r|lllllllllllllllllllllllllllllllllllllllllllllll}\n",
       " key\\_ID & village & interview\\_date & no\\_membrs & years\\_liv & respondent\\_wall\\_type & rooms & memb\\_assoc & affect\\_conflicts & liv\\_count & ... & July & June & Mar & May & none & Nov & Oct & Sept & number\\_months\\_lack\\_food & number\\_items\\\\\n",
       "\\hline\n",
       "\t 1          & God        & 2016-11-17 & 3          & 4          & muddaub    & 1          & NA         & NA         & 1          & ...        & FALSE      & FALSE      & FALSE      & FALSE      & FALSE      & FALSE      & FALSE      & FALSE      & 1          & 4         \\\\\n",
       "\t 1          & God        & 2016-11-17 & 7          & 9          & muddaub    & 1          & yes        & once       & 3          & ...        & FALSE      & FALSE      & FALSE      & FALSE      & FALSE      &  TRUE      &  TRUE      &  TRUE      & 5          & 8         \\\\\n",
       "\\end{tabular}\n"
      ],
      "text/markdown": [
       "\n",
       "| key_ID | village | interview_date | no_membrs | years_liv | respondent_wall_type | rooms | memb_assoc | affect_conflicts | liv_count | ... | July | June | Mar | May | none | Nov | Oct | Sept | number_months_lack_food | number_items |\n",
       "|---|---|---|---|---|---|---|---|---|---|---|---|---|---|---|---|---|---|---|---|---|\n",
       "| 1          | God        | 2016-11-17 | 3          | 4          | muddaub    | 1          | NA         | NA         | 1          | ...        | FALSE      | FALSE      | FALSE      | FALSE      | FALSE      | FALSE      | FALSE      | FALSE      | 1          | 4          |\n",
       "| 1          | God        | 2016-11-17 | 7          | 9          | muddaub    | 1          | yes        | once       | 3          | ...        | FALSE      | FALSE      | FALSE      | FALSE      | FALSE      |  TRUE      |  TRUE      |  TRUE      | 5          | 8          |\n",
       "\n"
      ],
      "text/plain": [
       "  key_ID village interview_date no_membrs years_liv respondent_wall_type rooms\n",
       "1 1      God     2016-11-17     3         4         muddaub              1    \n",
       "2 1      God     2016-11-17     7         9         muddaub              1    \n",
       "  memb_assoc affect_conflicts liv_count ... July  June  Mar   May   none  Nov  \n",
       "1 NA         NA               1         ... FALSE FALSE FALSE FALSE FALSE FALSE\n",
       "2 yes        once             3         ... FALSE FALSE FALSE FALSE FALSE  TRUE\n",
       "  Oct   Sept  number_months_lack_food number_items\n",
       "1 FALSE FALSE 1                       4           \n",
       "2  TRUE  TRUE 5                       8           "
      ]
     },
     "metadata": {},
     "output_type": "display_data"
    }
   ],
   "source": [
    "interviews_plotting <- interviews %>%\n",
    "    ## spread data by items_owned\n",
    "    mutate(split_items = strsplit(items_owned, \";\")) %>%\n",
    "    unnest() %>%\n",
    "    mutate(items_owned_logical = TRUE) %>%\n",
    "    spread(key = split_items, value = items_owned_logical, fill = FALSE) %>%\n",
    "    rename(no_listed_items = `<NA>`) %>%\n",
    "    ## spread data by months_lack_food\n",
    "    mutate(split_months = strsplit(months_lack_food, \";\")) %>%\n",
    "    unnest() %>%\n",
    "    mutate(months_lack_food_logical = TRUE) %>%\n",
    "    spread(key = split_months, value = months_lack_food_logical, fill = FALSE) %>%\n",
    "    ## add some summary columns\n",
    "    mutate(number_months_lack_food = rowSums(select(., Apr:Sept))) %>%\n",
    "    mutate(number_items = rowSums(select(., bicycle:television)))\n",
    "\n",
    "interviews_plotting[1:2,]"
   ]
  },
  {
   "cell_type": "markdown",
   "metadata": {},
   "source": [
    "**Keys**   \n",
    "\n",
    "\n",
    "    . Use the dplyr package to manipulate dataframes.\n",
    "    . Use select() to choose variables from a dataframe.\n",
    "    . Use filter() to choose data based on values.\n",
    "    . Use group_by() and summarize() to work with subsets of data.\n",
    "    . Use mutate() to create new variables.\n",
    "    . Use the tidyr package to change the layout of dataframes.\n",
    "    . Use gather() to go from wide to long format.\n",
    "    . Use spread() to go from long to wide format.\n"
   ]
  },
  {
   "cell_type": "markdown",
   "metadata": {},
   "source": [
    "## Visualize data with ggplot2"
   ]
  },
  {
   "cell_type": "code",
   "execution_count": 32,
   "metadata": {},
   "outputs": [],
   "source": [
    "# Assign plot to a variable\n",
    "interviews_plot <- ggplot(data = interviews_plotting, aes(x = no_membrs, y = number_items))\n"
   ]
  },
  {
   "cell_type": "code",
   "execution_count": 33,
   "metadata": {},
   "outputs": [
    {
     "data": {
      "image/png": "[encoded data removed]",
      "text/plain": [
       "plot without title"
      ]
     },
     "metadata": {},
     "output_type": "display_data"
    }
   ],
   "source": [
    "## This is the correct syntax for adding layers\n",
    "interviews_plot +\n",
    "    geom_point()"
   ]
  },
  {
   "cell_type": "code",
   "execution_count": 34,
   "metadata": {},
   "outputs": [
    {
     "data": {
      "image/png": "[encoded data removed]",
      "text/plain": [
       "plot without title"
      ]
     },
     "metadata": {},
     "output_type": "display_data"
    }
   ],
   "source": [
    "# adding transparent\n",
    "ggplot(data = interviews_plotting, aes(x = no_membrs, y = number_items)) +\n",
    "    geom_point(alpha = 0.5)"
   ]
  },
  {
   "cell_type": "code",
   "execution_count": 35,
   "metadata": {},
   "outputs": [
    {
     "data": {
      "image/png": "[encoded data removed]",
      "text/plain": [
       "plot without title"
      ]
     },
     "metadata": {},
     "output_type": "display_data"
    }
   ],
   "source": [
    "ggplot(data = interviews_plotting, aes(x = no_membrs, y = number_items)) +\n",
    "geom_jitter(alpha = 0.5, color = \"blue\")"
   ]
  },
  {
   "cell_type": "code",
   "execution_count": 36,
   "metadata": {},
   "outputs": [
    {
     "data": {
      "image/png": "[encoded data removed]",
      "text/plain": [
       "plot without title"
      ]
     },
     "metadata": {},
     "output_type": "display_data"
    }
   ],
   "source": [
    "# Color each \n",
    "ggplot(data = interviews_plotting, aes(x = no_membrs, y = number_items)) +\n",
    "    geom_jitter(aes(color = village), alpha = 0.5)"
   ]
  },
  {
   "cell_type": "markdown",
   "metadata": {},
   "source": [
    "Use what you just learned to create a scatter plot of rooms by village with the respondent_wall_type showing in different colors. Is this a good way to show this type of data?"
   ]
  },
  {
   "cell_type": "code",
   "execution_count": 37,
   "metadata": {},
   "outputs": [
    {
     "data": {
      "image/png": "[encoded data removed]",
      "text/plain": [
       "plot without title"
      ]
     },
     "metadata": {},
     "output_type": "display_data"
    }
   ],
   "source": [
    "ggplot(data = interviews_plotting, aes(x = village, y = rooms)) +\n",
    "geom_jitter(aes(color = respondent_wall_type))"
   ]
  },
  {
   "cell_type": "markdown",
   "metadata": {},
   "source": [
    "This is not a good way to show this type of data because it is difficult to distinguish between villages.   \n",
    "## Boxplot "
   ]
  },
  {
   "cell_type": "code",
   "execution_count": 38,
   "metadata": {},
   "outputs": [
    {
     "data": {
      "image/png": "[encoded data removed]",
      "text/plain": [
       "plot without title"
      ]
     },
     "metadata": {},
     "output_type": "display_data"
    }
   ],
   "source": [
    "ggplot(data = interviews_plotting, aes(x = respondent_wall_type, y = rooms)) +\n",
    "    geom_boxplot()"
   ]
  },
  {
   "cell_type": "code",
   "execution_count": 39,
   "metadata": {},
   "outputs": [
    {
     "data": {
      "image/png": "[encoded data removed]",
      "text/plain": [
       "plot without title"
      ]
     },
     "metadata": {},
     "output_type": "display_data"
    }
   ],
   "source": [
    "ggplot(data = interviews_plotting, aes(x = respondent_wall_type, y = rooms)) +\n",
    "    geom_boxplot(alpha = 0) +\n",
    "    geom_jitter(alpha = 0.5, color = \"tomato\")"
   ]
  },
  {
   "cell_type": "code",
   "execution_count": 40,
   "metadata": {},
   "outputs": [
    {
     "data": {
      "image/png": "[encoded data removed]",
      "text/plain": [
       "plot without title"
      ]
     },
     "metadata": {},
     "output_type": "display_data"
    }
   ],
   "source": [
    "ggplot(data = interviews_plotting, aes(x = respondent_wall_type)) +\n",
    "    geom_bar(aes(fill = village), position = \"dodge\")"
   ]
  },
  {
   "cell_type": "code",
   "execution_count": 41,
   "metadata": {},
   "outputs": [
    {
     "data": {
      "text/html": [
       "<table>\n",
       "<thead><tr><th scope=col>village</th><th scope=col>respondent_wall_type</th><th scope=col>n</th><th scope=col>percent</th></tr></thead>\n",
       "<tbody>\n",
       "\t<tr><td>Chirodzo   </td><td>burntbricks</td><td>22         </td><td>0.5641026  </td></tr>\n",
       "\t<tr><td>Chirodzo   </td><td>muddaub    </td><td>16         </td><td>0.4102564  </td></tr>\n",
       "</tbody>\n",
       "</table>\n"
      ],
      "text/latex": [
       "\\begin{tabular}{r|llll}\n",
       " village & respondent\\_wall\\_type & n & percent\\\\\n",
       "\\hline\n",
       "\t Chirodzo    & burntbricks & 22          & 0.5641026  \\\\\n",
       "\t Chirodzo    & muddaub     & 16          & 0.4102564  \\\\\n",
       "\\end{tabular}\n"
      ],
      "text/markdown": [
       "\n",
       "| village | respondent_wall_type | n | percent |\n",
       "|---|---|---|---|\n",
       "| Chirodzo    | burntbricks | 22          | 0.5641026   |\n",
       "| Chirodzo    | muddaub     | 16          | 0.4102564   |\n",
       "\n"
      ],
      "text/plain": [
       "  village  respondent_wall_type n  percent  \n",
       "1 Chirodzo burntbricks          22 0.5641026\n",
       "2 Chirodzo muddaub              16 0.4102564"
      ]
     },
     "metadata": {},
     "output_type": "display_data"
    }
   ],
   "source": [
    "percent_wall_type <- interviews_plotting %>%\n",
    "    filter(respondent_wall_type != \"cement\") %>%\n",
    "    count(village, respondent_wall_type) %>%\n",
    "    group_by(village) %>%\n",
    "    mutate(percent = n / sum(n)) %>%\n",
    "    ungroup()\n",
    "\n",
    "percent_wall_type[1:2,]"
   ]
  },
  {
   "cell_type": "code",
   "execution_count": 42,
   "metadata": {},
   "outputs": [
    {
     "data": {
      "image/png": "[encoded data removed]",
      "text/plain": [
       "plot without title"
      ]
     },
     "metadata": {},
     "output_type": "display_data"
    }
   ],
   "source": [
    "ggplot(percent_wall_type, aes(x = village, y = percent, fill = respondent_wall_type)) +\n",
    "     geom_bar(stat = \"identity\", position = \"dodge\")"
   ]
  },
  {
   "cell_type": "code",
   "execution_count": 43,
   "metadata": {},
   "outputs": [
    {
     "data": {
      "image/png": "[encoded data removed]",
      "text/plain": [
       "plot without title"
      ]
     },
     "metadata": {},
     "output_type": "display_data"
    }
   ],
   "source": [
    "percent_memb_assoc <- interviews_plotting %>%\n",
    "  filter(!is.na(memb_assoc)) %>%\n",
    "  count(village, memb_assoc) %>%\n",
    "  group_by(village) %>%\n",
    "  mutate(percent = n / sum(n)) %>%\n",
    "  ungroup()\n",
    "\n",
    "ggplot(percent_memb_assoc, aes(x = village, y = percent, fill = memb_assoc)) +\n",
    "geom_bar(stat = \"identity\", position = \"dodge\")"
   ]
  },
  {
   "cell_type": "markdown",
   "metadata": {},
   "source": [
    "## Faceting   \n",
    "we may want to create multiple plot, where each plot shows the data for a single village. This would be especially useful if we had a large number of villages that we had sampled, as a large number of side-by-side bars will become more difficult to read."
   ]
  },
  {
   "cell_type": "code",
   "execution_count": 44,
   "metadata": {},
   "outputs": [
    {
     "data": {
      "image/png": "[encoded data removed]",
      "text/plain": [
       "plot without title"
      ]
     },
     "metadata": {},
     "output_type": "display_data"
    }
   ],
   "source": [
    "ggplot(percent_wall_type, aes(x = respondent_wall_type, y = percent)) +\n",
    "    geom_bar(stat = \"identity\", position = \"dodge\") +\n",
    "    labs(title=\"Proportion of wall type by village\",\n",
    "         x=\"Wall Type\",\n",
    "         y=\"Percent\") +\n",
    "    facet_wrap(~ village)"
   ]
  },
  {
   "cell_type": "code",
   "execution_count": 49,
   "metadata": {},
   "outputs": [
    {
     "data": {
      "image/png": "[encoded data removed]",
      "text/plain": [
       "plot without title"
      ]
     },
     "metadata": {},
     "output_type": "display_data"
    }
   ],
   "source": [
    "ggplot(percent_wall_type, aes(x = respondent_wall_type, y = percent)) +\n",
    "    geom_bar(stat = \"identity\", position = \"dodge\") +\n",
    "    labs(title=\"Proportion of wall type by village\",\n",
    "         x=\"Wall Type\",\n",
    "         y=\"Percent\") +\n",
    "    facet_wrap(~ village) +\n",
    "    theme_bw() +\n",
    "    theme(panel.grid = element_blank())"
   ]
  },
  {
   "cell_type": "markdown",
   "metadata": {},
   "source": [
    "What if we wanted to see the proportion of respondents in each village who owned a particular item? We can calculate the percent of people in each village who own each item and then create a faceted series of bar plots where each plot is a particular item. First we need to calculate the percentage of people in each village who own each item:"
   ]
  },
  {
   "cell_type": "code",
   "execution_count": 51,
   "metadata": {},
   "outputs": [
    {
     "data": {
      "image/png": "[encoded data removed]",
      "text/plain": [
       "plot without title"
      ]
     },
     "metadata": {},
     "output_type": "display_data"
    }
   ],
   "source": [
    "percent_items <- interviews_plotting %>%\n",
    "    gather(items, items_owned_logical, bicycle:no_listed_items) %>%\n",
    "    filter(items_owned_logical) %>%\n",
    "    count(items, village) %>%\n",
    "    ## add a column with the number of people in each village\n",
    "    mutate(people_in_village = case_when(village == \"Chirodzo\" ~ 39,\n",
    "                                         village == \"God\" ~ 43,\n",
    "                                         village == \"Ruaca\" ~ 49)) %>%\n",
    "    mutate(percent = n / people_in_village)\n",
    "\n",
    "ggplot(percent_items, aes(x = village, y = percent)) +\n",
    "    geom_bar(stat = \"identity\", position = \"dodge\") +\n",
    "    facet_wrap(~ items) +\n",
    "    theme_bw() +\n",
    "    theme(panel.grid = element_blank())"
   ]
  },
  {
   "cell_type": "code",
   "execution_count": 52,
   "metadata": {},
   "outputs": [
    {
     "data": {
      "image/png": "[encoded data removed]",
      "text/plain": [
       "plot without title"
      ]
     },
     "metadata": {},
     "output_type": "display_data"
    }
   ],
   "source": [
    "ggplot(percent_items, aes(x = village, y = percent)) +\n",
    "    geom_bar(stat = \"identity\", position = \"dodge\") +\n",
    "    facet_wrap(~ items) +\n",
    "    theme_bw() +\n",
    "    theme(panel.grid = element_blank())"
   ]
  },
  {
   "cell_type": "code",
   "execution_count": 53,
   "metadata": {},
   "outputs": [
    {
     "data": {
      "image/png": "[encoded data removed]",
      "text/plain": [
       "plot without title"
      ]
     },
     "metadata": {},
     "output_type": "display_data"
    }
   ],
   "source": [
    "ggplot(percent_items, aes(x = village, y = percent)) +\n",
    "    geom_bar(stat = \"identity\", position = \"dodge\") +\n",
    "    facet_wrap(~ items) +\n",
    "    labs(title = \"Percent of respondents in each village who owned each item\",\n",
    "         x = \"Village\",\n",
    "         y = \"Percent of Respondents\") +\n",
    "    theme_bw()"
   ]
  },
  {
   "cell_type": "markdown",
   "metadata": {},
   "source": [
    "## Using apply, lapply, sapply and tapply   \n",
    "We use **apply** over matrix   \n",
    "apply(X, MARGIN, FUN)   \n",
    "Here:   \n",
    "- x: an array or matrix   \n",
    "- MARGIN:  take a value or range between 1 and 2 to define where to apply the function:   \n",
    "- MARGIN=1`: the manipulation is performed on rows   \n",
    "- MARGIN=2`: the manipulation is performed on columns    \n",
    "- MARGIN=c(1,2)` the manipulation is performed on rows and columns   \n",
    "- FUN: tells which function to apply. Built functions like mean, median, sum, min, max and even user-defined functions can be applied>"
   ]
  },
  {
   "cell_type": "code",
   "execution_count": 86,
   "metadata": {},
   "outputs": [
    {
     "data": {
      "text/html": [
       "<table>\n",
       "<tbody>\n",
       "\t<tr><td>1 </td><td> 6</td><td>1 </td><td> 6</td><td>1 </td><td> 6</td></tr>\n",
       "\t<tr><td>2 </td><td> 7</td><td>2 </td><td> 7</td><td>2 </td><td> 7</td></tr>\n",
       "\t<tr><td>3 </td><td> 8</td><td>3 </td><td> 8</td><td>3 </td><td> 8</td></tr>\n",
       "\t<tr><td>4 </td><td> 9</td><td>4 </td><td> 9</td><td>4 </td><td> 9</td></tr>\n",
       "\t<tr><td>5 </td><td>10</td><td>5 </td><td>10</td><td>5 </td><td>10</td></tr>\n",
       "</tbody>\n",
       "</table>\n"
      ],
      "text/latex": [
       "\\begin{tabular}{llllll}\n",
       "\t 1  &  6 & 1  &  6 & 1  &  6\\\\\n",
       "\t 2  &  7 & 2  &  7 & 2  &  7\\\\\n",
       "\t 3  &  8 & 3  &  8 & 3  &  8\\\\\n",
       "\t 4  &  9 & 4  &  9 & 4  &  9\\\\\n",
       "\t 5  & 10 & 5  & 10 & 5  & 10\\\\\n",
       "\\end{tabular}\n"
      ],
      "text/markdown": [
       "\n",
       "| 1  |  6 | 1  |  6 | 1  |  6 |\n",
       "| 2  |  7 | 2  |  7 | 2  |  7 |\n",
       "| 3  |  8 | 3  |  8 | 3  |  8 |\n",
       "| 4  |  9 | 4  |  9 | 4  |  9 |\n",
       "| 5  | 10 | 5  | 10 | 5  | 10 |\n",
       "\n"
      ],
      "text/plain": [
       "     [,1] [,2] [,3] [,4] [,5] [,6]\n",
       "[1,] 1     6   1     6   1     6  \n",
       "[2,] 2     7   2     7   2     7  \n",
       "[3,] 3     8   3     8   3     8  \n",
       "[4,] 4     9   4     9   4     9  \n",
       "[5,] 5    10   5    10   5    10  "
      ]
     },
     "metadata": {},
     "output_type": "display_data"
    },
    {
     "data": {
      "text/html": [
       "<ol class=list-inline>\n",
       "\t<li>15</li>\n",
       "\t<li>40</li>\n",
       "\t<li>15</li>\n",
       "\t<li>40</li>\n",
       "\t<li>15</li>\n",
       "\t<li>40</li>\n",
       "</ol>\n"
      ],
      "text/latex": [
       "\\begin{enumerate*}\n",
       "\\item 15\n",
       "\\item 40\n",
       "\\item 15\n",
       "\\item 40\n",
       "\\item 15\n",
       "\\item 40\n",
       "\\end{enumerate*}\n"
      ],
      "text/markdown": [
       "1. 15\n",
       "2. 40\n",
       "3. 15\n",
       "4. 40\n",
       "5. 15\n",
       "6. 40\n",
       "\n",
       "\n"
      ],
      "text/plain": [
       "[1] 15 40 15 40 15 40"
      ]
     },
     "metadata": {},
     "output_type": "display_data"
    }
   ],
   "source": [
    "m1 <- matrix(C<-(1:10),nrow=5, ncol=6)\n",
    "m1\n",
    "a_m1 <- apply(m1, 2, sum)\n",
    "a_m1"
   ]
  },
  {
   "cell_type": "markdown",
   "metadata": {},
   "source": [
    "## lapply() function   \n",
    "lapply(X, FUN)   \n",
    "Arguments:   \n",
    "-X: A vector or an object   \n",
    "-FUN: Function applied to each element of x\t   \n",
    "\n",
    " The difference between lapply() and apply() lies between the output return. The output of lapply() is a list."
   ]
  },
  {
   "cell_type": "code",
   "execution_count": 91,
   "metadata": {},
   "outputs": [
    {
     "data": {
      "text/html": [
       "<ol>\n",
       "\t<li>'spyderman'</li>\n",
       "</ol>\n"
      ],
      "text/latex": [
       "\\begin{enumerate}\n",
       "\\item 'spyderman'\n",
       "\\end{enumerate}\n"
      ],
      "text/markdown": [
       "1. 'spyderman'\n",
       "\n",
       "\n"
      ],
      "text/plain": [
       "[[1]]\n",
       "[1] \"spyderman\"\n"
      ]
     },
     "metadata": {},
     "output_type": "display_data"
    }
   ],
   "source": [
    "movies <- c(\"SPYDERMAN\",\"BATMAN\",\"VERTIGO\",\"CHINATOWN\")\n",
    "movies_lower <-lapply(movies, tolower)\n",
    "movies_lower[1]"
   ]
  },
  {
   "cell_type": "markdown",
   "metadata": {},
   "source": [
    "We can use unlist() to convert the list into a vector"
   ]
  },
  {
   "cell_type": "code",
   "execution_count": 92,
   "metadata": {},
   "outputs": [
    {
     "name": "stdout",
     "output_type": "stream",
     "text": [
      " chr [1:4] \"spyderman\" \"batman\" \"vertigo\" \"chinatown\"\n"
     ]
    }
   ],
   "source": [
    "movies_lower <-unlist(lapply(movies,tolower))\n",
    "str(movies_lower)"
   ]
  },
  {
   "cell_type": "markdown",
   "metadata": {},
   "source": [
    "## sapply() function   \n",
    "sapply(X, FUN)   \n",
    "Arguments:   \n",
    "-X: A vector or an object   \n",
    "-FUN: Function applied to each element of x   "
   ]
  },
  {
   "cell_type": "code",
   "execution_count": 93,
   "metadata": {},
   "outputs": [
    {
     "data": {
      "text/html": [
       "<dl>\n",
       "\t<dt>$speed</dt>\n",
       "\t\t<dd>4</dd>\n",
       "\t<dt>$dist</dt>\n",
       "\t\t<dd>2</dd>\n",
       "</dl>\n"
      ],
      "text/latex": [
       "\\begin{description}\n",
       "\\item[\\$speed] 4\n",
       "\\item[\\$dist] 2\n",
       "\\end{description}\n"
      ],
      "text/markdown": [
       "$speed\n",
       ":   4\n",
       "$dist\n",
       ":   2\n",
       "\n",
       "\n"
      ],
      "text/plain": [
       "$speed\n",
       "[1] 4\n",
       "\n",
       "$dist\n",
       "[1] 2\n"
      ]
     },
     "metadata": {},
     "output_type": "display_data"
    }
   ],
   "source": [
    "dt <- cars\n",
    "lmn_cars <- lapply(dt, min)\n",
    "smn_cars <- sapply(dt, min)\n",
    "lmn_cars"
   ]
  },
  {
   "cell_type": "code",
   "execution_count": 94,
   "metadata": {},
   "outputs": [
    {
     "data": {
      "text/html": [
       "<dl class=dl-horizontal>\n",
       "\t<dt>speed</dt>\n",
       "\t\t<dd>4</dd>\n",
       "\t<dt>dist</dt>\n",
       "\t\t<dd>2</dd>\n",
       "</dl>\n"
      ],
      "text/latex": [
       "\\begin{description*}\n",
       "\\item[speed] 4\n",
       "\\item[dist] 2\n",
       "\\end{description*}\n"
      ],
      "text/markdown": [
       "speed\n",
       ":   4dist\n",
       ":   2\n",
       "\n"
      ],
      "text/plain": [
       "speed  dist \n",
       "    4     2 "
      ]
     },
     "metadata": {},
     "output_type": "display_data"
    }
   ],
   "source": [
    "smn_cars"
   ]
  },
  {
   "cell_type": "code",
   "execution_count": 95,
   "metadata": {},
   "outputs": [
    {
     "data": {
      "text/html": [
       "<dl class=dl-horizontal>\n",
       "\t<dt>speed</dt>\n",
       "\t\t<dd>14.5</dd>\n",
       "\t<dt>dist</dt>\n",
       "\t\t<dd>61</dd>\n",
       "</dl>\n"
      ],
      "text/latex": [
       "\\begin{description*}\n",
       "\\item[speed] 14.5\n",
       "\\item[dist] 61\n",
       "\\end{description*}\n"
      ],
      "text/markdown": [
       "speed\n",
       ":   14.5dist\n",
       ":   61\n",
       "\n"
      ],
      "text/plain": [
       "speed  dist \n",
       " 14.5  61.0 "
      ]
     },
     "metadata": {},
     "output_type": "display_data"
    }
   ],
   "source": [
    "avg <- function(x) {  \n",
    "  ( min(x) + max(x) ) / 2}\n",
    "fcars <- sapply(dt, avg)\n",
    "fcars"
   ]
  },
  {
   "cell_type": "markdown",
   "metadata": {},
   "source": [
    "## tapply() function\n",
    "The function tapply()   \n",
    "computes a measure (mean, median, min, max, etc..) or a function for each factor variable in a vector.   \n",
    "\n",
    "tapply(X, INDEX, FUN = NULL)   \n",
    "Arguments:   \n",
    "- X : An object, usually a vector   \n",
    "- INDEX: A list containing factor   \n",
    "- FUN: Function applied to each element of x"
   ]
  },
  {
   "cell_type": "code",
   "execution_count": 97,
   "metadata": {},
   "outputs": [
    {
     "data": {
      "text/html": [
       "<dl class=dl-horizontal>\n",
       "\t<dt>setosa</dt>\n",
       "\t\t<dd>3.4</dd>\n",
       "\t<dt>versicolor</dt>\n",
       "\t\t<dd>2.8</dd>\n",
       "\t<dt>virginica</dt>\n",
       "\t\t<dd>3</dd>\n",
       "</dl>\n"
      ],
      "text/latex": [
       "\\begin{description*}\n",
       "\\item[setosa] 3.4\n",
       "\\item[versicolor] 2.8\n",
       "\\item[virginica] 3\n",
       "\\end{description*}\n"
      ],
      "text/markdown": [
       "setosa\n",
       ":   3.4versicolor\n",
       ":   2.8virginica\n",
       ":   3\n",
       "\n"
      ],
      "text/plain": [
       "    setosa versicolor  virginica \n",
       "       3.4        2.8        3.0 "
      ]
     },
     "metadata": {},
     "output_type": "display_data"
    }
   ],
   "source": [
    "data(iris)\n",
    "tapply(iris$Sepal.Width, iris$Species, median)"
   ]
  },
  {
   "cell_type": "markdown",
   "metadata": {},
   "source": [
    "## How to combine data frames?    \n",
    "The cbind() function is used to combine data frame by columns.\n"
   ]
  },
  {
   "cell_type": "code",
   "execution_count": 55,
   "metadata": {},
   "outputs": [
    {
     "data": {
      "text/html": [
       "<table>\n",
       "<thead><tr><th scope=col>x</th><th scope=col>y</th></tr></thead>\n",
       "<tbody>\n",
       "\t<tr><td>1</td><td>m</td></tr>\n",
       "\t<tr><td>2</td><td>f</td></tr>\n",
       "\t<tr><td>3</td><td>f</td></tr>\n",
       "\t<tr><td>4</td><td>m</td></tr>\n",
       "\t<tr><td>5</td><td>f</td></tr>\n",
       "</tbody>\n",
       "</table>\n"
      ],
      "text/latex": [
       "\\begin{tabular}{ll}\n",
       " x & y\\\\\n",
       "\\hline\n",
       "\t 1 & m\\\\\n",
       "\t 2 & f\\\\\n",
       "\t 3 & f\\\\\n",
       "\t 4 & m\\\\\n",
       "\t 5 & f\\\\\n",
       "\\end{tabular}\n"
      ],
      "text/markdown": [
       "\n",
       "| x | y |\n",
       "|---|---|\n",
       "| 1 | m |\n",
       "| 2 | f |\n",
       "| 3 | f |\n",
       "| 4 | m |\n",
       "| 5 | f |\n",
       "\n"
      ],
      "text/plain": [
       "     x y\n",
       "[1,] 1 m\n",
       "[2,] 2 f\n",
       "[3,] 3 f\n",
       "[4,] 4 m\n",
       "[5,] 5 f"
      ]
     },
     "metadata": {},
     "output_type": "display_data"
    }
   ],
   "source": [
    "x = c(1:5)\n",
    "y = c(\"m\",\"f\",\"f\",\"m\",\"f\")\n",
    "cbind(x,y)"
   ]
  },
  {
   "cell_type": "code",
   "execution_count": 56,
   "metadata": {},
   "outputs": [
    {
     "data": {
      "text/html": [
       "<table>\n",
       "<tbody>\n",
       "\t<tr><th scope=row>x</th><td>1</td><td>2</td><td>3</td><td>4</td><td>5</td></tr>\n",
       "\t<tr><th scope=row>y</th><td>m</td><td>f</td><td>f</td><td>m</td><td>f</td></tr>\n",
       "</tbody>\n",
       "</table>\n"
      ],
      "text/latex": [
       "\\begin{tabular}{r|lllll}\n",
       "\tx & 1 & 2 & 3 & 4 & 5\\\\\n",
       "\ty & m & f & f & m & f\\\\\n",
       "\\end{tabular}\n"
      ],
      "text/markdown": [
       "\n",
       "| x | 1 | 2 | 3 | 4 | 5 |\n",
       "| y | m | f | f | m | f |\n",
       "\n"
      ],
      "text/plain": [
       "  [,1] [,2] [,3] [,4] [,5]\n",
       "x 1    2    3    4    5   \n",
       "y m    f    f    m    f   "
      ]
     },
     "metadata": {},
     "output_type": "display_data"
    }
   ],
   "source": [
    "rbind(x,y)"
   ]
  },
  {
   "cell_type": "markdown",
   "metadata": {},
   "source": [
    "+ While using cbind() function, make sure the number of rows must be equal in both the datasets.   \n",
    "+ While using rbind() function, make sure both the number and names of columns must be same. If names of columns would not be same, wrong data would be appended to columns or records might go missing.   \n",
    "\n",
    "## How to combine data by rows when different number of columns?  \n",
    "https://www.listendata.com/2016/09/r-interview-questions-and-answers.html\n",
    "\n",
    "The number of columns in datasets are not equal, rbind() function doesn't work "
   ]
  },
  {
   "cell_type": "code",
   "execution_count": 57,
   "metadata": {},
   "outputs": [],
   "source": [
    "df = data.frame(x = c(1:4), y = c(\"m\",\"f\",\"f\",\"m\"))\n",
    "df2 = data.frame(x = c(5:8))"
   ]
  },
  {
   "cell_type": "markdown",
   "metadata": {},
   "source": [
    "The bind_rows() function from dplyr package can be used to combine data frames when number of columns do not match."
   ]
  },
  {
   "cell_type": "code",
   "execution_count": 58,
   "metadata": {},
   "outputs": [],
   "source": [
    "library(dplyr)\n",
    "combdf = bind_rows(df,df2)"
   ]
  },
  {
   "cell_type": "markdown",
   "metadata": {},
   "source": [
    "## Window functions   [refer](https://cran.r-project.org/web/packages/dplyr/vignettes/window-functions.html)\n",
    "It is used to compute aggregate value using cumsum() and cummean(), functions for ranking and ordering, like rank(), and functions for taking offsets, like lead and lag.  [Data source](https://www.kaggle.com/freshrenzo/lahmanbaseballdatabase/downloads/lahmanbaseballdatabase.zip/1)"
   ]
  },
  {
   "cell_type": "code",
   "execution_count": 1,
   "metadata": {},
   "outputs": [],
   "source": [
    "df <- read.csv(\"C:/training/data/batting.csv\")\n",
    "dt <- read.csv(\"C:/training/data/AwardsPlayers.csv\")"
   ]
  },
  {
   "cell_type": "code",
   "execution_count": 2,
   "metadata": {},
   "outputs": [
    {
     "name": "stderr",
     "output_type": "stream",
     "text": [
      "Registered S3 methods overwritten by 'ggplot2':\n",
      "  method         from \n",
      "  [.quosures     rlang\n",
      "  c.quosures     rlang\n",
      "  print.quosures rlang\n",
      "Registered S3 method overwritten by 'rvest':\n",
      "  method            from\n",
      "  read_xml.response xml2\n",
      "-- Attaching packages --------------------------------------- tidyverse 1.2.1 --\n",
      "v ggplot2 3.1.1       v purrr   0.3.2  \n",
      "v tibble  2.1.1       v dplyr   0.8.0.1\n",
      "v tidyr   0.8.3       v stringr 1.4.0  \n",
      "v readr   1.3.1       v forcats 0.4.0  \n",
      "-- Conflicts ------------------------------------------ tidyverse_conflicts() --\n",
      "x dplyr::filter() masks stats::filter()\n",
      "x dplyr::lag()    masks stats::lag()\n"
     ]
    }
   ],
   "source": [
    "library(tidyverse)"
   ]
  },
  {
   "cell_type": "code",
   "execution_count": 62,
   "metadata": {},
   "outputs": [
    {
     "data": {
      "text/html": [
       "<table>\n",
       "<thead><tr><th scope=col>playerID</th><th scope=col>yearID</th><th scope=col>stint</th><th scope=col>teamID</th><th scope=col>lgID</th><th scope=col>G</th><th scope=col>G_batting</th><th scope=col>AB</th><th scope=col>R</th><th scope=col>H</th><th scope=col>...</th><th scope=col>SB</th><th scope=col>CS</th><th scope=col>BB</th><th scope=col>SO</th><th scope=col>IBB</th><th scope=col>HBP</th><th scope=col>SH</th><th scope=col>SF</th><th scope=col>GIDP</th><th scope=col>G_old</th></tr></thead>\n",
       "<tbody>\n",
       "\t<tr><td>aardsda01</td><td>2004     </td><td>1        </td><td>SFN      </td><td>NL       </td><td>11       </td><td>11       </td><td>0        </td><td>0        </td><td>0        </td><td>...      </td><td>0        </td><td>0        </td><td>0        </td><td>0        </td><td>0        </td><td>0        </td><td>0        </td><td>0        </td><td>0        </td><td>11       </td></tr>\n",
       "\t<tr><td>aardsda01</td><td>2006     </td><td>1        </td><td>CHN      </td><td>NL       </td><td>45       </td><td>43       </td><td>2        </td><td>0        </td><td>0        </td><td>...      </td><td>0        </td><td>0        </td><td>0        </td><td>0        </td><td>0        </td><td>0        </td><td>1        </td><td>0        </td><td>0        </td><td>45       </td></tr>\n",
       "\t<tr><td>aardsda01</td><td>2007     </td><td>1        </td><td>CHA      </td><td>AL       </td><td>25       </td><td> 2       </td><td>0        </td><td>0        </td><td>0        </td><td>...      </td><td>0        </td><td>0        </td><td>0        </td><td>0        </td><td>0        </td><td>0        </td><td>0        </td><td>0        </td><td>0        </td><td> 2       </td></tr>\n",
       "</tbody>\n",
       "</table>\n"
      ],
      "text/latex": [
       "\\begin{tabular}{r|llllllllllllllllllllllll}\n",
       " playerID & yearID & stint & teamID & lgID & G & G\\_batting & AB & R & H & ... & SB & CS & BB & SO & IBB & HBP & SH & SF & GIDP & G\\_old\\\\\n",
       "\\hline\n",
       "\t aardsda01 & 2004      & 1         & SFN       & NL        & 11        & 11        & 0         & 0         & 0         & ...       & 0         & 0         & 0         & 0         & 0         & 0         & 0         & 0         & 0         & 11       \\\\\n",
       "\t aardsda01 & 2006      & 1         & CHN       & NL        & 45        & 43        & 2         & 0         & 0         & ...       & 0         & 0         & 0         & 0         & 0         & 0         & 1         & 0         & 0         & 45       \\\\\n",
       "\t aardsda01 & 2007      & 1         & CHA       & AL        & 25        &  2        & 0         & 0         & 0         & ...       & 0         & 0         & 0         & 0         & 0         & 0         & 0         & 0         & 0         &  2       \\\\\n",
       "\\end{tabular}\n"
      ],
      "text/markdown": [
       "\n",
       "| playerID | yearID | stint | teamID | lgID | G | G_batting | AB | R | H | ... | SB | CS | BB | SO | IBB | HBP | SH | SF | GIDP | G_old |\n",
       "|---|---|---|---|---|---|---|---|---|---|---|---|---|---|---|---|---|---|---|---|---|\n",
       "| aardsda01 | 2004      | 1         | SFN       | NL        | 11        | 11        | 0         | 0         | 0         | ...       | 0         | 0         | 0         | 0         | 0         | 0         | 0         | 0         | 0         | 11        |\n",
       "| aardsda01 | 2006      | 1         | CHN       | NL        | 45        | 43        | 2         | 0         | 0         | ...       | 0         | 0         | 0         | 0         | 0         | 0         | 1         | 0         | 0         | 45        |\n",
       "| aardsda01 | 2007      | 1         | CHA       | AL        | 25        |  2        | 0         | 0         | 0         | ...       | 0         | 0         | 0         | 0         | 0         | 0         | 0         | 0         | 0         |  2        |\n",
       "\n"
      ],
      "text/plain": [
       "  playerID  yearID stint teamID lgID G  G_batting AB R H ... SB CS BB SO IBB\n",
       "1 aardsda01 2004   1     SFN    NL   11 11        0  0 0 ... 0  0  0  0  0  \n",
       "2 aardsda01 2006   1     CHN    NL   45 43        2  0 0 ... 0  0  0  0  0  \n",
       "3 aardsda01 2007   1     CHA    AL   25  2        0  0 0 ... 0  0  0  0  0  \n",
       "  HBP SH SF GIDP G_old\n",
       "1 0   0  0  0    11   \n",
       "2 0   1  0  0    45   \n",
       "3 0   0  0  0     2   "
      ]
     },
     "metadata": {},
     "output_type": "display_data"
    }
   ],
   "source": [
    "head(df,3)"
   ]
  },
  {
   "cell_type": "code",
   "execution_count": 63,
   "metadata": {},
   "outputs": [
    {
     "data": {
      "text/html": [
       "<table>\n",
       "<thead><tr><th scope=col>playerID</th><th scope=col>awardID</th><th scope=col>yearID</th><th scope=col>lgID</th><th scope=col>tie</th><th scope=col>notes</th></tr></thead>\n",
       "<tbody>\n",
       "\t<tr><td>whitefr01</td><td>ALCS MVP </td><td>1980     </td><td>AL       </td><td>         </td><td>         </td></tr>\n",
       "\t<tr><td>nettlgr01</td><td>ALCS MVP </td><td>1981     </td><td>AL       </td><td>         </td><td>         </td></tr>\n",
       "\t<tr><td>lynnfr01 </td><td>ALCS MVP </td><td>1982     </td><td>AL       </td><td>         </td><td>         </td></tr>\n",
       "</tbody>\n",
       "</table>\n"
      ],
      "text/latex": [
       "\\begin{tabular}{r|llllll}\n",
       " playerID & awardID & yearID & lgID & tie & notes\\\\\n",
       "\\hline\n",
       "\t whitefr01 & ALCS MVP  & 1980      & AL        &           &          \\\\\n",
       "\t nettlgr01 & ALCS MVP  & 1981      & AL        &           &          \\\\\n",
       "\t lynnfr01  & ALCS MVP  & 1982      & AL        &           &          \\\\\n",
       "\\end{tabular}\n"
      ],
      "text/markdown": [
       "\n",
       "| playerID | awardID | yearID | lgID | tie | notes |\n",
       "|---|---|---|---|---|---|\n",
       "| whitefr01 | ALCS MVP  | 1980      | AL        |           |           |\n",
       "| nettlgr01 | ALCS MVP  | 1981      | AL        |           |           |\n",
       "| lynnfr01  | ALCS MVP  | 1982      | AL        |           |           |\n",
       "\n"
      ],
      "text/plain": [
       "  playerID  awardID  yearID lgID tie notes\n",
       "1 whitefr01 ALCS MVP 1980   AL            \n",
       "2 nettlgr01 ALCS MVP 1981   AL            \n",
       "3 lynnfr01  ALCS MVP 1982   AL            "
      ]
     },
     "metadata": {},
     "output_type": "display_data"
    }
   ],
   "source": [
    "head(dt,3)"
   ]
  },
  {
   "cell_type": "code",
   "execution_count": 64,
   "metadata": {},
   "outputs": [
    {
     "name": "stdout",
     "output_type": "stream",
     "text": [
      "'data.frame':\t96600 obs. of  24 variables:\n",
      " $ playerID : Factor w/ 17908 levels \"aardsda01\",\"aaronha01\",..: 1 1 1 1 1 1 1 2 2 2 ...\n",
      " $ yearID   : int  2004 2006 2007 2008 2009 2010 2012 1954 1955 1956 ...\n",
      " $ stint    : int  1 1 1 1 1 1 1 1 1 1 ...\n",
      " $ teamID   : Factor w/ 149 levels \"ALT\",\"ANA\",\"ARI\",..: 117 35 33 16 116 116 93 80 80 80 ...\n",
      " $ lgID     : Factor w/ 6 levels \"AA\",\"AL\",\"FL\",..: 4 4 2 2 2 2 2 4 4 4 ...\n",
      " $ G        : int  11 45 25 47 73 53 1 122 153 153 ...\n",
      " $ G_batting: int  11 43 2 5 3 4 NA 122 153 153 ...\n",
      " $ AB       : int  0 2 0 1 0 0 NA 468 602 609 ...\n",
      " $ R        : int  0 0 0 0 0 0 NA 58 105 106 ...\n",
      " $ H        : int  0 0 0 0 0 0 NA 131 189 200 ...\n",
      " $ X2B      : int  0 0 0 0 0 0 NA 27 37 34 ...\n",
      " $ X3B      : int  0 0 0 0 0 0 NA 6 9 14 ...\n",
      " $ HR       : int  0 0 0 0 0 0 NA 13 27 26 ...\n",
      " $ RBI      : int  0 0 0 0 0 0 NA 69 106 92 ...\n",
      " $ SB       : int  0 0 0 0 0 0 NA 2 3 2 ...\n",
      " $ CS       : int  0 0 0 0 0 0 NA 2 1 4 ...\n",
      " $ BB       : int  0 0 0 0 0 0 NA 28 49 37 ...\n",
      " $ SO       : int  0 0 0 1 0 0 NA 39 61 54 ...\n",
      " $ IBB      : int  0 0 0 0 0 0 NA NA 5 6 ...\n",
      " $ HBP      : int  0 0 0 0 0 0 NA 3 3 2 ...\n",
      " $ SH       : int  0 1 0 0 0 0 NA 6 7 5 ...\n",
      " $ SF       : int  0 0 0 0 0 0 NA 4 4 7 ...\n",
      " $ GIDP     : int  0 0 0 0 0 0 NA 13 20 21 ...\n",
      " $ G_old    : int  11 45 2 5 NA NA NA 122 153 153 ...\n"
     ]
    }
   ],
   "source": [
    "str(df)"
   ]
  },
  {
   "cell_type": "code",
   "execution_count": 65,
   "metadata": {},
   "outputs": [
    {
     "name": "stdout",
     "output_type": "stream",
     "text": [
      "'data.frame':\t5920 obs. of  6 variables:\n",
      " $ playerID: Factor w/ 1272 levels \"aaronha01\",\"abbotji01\",..: 1218 821 691 100 400 130 55 383 316 489 ...\n",
      " $ awardID : Factor w/ 27 levels \"ALCS MVP\",\"All-Star Game MVP\",..: 1 1 1 1 1 1 1 1 1 1 ...\n",
      " $ yearID  : int  1980 1981 1982 1983 1984 1985 1986 1987 1988 1989 ...\n",
      " $ lgID    : Factor w/ 4 levels \"AA\",\"AL\",\"ML\",..: 2 2 2 2 2 2 2 2 2 2 ...\n",
      " $ tie     : Factor w/ 2 levels \"\",\"Y\": 1 1 1 1 1 1 1 1 1 1 ...\n",
      " $ notes   : Factor w/ 29 levels \"\",\"1B\",\"1st Game\",..: 1 1 1 1 1 1 1 1 1 1 ...\n"
     ]
    }
   ],
   "source": [
    "str(dt)"
   ]
  },
  {
   "cell_type": "markdown",
   "metadata": {},
   "source": [
    "Create a dataset with the players that have won an award."
   ]
  },
  {
   "cell_type": "code",
   "execution_count": 3,
   "metadata": {},
   "outputs": [
    {
     "name": "stderr",
     "output_type": "stream",
     "text": [
      "Warning message:\n",
      "\"Column `playerID` joining factors with different levels, coercing to character vector\""
     ]
    }
   ],
   "source": [
    "batting <- df %>%\n",
    "  as_tibble() %>%\n",
    "  select(playerID, yearID, teamID, G, AB:H) %>%\n",
    "  arrange(playerID, yearID, teamID) %>%\n",
    "  semi_join(dt, by = \"playerID\")"
   ]
  },
  {
   "cell_type": "markdown",
   "metadata": {},
   "source": [
    "This warning occurs when two key columns have difference factor. [Refer to](https://stackoverflow.com/questions/30468412/dplyr-join-warning-joining-factors-with-different-levels) to avoid this problem.   \n",
    "library(dplyr)   \n",
    "x<-data.frame(a=letters[1:7])   \n",
    "y<-data.frame(a=letters[4:10]) \n",
    "\n",
    "combined <- sort(union(levels(x$a), levels(y$a)))  \n",
    "n <- left_join(mutate(x, a=factor(a, levels=combined)),   \n",
    "    mutate(y, a=factor(a, levels=combined)))"
   ]
  },
  {
   "cell_type": "markdown",
   "metadata": {},
   "source": [
    "1. **For each player, find the two years with most hits**"
   ]
  },
  {
   "cell_type": "code",
   "execution_count": 4,
   "metadata": {},
   "outputs": [
    {
     "data": {
      "text/html": [
       "<table>\n",
       "<thead><tr><th scope=col>playerID</th><th scope=col>yearID</th><th scope=col>teamID</th><th scope=col>G</th><th scope=col>AB</th><th scope=col>R</th><th scope=col>H</th></tr></thead>\n",
       "<tbody>\n",
       "\t<tr><td>aaronha01</td><td>1959     </td><td>ML1      </td><td>154      </td><td>629      </td><td>116      </td><td>223      </td></tr>\n",
       "\t<tr><td>aaronha01</td><td>1963     </td><td>ML1      </td><td>161      </td><td>631      </td><td>121      </td><td>201      </td></tr>\n",
       "\t<tr><td>abbotji01</td><td>1999     </td><td>MIL      </td><td> 20      </td><td> 21      </td><td>  0      </td><td>  2      </td></tr>\n",
       "</tbody>\n",
       "</table>\n"
      ],
      "text/latex": [
       "\\begin{tabular}{r|lllllll}\n",
       " playerID & yearID & teamID & G & AB & R & H\\\\\n",
       "\\hline\n",
       "\t aaronha01 & 1959      & ML1       & 154       & 629       & 116       & 223      \\\\\n",
       "\t aaronha01 & 1963      & ML1       & 161       & 631       & 121       & 201      \\\\\n",
       "\t abbotji01 & 1999      & MIL       &  20       &  21       &   0       &   2      \\\\\n",
       "\\end{tabular}\n"
      ],
      "text/markdown": [
       "\n",
       "| playerID | yearID | teamID | G | AB | R | H |\n",
       "|---|---|---|---|---|---|---|\n",
       "| aaronha01 | 1959      | ML1       | 154       | 629       | 116       | 223       |\n",
       "| aaronha01 | 1963      | ML1       | 161       | 631       | 121       | 201       |\n",
       "| abbotji01 | 1999      | MIL       |  20       |  21       |   0       |   2       |\n",
       "\n"
      ],
      "text/plain": [
       "  playerID  yearID teamID G   AB  R   H  \n",
       "1 aaronha01 1959   ML1    154 629 116 223\n",
       "2 aaronha01 1963   ML1    161 631 121 201\n",
       "3 abbotji01 1999   MIL     20  21   0   2"
      ]
     },
     "metadata": {},
     "output_type": "display_data"
    }
   ],
   "source": [
    " batting %>% group_by(playerID) %>%filter( min_rank(desc(H)) <= 2 & H > 0) %>% head(3)"
   ]
  },
  {
   "cell_type": "markdown",
   "metadata": {},
   "source": [
    "2. **For each player, rank each year by the number of games played**"
   ]
  },
  {
   "cell_type": "code",
   "execution_count": 5,
   "metadata": {},
   "outputs": [
    {
     "data": {
      "text/html": [
       "<table>\n",
       "<thead><tr><th scope=col>playerID</th><th scope=col>yearID</th><th scope=col>teamID</th><th scope=col>G</th><th scope=col>AB</th><th scope=col>R</th><th scope=col>H</th><th scope=col>G_rank</th></tr></thead>\n",
       "<tbody>\n",
       "\t<tr><td>aaronha01</td><td>1954     </td><td>ML1      </td><td>122      </td><td>468      </td><td> 58      </td><td>131      </td><td> 4       </td></tr>\n",
       "\t<tr><td>aaronha01</td><td>1955     </td><td>ML1      </td><td>153      </td><td>602      </td><td>105      </td><td>189      </td><td>13       </td></tr>\n",
       "\t<tr><td>aaronha01</td><td>1956     </td><td>ML1      </td><td>153      </td><td>609      </td><td>106      </td><td>200      </td><td>13       </td></tr>\n",
       "</tbody>\n",
       "</table>\n"
      ],
      "text/latex": [
       "\\begin{tabular}{r|llllllll}\n",
       " playerID & yearID & teamID & G & AB & R & H & G\\_rank\\\\\n",
       "\\hline\n",
       "\t aaronha01 & 1954      & ML1       & 122       & 468       &  58       & 131       &  4       \\\\\n",
       "\t aaronha01 & 1955      & ML1       & 153       & 602       & 105       & 189       & 13       \\\\\n",
       "\t aaronha01 & 1956      & ML1       & 153       & 609       & 106       & 200       & 13       \\\\\n",
       "\\end{tabular}\n"
      ],
      "text/markdown": [
       "\n",
       "| playerID | yearID | teamID | G | AB | R | H | G_rank |\n",
       "|---|---|---|---|---|---|---|---|\n",
       "| aaronha01 | 1954      | ML1       | 122       | 468       |  58       | 131       |  4        |\n",
       "| aaronha01 | 1955      | ML1       | 153       | 602       | 105       | 189       | 13        |\n",
       "| aaronha01 | 1956      | ML1       | 153       | 609       | 106       | 200       | 13        |\n",
       "\n"
      ],
      "text/plain": [
       "  playerID  yearID teamID G   AB  R   H   G_rank\n",
       "1 aaronha01 1954   ML1    122 468  58 131  4    \n",
       "2 aaronha01 1955   ML1    153 602 105 189 13    \n",
       "3 aaronha01 1956   ML1    153 609 106 200 13    "
      ]
     },
     "metadata": {},
     "output_type": "display_data"
    }
   ],
   "source": [
    "batting %>% group_by(playerID) %>% mutate(G_rank = min_rank(G)) %>% head(3)"
   ]
  },
  {
   "cell_type": "markdown",
   "metadata": {},
   "source": [
    "3. **For each player, find every year that was better than the previous year** with **lag**"
   ]
  },
  {
   "cell_type": "code",
   "execution_count": 6,
   "metadata": {},
   "outputs": [
    {
     "data": {
      "text/html": [
       "<table>\n",
       "<thead><tr><th scope=col>playerID</th><th scope=col>yearID</th><th scope=col>teamID</th><th scope=col>G</th><th scope=col>AB</th><th scope=col>R</th><th scope=col>H</th></tr></thead>\n",
       "<tbody>\n",
       "\t<tr><td>aaronha01</td><td>1955     </td><td>ML1      </td><td>153      </td><td>602      </td><td>105      </td><td>189      </td></tr>\n",
       "\t<tr><td>aaronha01</td><td>1958     </td><td>ML1      </td><td>153      </td><td>601      </td><td>109      </td><td>196      </td></tr>\n",
       "\t<tr><td>aaronha01</td><td>1959     </td><td>ML1      </td><td>154      </td><td>629      </td><td>116      </td><td>223      </td></tr>\n",
       "</tbody>\n",
       "</table>\n"
      ],
      "text/latex": [
       "\\begin{tabular}{r|lllllll}\n",
       " playerID & yearID & teamID & G & AB & R & H\\\\\n",
       "\\hline\n",
       "\t aaronha01 & 1955      & ML1       & 153       & 602       & 105       & 189      \\\\\n",
       "\t aaronha01 & 1958      & ML1       & 153       & 601       & 109       & 196      \\\\\n",
       "\t aaronha01 & 1959      & ML1       & 154       & 629       & 116       & 223      \\\\\n",
       "\\end{tabular}\n"
      ],
      "text/markdown": [
       "\n",
       "| playerID | yearID | teamID | G | AB | R | H |\n",
       "|---|---|---|---|---|---|---|\n",
       "| aaronha01 | 1955      | ML1       | 153       | 602       | 105       | 189       |\n",
       "| aaronha01 | 1958      | ML1       | 153       | 601       | 109       | 196       |\n",
       "| aaronha01 | 1959      | ML1       | 154       | 629       | 116       | 223       |\n",
       "\n"
      ],
      "text/plain": [
       "  playerID  yearID teamID G   AB  R   H  \n",
       "1 aaronha01 1955   ML1    153 602 105 189\n",
       "2 aaronha01 1958   ML1    153 601 109 196\n",
       "3 aaronha01 1959   ML1    154 629 116 223"
      ]
     },
     "metadata": {},
     "output_type": "display_data"
    }
   ],
   "source": [
    "batting %>% group_by(playerID) %>%  filter( G > lag(G)) %>% head(3)"
   ]
  },
  {
   "cell_type": "markdown",
   "metadata": {},
   "source": [
    "4. **For each player, compute avg change in games played per year**"
   ]
  },
  {
   "cell_type": "code",
   "execution_count": 7,
   "metadata": {},
   "outputs": [
    {
     "data": {
      "text/html": [
       "<table>\n",
       "<thead><tr><th scope=col>playerID</th><th scope=col>yearID</th><th scope=col>teamID</th><th scope=col>G</th><th scope=col>AB</th><th scope=col>R</th><th scope=col>H</th><th scope=col>G_change</th></tr></thead>\n",
       "<tbody>\n",
       "\t<tr><td>aaronha01</td><td>1954     </td><td>ML1      </td><td>122      </td><td>468      </td><td> 58      </td><td>131      </td><td>NA       </td></tr>\n",
       "\t<tr><td>aaronha01</td><td>1955     </td><td>ML1      </td><td>153      </td><td>602      </td><td>105      </td><td>189      </td><td>31       </td></tr>\n",
       "\t<tr><td>aaronha01</td><td>1956     </td><td>ML1      </td><td>153      </td><td>609      </td><td>106      </td><td>200      </td><td> 0       </td></tr>\n",
       "</tbody>\n",
       "</table>\n"
      ],
      "text/latex": [
       "\\begin{tabular}{r|llllllll}\n",
       " playerID & yearID & teamID & G & AB & R & H & G\\_change\\\\\n",
       "\\hline\n",
       "\t aaronha01 & 1954      & ML1       & 122       & 468       &  58       & 131       & NA       \\\\\n",
       "\t aaronha01 & 1955      & ML1       & 153       & 602       & 105       & 189       & 31       \\\\\n",
       "\t aaronha01 & 1956      & ML1       & 153       & 609       & 106       & 200       &  0       \\\\\n",
       "\\end{tabular}\n"
      ],
      "text/markdown": [
       "\n",
       "| playerID | yearID | teamID | G | AB | R | H | G_change |\n",
       "|---|---|---|---|---|---|---|---|\n",
       "| aaronha01 | 1954      | ML1       | 122       | 468       |  58       | 131       | NA        |\n",
       "| aaronha01 | 1955      | ML1       | 153       | 602       | 105       | 189       | 31        |\n",
       "| aaronha01 | 1956      | ML1       | 153       | 609       | 106       | 200       |  0        |\n",
       "\n"
      ],
      "text/plain": [
       "  playerID  yearID teamID G   AB  R   H   G_change\n",
       "1 aaronha01 1954   ML1    122 468  58 131 NA      \n",
       "2 aaronha01 1955   ML1    153 602 105 189 31      \n",
       "3 aaronha01 1956   ML1    153 609 106 200  0      "
      ]
     },
     "metadata": {},
     "output_type": "display_data"
    }
   ],
   "source": [
    "batting %>% group_by(playerID) %>% mutate( G_change = (G - lag(G)) / (yearID - lag(yearID))) %>% head(3)"
   ]
  },
  {
   "cell_type": "markdown",
   "metadata": {},
   "source": [
    "5.  **For each player, find all where they played more games than average**"
   ]
  },
  {
   "cell_type": "code",
   "execution_count": 8,
   "metadata": {},
   "outputs": [
    {
     "data": {
      "text/html": [
       "<table>\n",
       "<thead><tr><th scope=col>playerID</th><th scope=col>yearID</th><th scope=col>teamID</th><th scope=col>G</th><th scope=col>AB</th><th scope=col>R</th><th scope=col>H</th></tr></thead>\n",
       "<tbody>\n",
       "\t<tr><td>aaronha01</td><td>1955     </td><td>ML1      </td><td>153      </td><td>602      </td><td>105      </td><td>189      </td></tr>\n",
       "\t<tr><td>aaronha01</td><td>1956     </td><td>ML1      </td><td>153      </td><td>609      </td><td>106      </td><td>200      </td></tr>\n",
       "\t<tr><td>aaronha01</td><td>1957     </td><td>ML1      </td><td>151      </td><td>615      </td><td>118      </td><td>198      </td></tr>\n",
       "</tbody>\n",
       "</table>\n"
      ],
      "text/latex": [
       "\\begin{tabular}{r|lllllll}\n",
       " playerID & yearID & teamID & G & AB & R & H\\\\\n",
       "\\hline\n",
       "\t aaronha01 & 1955      & ML1       & 153       & 602       & 105       & 189      \\\\\n",
       "\t aaronha01 & 1956      & ML1       & 153       & 609       & 106       & 200      \\\\\n",
       "\t aaronha01 & 1957      & ML1       & 151       & 615       & 118       & 198      \\\\\n",
       "\\end{tabular}\n"
      ],
      "text/markdown": [
       "\n",
       "| playerID | yearID | teamID | G | AB | R | H |\n",
       "|---|---|---|---|---|---|---|\n",
       "| aaronha01 | 1955      | ML1       | 153       | 602       | 105       | 189       |\n",
       "| aaronha01 | 1956      | ML1       | 153       | 609       | 106       | 200       |\n",
       "| aaronha01 | 1957      | ML1       | 151       | 615       | 118       | 198       |\n",
       "\n"
      ],
      "text/plain": [
       "  playerID  yearID teamID G   AB  R   H  \n",
       "1 aaronha01 1955   ML1    153 602 105 189\n",
       "2 aaronha01 1956   ML1    153 609 106 200\n",
       "3 aaronha01 1957   ML1    151 615 118 198"
      ]
     },
     "metadata": {},
     "output_type": "display_data"
    }
   ],
   "source": [
    " batting %>% group_by(playerID) %>% filter(G > mean(G)) %>% head(3)"
   ]
  },
  {
   "cell_type": "markdown",
   "metadata": {},
   "source": [
    "6. **For each, player compute a z score based on number of games played** "
   ]
  },
  {
   "cell_type": "code",
   "execution_count": 9,
   "metadata": {},
   "outputs": [
    {
     "data": {
      "text/html": [
       "<table>\n",
       "<thead><tr><th scope=col>playerID</th><th scope=col>yearID</th><th scope=col>teamID</th><th scope=col>G</th><th scope=col>AB</th><th scope=col>R</th><th scope=col>H</th><th scope=col>G_z</th></tr></thead>\n",
       "<tbody>\n",
       "\t<tr><td>aaronha01</td><td>1954     </td><td>ML1      </td><td>122      </td><td>468      </td><td> 58      </td><td>131      </td><td>-1.155675</td></tr>\n",
       "\t<tr><td>aaronha01</td><td>1955     </td><td>ML1      </td><td>153      </td><td>602      </td><td>105      </td><td>189      </td><td> 0.519114</td></tr>\n",
       "\t<tr><td>aaronha01</td><td>1956     </td><td>ML1      </td><td>153      </td><td>609      </td><td>106      </td><td>200      </td><td> 0.519114</td></tr>\n",
       "</tbody>\n",
       "</table>\n"
      ],
      "text/latex": [
       "\\begin{tabular}{r|llllllll}\n",
       " playerID & yearID & teamID & G & AB & R & H & G\\_z\\\\\n",
       "\\hline\n",
       "\t aaronha01 & 1954      & ML1       & 122       & 468       &  58       & 131       & -1.155675\\\\\n",
       "\t aaronha01 & 1955      & ML1       & 153       & 602       & 105       & 189       &  0.519114\\\\\n",
       "\t aaronha01 & 1956      & ML1       & 153       & 609       & 106       & 200       &  0.519114\\\\\n",
       "\\end{tabular}\n"
      ],
      "text/markdown": [
       "\n",
       "| playerID | yearID | teamID | G | AB | R | H | G_z |\n",
       "|---|---|---|---|---|---|---|---|\n",
       "| aaronha01 | 1954      | ML1       | 122       | 468       |  58       | 131       | -1.155675 |\n",
       "| aaronha01 | 1955      | ML1       | 153       | 602       | 105       | 189       |  0.519114 |\n",
       "| aaronha01 | 1956      | ML1       | 153       | 609       | 106       | 200       |  0.519114 |\n",
       "\n"
      ],
      "text/plain": [
       "  playerID  yearID teamID G   AB  R   H   G_z      \n",
       "1 aaronha01 1954   ML1    122 468  58 131 -1.155675\n",
       "2 aaronha01 1955   ML1    153 602 105 189  0.519114\n",
       "3 aaronha01 1956   ML1    153 609 106 200  0.519114"
      ]
     },
     "metadata": {},
     "output_type": "display_data"
    }
   ],
   "source": [
    "  batting %>% group_by(playerID) %>% mutate( G_z = (G - mean(G)) / sd(G))  %>% head(3)"
   ]
  },
  {
   "cell_type": "markdown",
   "metadata": {},
   "source": [
    "### Introduction of window functions    \n",
    "row_number(), min_rank(), dense_rank(), cume_dist(), percent_rank(), and ntile()    \n",
    "\n",
    "7. **To select (for example) the top 10% of records within each group.** using **cume_dist**"
   ]
  },
  {
   "cell_type": "code",
   "execution_count": 10,
   "metadata": {},
   "outputs": [
    {
     "data": {
      "text/html": [
       "<table>\n",
       "<thead><tr><th scope=col>playerID</th><th scope=col>yearID</th><th scope=col>teamID</th><th scope=col>G</th><th scope=col>AB</th><th scope=col>R</th><th scope=col>H</th></tr></thead>\n",
       "<tbody>\n",
       "\t<tr><td>aaronha01</td><td>1963     </td><td>ML1      </td><td>161      </td><td>631      </td><td>121      </td><td>201      </td></tr>\n",
       "\t<tr><td>aaronha01</td><td>1968     </td><td>ATL      </td><td>160      </td><td>606      </td><td> 84      </td><td>174      </td></tr>\n",
       "\t<tr><td>abbotji01</td><td>1991     </td><td>CAL      </td><td> 34      </td><td> NA      </td><td> NA      </td><td> NA      </td></tr>\n",
       "</tbody>\n",
       "</table>\n"
      ],
      "text/latex": [
       "\\begin{tabular}{r|lllllll}\n",
       " playerID & yearID & teamID & G & AB & R & H\\\\\n",
       "\\hline\n",
       "\t aaronha01 & 1963      & ML1       & 161       & 631       & 121       & 201      \\\\\n",
       "\t aaronha01 & 1968      & ATL       & 160       & 606       &  84       & 174      \\\\\n",
       "\t abbotji01 & 1991      & CAL       &  34       &  NA       &  NA       &  NA      \\\\\n",
       "\\end{tabular}\n"
      ],
      "text/markdown": [
       "\n",
       "| playerID | yearID | teamID | G | AB | R | H |\n",
       "|---|---|---|---|---|---|---|\n",
       "| aaronha01 | 1963      | ML1       | 161       | 631       | 121       | 201       |\n",
       "| aaronha01 | 1968      | ATL       | 160       | 606       |  84       | 174       |\n",
       "| abbotji01 | 1991      | CAL       |  34       |  NA       |  NA       |  NA       |\n",
       "\n"
      ],
      "text/plain": [
       "  playerID  yearID teamID G   AB  R   H  \n",
       "1 aaronha01 1963   ML1    161 631 121 201\n",
       "2 aaronha01 1968   ATL    160 606  84 174\n",
       "3 abbotji01 1991   CAL     34  NA  NA  NA"
      ]
     },
     "metadata": {},
     "output_type": "display_data"
    }
   ],
   "source": [
    " batting %>% group_by(playerID) %>% filter(cume_dist(desc(G)) < 0.1)  %>% head(3)"
   ]
  },
  {
   "cell_type": "markdown",
   "metadata": {},
   "source": [
    "8. **To divide the players within a team into four ranked groups, and calculate the average number of games within each group.**   \n",
    "All ranking functions rank from lowest to highest so that small input values get small ranks. Use desc() to rank from highest to lowest."
   ]
  },
  {
   "cell_type": "code",
   "execution_count": 11,
   "metadata": {},
   "outputs": [
    {
     "data": {
      "text/html": [
       "<table>\n",
       "<thead><tr><th scope=col>quartile</th><th scope=col>mean(G)</th></tr></thead>\n",
       "<tbody>\n",
       "\t<tr><td>1        </td><td> 27.48918</td></tr>\n",
       "\t<tr><td>2        </td><td> 98.47064</td></tr>\n",
       "\t<tr><td>3        </td><td>274.35294</td></tr>\n",
       "\t<tr><td>4        </td><td>981.92315</td></tr>\n",
       "</tbody>\n",
       "</table>\n"
      ],
      "text/latex": [
       "\\begin{tabular}{r|ll}\n",
       " quartile & mean(G)\\\\\n",
       "\\hline\n",
       "\t 1         &  27.48918\\\\\n",
       "\t 2         &  98.47064\\\\\n",
       "\t 3         & 274.35294\\\\\n",
       "\t 4         & 981.92315\\\\\n",
       "\\end{tabular}\n"
      ],
      "text/markdown": [
       "\n",
       "| quartile | mean(G) |\n",
       "|---|---|\n",
       "| 1         |  27.48918 |\n",
       "| 2         |  98.47064 |\n",
       "| 3         | 274.35294 |\n",
       "| 4         | 981.92315 |\n",
       "\n"
      ],
      "text/plain": [
       "  quartile mean(G)  \n",
       "1 1         27.48918\n",
       "2 2         98.47064\n",
       "3 3        274.35294\n",
       "4 4        981.92315"
      ]
     },
     "metadata": {},
     "output_type": "display_data"
    }
   ],
   "source": [
    "by_team_player <- group_by(batting, teamID, playerID)\n",
    "by_team <- summarise(by_team_player, G = sum(G))\n",
    "by_team_quartile <- group_by(by_team, quartile = ntile(G, 4))\n",
    "summarise(by_team_quartile, mean(G))"
   ]
  },
  {
   "cell_type": "markdown",
   "metadata": {},
   "source": [
    "9. **Compute the relative change in games played** with **lag**  \n",
    "Note: Using lag() is more convenient than diff() because for n inputs diff() returns n - 1 outputs"
   ]
  },
  {
   "cell_type": "code",
   "execution_count": 12,
   "metadata": {},
   "outputs": [
    {
     "data": {
      "text/html": [
       "<table>\n",
       "<thead><tr><th scope=col>playerID</th><th scope=col>yearID</th><th scope=col>teamID</th><th scope=col>G</th><th scope=col>AB</th><th scope=col>R</th><th scope=col>H</th><th scope=col>G_delta</th></tr></thead>\n",
       "<tbody>\n",
       "\t<tr><td>aaronha01</td><td>1954     </td><td>ML1      </td><td>122      </td><td>468      </td><td> 58      </td><td>131      </td><td>NA       </td></tr>\n",
       "\t<tr><td>aaronha01</td><td>1955     </td><td>ML1      </td><td>153      </td><td>602      </td><td>105      </td><td>189      </td><td>31       </td></tr>\n",
       "\t<tr><td>aaronha01</td><td>1956     </td><td>ML1      </td><td>153      </td><td>609      </td><td>106      </td><td>200      </td><td> 0       </td></tr>\n",
       "</tbody>\n",
       "</table>\n"
      ],
      "text/latex": [
       "\\begin{tabular}{r|llllllll}\n",
       " playerID & yearID & teamID & G & AB & R & H & G\\_delta\\\\\n",
       "\\hline\n",
       "\t aaronha01 & 1954      & ML1       & 122       & 468       &  58       & 131       & NA       \\\\\n",
       "\t aaronha01 & 1955      & ML1       & 153       & 602       & 105       & 189       & 31       \\\\\n",
       "\t aaronha01 & 1956      & ML1       & 153       & 609       & 106       & 200       &  0       \\\\\n",
       "\\end{tabular}\n"
      ],
      "text/markdown": [
       "\n",
       "| playerID | yearID | teamID | G | AB | R | H | G_delta |\n",
       "|---|---|---|---|---|---|---|---|\n",
       "| aaronha01 | 1954      | ML1       | 122       | 468       |  58       | 131       | NA        |\n",
       "| aaronha01 | 1955      | ML1       | 153       | 602       | 105       | 189       | 31        |\n",
       "| aaronha01 | 1956      | ML1       | 153       | 609       | 106       | 200       |  0        |\n",
       "\n"
      ],
      "text/plain": [
       "  playerID  yearID teamID G   AB  R   H   G_delta\n",
       "1 aaronha01 1954   ML1    122 468  58 131 NA     \n",
       "2 aaronha01 1955   ML1    153 602 105 189 31     \n",
       "3 aaronha01 1956   ML1    153 609 106 200  0     "
      ]
     },
     "metadata": {},
     "output_type": "display_data"
    }
   ],
   "source": [
    "batting %>% group_by(playerID) %>% mutate( G_delta = G - lag(G)) %>% head(3)"
   ]
  },
  {
   "cell_type": "markdown",
   "metadata": {},
   "source": [
    "10. **Find out when player changed team**"
   ]
  },
  {
   "cell_type": "code",
   "execution_count": 13,
   "metadata": {},
   "outputs": [
    {
     "data": {
      "text/html": [
       "<table>\n",
       "<thead><tr><th scope=col>playerID</th><th scope=col>yearID</th><th scope=col>teamID</th><th scope=col>G</th><th scope=col>AB</th><th scope=col>R</th><th scope=col>H</th></tr></thead>\n",
       "<tbody>\n",
       "\t<tr><td>aaronha01</td><td>1966     </td><td>ATL      </td><td>158      </td><td>603      </td><td>117      </td><td>168      </td></tr>\n",
       "\t<tr><td>aaronha01</td><td>1975     </td><td>ML4      </td><td>137      </td><td>465      </td><td> 45      </td><td>109      </td></tr>\n",
       "\t<tr><td>abbotji01</td><td>1993     </td><td>NYA      </td><td> 32      </td><td> NA      </td><td> NA      </td><td> NA      </td></tr>\n",
       "</tbody>\n",
       "</table>\n"
      ],
      "text/latex": [
       "\\begin{tabular}{r|lllllll}\n",
       " playerID & yearID & teamID & G & AB & R & H\\\\\n",
       "\\hline\n",
       "\t aaronha01 & 1966      & ATL       & 158       & 603       & 117       & 168      \\\\\n",
       "\t aaronha01 & 1975      & ML4       & 137       & 465       &  45       & 109      \\\\\n",
       "\t abbotji01 & 1993      & NYA       &  32       &  NA       &  NA       &  NA      \\\\\n",
       "\\end{tabular}\n"
      ],
      "text/markdown": [
       "\n",
       "| playerID | yearID | teamID | G | AB | R | H |\n",
       "|---|---|---|---|---|---|---|\n",
       "| aaronha01 | 1966      | ATL       | 158       | 603       | 117       | 168       |\n",
       "| aaronha01 | 1975      | ML4       | 137       | 465       |  45       | 109       |\n",
       "| abbotji01 | 1993      | NYA       |  32       |  NA       |  NA       |  NA       |\n",
       "\n"
      ],
      "text/plain": [
       "  playerID  yearID teamID G   AB  R   H  \n",
       "1 aaronha01 1966   ATL    158 603 117 168\n",
       "2 aaronha01 1975   ML4    137 465  45 109\n",
       "3 abbotji01 1993   NYA     32  NA  NA  NA"
      ]
     },
     "metadata": {},
     "output_type": "display_data"
    }
   ],
   "source": [
    "batting %>% group_by(playerID) %>% filter(teamID != lag(teamID)) %>% head(3)"
   ]
  },
  {
   "cell_type": "markdown",
   "metadata": {},
   "source": [
    "Nnte: lead and lag have an optional argument order_by. If set, instead of using the row order to determine which value comes before another, they will use another variable. This is important if you have not already sorted the data, or you want to sort one way and lag another."
   ]
  },
  {
   "cell_type": "code",
   "execution_count": 14,
   "metadata": {},
   "outputs": [
    {
     "data": {
      "text/html": [
       "<table>\n",
       "<thead><tr><th scope=col>year</th><th scope=col>value</th><th scope=col>prev_value</th></tr></thead>\n",
       "<tbody>\n",
       "\t<tr><td>2000</td><td> 0  </td><td>NA  </td></tr>\n",
       "\t<tr><td>2001</td><td> 1  </td><td> 0  </td></tr>\n",
       "\t<tr><td>2002</td><td> 4  </td><td> 1  </td></tr>\n",
       "\t<tr><td>2003</td><td> 9  </td><td> 4  </td></tr>\n",
       "\t<tr><td>2004</td><td>16  </td><td> 9  </td></tr>\n",
       "\t<tr><td>2005</td><td>25  </td><td>16  </td></tr>\n",
       "</tbody>\n",
       "</table>\n"
      ],
      "text/latex": [
       "\\begin{tabular}{r|lll}\n",
       " year & value & prev\\_value\\\\\n",
       "\\hline\n",
       "\t 2000 &  0   & NA  \\\\\n",
       "\t 2001 &  1   &  0  \\\\\n",
       "\t 2002 &  4   &  1  \\\\\n",
       "\t 2003 &  9   &  4  \\\\\n",
       "\t 2004 & 16   &  9  \\\\\n",
       "\t 2005 & 25   & 16  \\\\\n",
       "\\end{tabular}\n"
      ],
      "text/markdown": [
       "\n",
       "| year | value | prev_value |\n",
       "|---|---|---|\n",
       "| 2000 |  0   | NA   |\n",
       "| 2001 |  1   |  0   |\n",
       "| 2002 |  4   |  1   |\n",
       "| 2003 |  9   |  4   |\n",
       "| 2004 | 16   |  9   |\n",
       "| 2005 | 25   | 16   |\n",
       "\n"
      ],
      "text/plain": [
       "  year value prev_value\n",
       "1 2000  0    NA        \n",
       "2 2001  1     0        \n",
       "3 2002  4     1        \n",
       "4 2003  9     4        \n",
       "5 2004 16     9        \n",
       "6 2005 25    16        "
      ]
     },
     "metadata": {},
     "output_type": "display_data"
    }
   ],
   "source": [
    "df <- data.frame(year = 2000:2005, value = (0:5) ^ 2)\n",
    "scrambled <- df[sample(nrow(df)), ]\n",
    "\n",
    "right <- mutate(scrambled, prev_value = lag(value, order_by = year))\n",
    "arrange(right, year)"
   ]
  },
  {
   "cell_type": "markdown",
   "metadata": {},
   "source": [
    "### Cumulative aggregates   \n",
    "cumulative sum (cumsum()), cumulative min (cummin()), and cumulative max (cummax()).   \n",
    "11. **to find all records for a player after they played a year with 150 games**"
   ]
  },
  {
   "cell_type": "code",
   "execution_count": 15,
   "metadata": {},
   "outputs": [
    {
     "data": {
      "text/html": [
       "<table>\n",
       "<thead><tr><th scope=col>playerID</th><th scope=col>yearID</th><th scope=col>teamID</th><th scope=col>G</th><th scope=col>AB</th><th scope=col>R</th><th scope=col>H</th></tr></thead>\n",
       "<tbody>\n",
       "\t<tr><td>aaronha01</td><td>1955     </td><td>ML1      </td><td>153      </td><td>602      </td><td>105      </td><td>189      </td></tr>\n",
       "\t<tr><td>aaronha01</td><td>1956     </td><td>ML1      </td><td>153      </td><td>609      </td><td>106      </td><td>200      </td></tr>\n",
       "</tbody>\n",
       "</table>\n"
      ],
      "text/latex": [
       "\\begin{tabular}{r|lllllll}\n",
       " playerID & yearID & teamID & G & AB & R & H\\\\\n",
       "\\hline\n",
       "\t aaronha01 & 1955      & ML1       & 153       & 602       & 105       & 189      \\\\\n",
       "\t aaronha01 & 1956      & ML1       & 153       & 609       & 106       & 200      \\\\\n",
       "\\end{tabular}\n"
      ],
      "text/markdown": [
       "\n",
       "| playerID | yearID | teamID | G | AB | R | H |\n",
       "|---|---|---|---|---|---|---|\n",
       "| aaronha01 | 1955      | ML1       | 153       | 602       | 105       | 189       |\n",
       "| aaronha01 | 1956      | ML1       | 153       | 609       | 106       | 200       |\n",
       "\n"
      ],
      "text/plain": [
       "  playerID  yearID teamID G   AB  R   H  \n",
       "1 aaronha01 1955   ML1    153 602 105 189\n",
       "2 aaronha01 1956   ML1    153 609 106 200"
      ]
     },
     "metadata": {},
     "output_type": "display_data"
    }
   ],
   "source": [
    " batting %>% group_by(playerID) %>%  filter( cumany(G > 150)) %>% head(2)"
   ]
  },
  {
   "cell_type": "markdown",
   "metadata": {},
   "source": [
    "12. Like lead and lag, you may want **to control the order in which the accumulation occurs. None of the built in functions have an order_by argument so dplyr provides a helper: order_by().** "
   ]
  },
  {
   "cell_type": "code",
   "execution_count": 16,
   "metadata": {},
   "outputs": [
    {
     "data": {
      "text/html": [
       "<table>\n",
       "<thead><tr><th scope=col>playerID</th><th scope=col>yearID</th><th scope=col>teamID</th><th scope=col>G</th><th scope=col>AB</th><th scope=col>R</th><th scope=col>H</th></tr></thead>\n",
       "<tbody>\n",
       "\t<tr><td>aaronha01</td><td>1955     </td><td>ML1      </td><td>153      </td><td>602      </td><td>105      </td><td>189      </td></tr>\n",
       "\t<tr><td>aaronha01</td><td>1956     </td><td>ML1      </td><td>153      </td><td>609      </td><td>106      </td><td>200      </td></tr>\n",
       "</tbody>\n",
       "</table>\n"
      ],
      "text/latex": [
       "\\begin{tabular}{r|lllllll}\n",
       " playerID & yearID & teamID & G & AB & R & H\\\\\n",
       "\\hline\n",
       "\t aaronha01 & 1955      & ML1       & 153       & 602       & 105       & 189      \\\\\n",
       "\t aaronha01 & 1956      & ML1       & 153       & 609       & 106       & 200      \\\\\n",
       "\\end{tabular}\n"
      ],
      "text/markdown": [
       "\n",
       "| playerID | yearID | teamID | G | AB | R | H |\n",
       "|---|---|---|---|---|---|---|\n",
       "| aaronha01 | 1955      | ML1       | 153       | 602       | 105       | 189       |\n",
       "| aaronha01 | 1956      | ML1       | 153       | 609       | 106       | 200       |\n",
       "\n"
      ],
      "text/plain": [
       "  playerID  yearID teamID G   AB  R   H  \n",
       "1 aaronha01 1955   ML1    153 602 105 189\n",
       "2 aaronha01 1956   ML1    153 609 106 200"
      ]
     },
     "metadata": {},
     "output_type": "display_data"
    }
   ],
   "source": [
    "batting %>% group_by(playerID)  %>%  filter( order_by(yearID,cumany(G > 150))) %>% head(2)"
   ]
  },
  {
   "cell_type": "markdown",
   "metadata": {},
   "source": [
    "13. **# Find 10 players with most games**   \n",
    "using top_n"
   ]
  },
  {
   "cell_type": "code",
   "execution_count": 18,
   "metadata": {},
   "outputs": [
    {
     "name": "stderr",
     "output_type": "stream",
     "text": [
      "Selecting by n\n"
     ]
    },
    {
     "data": {
      "text/html": [
       "<table>\n",
       "<thead><tr><th scope=col>playerID</th><th scope=col>n</th></tr></thead>\n",
       "<tbody>\n",
       "\t<tr><td>aaronha01</td><td>3298     </td></tr>\n",
       "\t<tr><td>bondsba01</td><td>2986     </td></tr>\n",
       "\t<tr><td>cobbty01 </td><td>3035     </td></tr>\n",
       "\t<tr><td>henderi01</td><td>3081     </td></tr>\n",
       "\t<tr><td>mayswi01 </td><td>2992     </td></tr>\n",
       "\t<tr><td>murraed02</td><td>3026     </td></tr>\n",
       "\t<tr><td>musiast01</td><td>3026     </td></tr>\n",
       "\t<tr><td>ripkeca01</td><td>3001     </td></tr>\n",
       "\t<tr><td>rosepe01 </td><td>3562     </td></tr>\n",
       "\t<tr><td>yastrca01</td><td>3308     </td></tr>\n",
       "</tbody>\n",
       "</table>\n"
      ],
      "text/latex": [
       "\\begin{tabular}{r|ll}\n",
       " playerID & n\\\\\n",
       "\\hline\n",
       "\t aaronha01 & 3298     \\\\\n",
       "\t bondsba01 & 2986     \\\\\n",
       "\t cobbty01  & 3035     \\\\\n",
       "\t henderi01 & 3081     \\\\\n",
       "\t mayswi01  & 2992     \\\\\n",
       "\t murraed02 & 3026     \\\\\n",
       "\t musiast01 & 3026     \\\\\n",
       "\t ripkeca01 & 3001     \\\\\n",
       "\t rosepe01  & 3562     \\\\\n",
       "\t yastrca01 & 3308     \\\\\n",
       "\\end{tabular}\n"
      ],
      "text/markdown": [
       "\n",
       "| playerID | n |\n",
       "|---|---|\n",
       "| aaronha01 | 3298      |\n",
       "| bondsba01 | 2986      |\n",
       "| cobbty01  | 3035      |\n",
       "| henderi01 | 3081      |\n",
       "| mayswi01  | 2992      |\n",
       "| murraed02 | 3026      |\n",
       "| musiast01 | 3026      |\n",
       "| ripkeca01 | 3001      |\n",
       "| rosepe01  | 3562      |\n",
       "| yastrca01 | 3308      |\n",
       "\n"
      ],
      "text/plain": [
       "   playerID  n   \n",
       "1  aaronha01 3298\n",
       "2  bondsba01 2986\n",
       "3  cobbty01  3035\n",
       "4  henderi01 3081\n",
       "5  mayswi01  2992\n",
       "6  murraed02 3026\n",
       "7  musiast01 3026\n",
       "8  ripkeca01 3001\n",
       "9  rosepe01  3562\n",
       "10 yastrca01 3308"
      ]
     },
     "metadata": {},
     "output_type": "display_data"
    }
   ],
   "source": [
    "batting %>%   group_by(playerID) %>%\n",
    "  tally(G) %>%\n",
    "  top_n(10)"
   ]
  },
  {
   "cell_type": "markdown",
   "metadata": {},
   "source": [
    "14. **Find year with most games for each player**   \n",
    "using top_n(n, wt)\n",
    "\n",
    ".n: number or row to return, If negative, select the bottom n row   \n",
    ".wt (Optional). The variable to use for ordering."
   ]
  },
  {
   "cell_type": "code",
   "execution_count": 22,
   "metadata": {},
   "outputs": [
    {
     "data": {
      "text/html": [
       "<table>\n",
       "<thead><tr><th scope=col>playerID</th><th scope=col>yearID</th><th scope=col>teamID</th><th scope=col>G</th><th scope=col>AB</th><th scope=col>R</th><th scope=col>H</th></tr></thead>\n",
       "<tbody>\n",
       "\t<tr><td>aaronha01</td><td>1963     </td><td>ML1      </td><td>161      </td><td>631      </td><td>121      </td><td>201      </td></tr>\n",
       "\t<tr><td>abbotji01</td><td>1991     </td><td>CAL      </td><td> 34      </td><td> NA      </td><td> NA      </td><td> NA      </td></tr>\n",
       "\t<tr><td>abernte02</td><td>1965     </td><td>CHN      </td><td> 84      </td><td> 18      </td><td>  1      </td><td>  3      </td></tr>\n",
       "\t<tr><td>abreubo01</td><td>2001     </td><td>PHI      </td><td>162      </td><td>588      </td><td>118      </td><td>170      </td></tr>\n",
       "\t<tr><td>abreubo01</td><td>2005     </td><td>PHI      </td><td>162      </td><td>588      </td><td>104      </td><td>168      </td></tr>\n",
       "\t<tr><td>adamsba01</td><td>1913     </td><td>PIT      </td><td> 43      </td><td>114      </td><td> 13      </td><td> 33      </td></tr>\n",
       "\t<tr><td>ageeto01 </td><td>1966     </td><td>CHA      </td><td>160      </td><td>629      </td><td> 98      </td><td>172      </td></tr>\n",
       "\t<tr><td>ainsmed01</td><td>1917     </td><td>WS1      </td><td>125      </td><td>350      </td><td> 38      </td><td> 67      </td></tr>\n",
       "\t<tr><td>akerja01 </td><td>1966     </td><td>KC1      </td><td> 66      </td><td> 21      </td><td>  1      </td><td>  2      </td></tr>\n",
       "\t<tr><td>alexape01</td><td>1911     </td><td>PHI      </td><td> 50      </td><td>138      </td><td> 12      </td><td> 24      </td></tr>\n",
       "\t<tr><td>alfonan01</td><td>2004     </td><td>ATL      </td><td> 79      </td><td>  1      </td><td>  0      </td><td>  0      </td></tr>\n",
       "\t<tr><td>alfoned01</td><td>1999     </td><td>NYN      </td><td>158      </td><td>628      </td><td>123      </td><td>191      </td></tr>\n",
       "\t<tr><td>allendi01</td><td>1964     </td><td>PHI      </td><td>162      </td><td>632      </td><td>125      </td><td>201      </td></tr>\n",
       "\t<tr><td>allenjo02</td><td>1936     </td><td>CLE      </td><td> 37      </td><td> 87      </td><td> 12      </td><td> 14      </td></tr>\n",
       "\t<tr><td>alleyge01</td><td>1965     </td><td>PIT      </td><td>153      </td><td>500      </td><td> 47      </td><td>126      </td></tr>\n",
       "\t<tr><td>allisbo01</td><td>1961     </td><td>MIN      </td><td>159      </td><td>556      </td><td> 83      </td><td>136      </td></tr>\n",
       "\t<tr><td>alomaro01</td><td>1991     </td><td>TOR      </td><td>161      </td><td>637      </td><td> 88      </td><td>188      </td></tr>\n",
       "\t<tr><td>alomasa02</td><td>1990     </td><td>CLE      </td><td>132      </td><td>445      </td><td> 60      </td><td>129      </td></tr>\n",
       "\t<tr><td>aloufe01 </td><td>1968     </td><td>ATL      </td><td>160      </td><td>662      </td><td> 72      </td><td>210      </td></tr>\n",
       "\t<tr><td>alouma01 </td><td>1969     </td><td>PIT      </td><td>162      </td><td>698      </td><td>105      </td><td>231      </td></tr>\n",
       "\t<tr><td>aloumo01 </td><td>1998     </td><td>HOU      </td><td>159      </td><td>584      </td><td>104      </td><td>182      </td></tr>\n",
       "\t<tr><td>amaroru01</td><td>1961     </td><td>PHI      </td><td>135      </td><td>381      </td><td> 34      </td><td> 98      </td></tr>\n",
       "\t<tr><td>anderga01</td><td>2001     </td><td>ANA      </td><td>161      </td><td>672      </td><td> 83      </td><td>194      </td></tr>\n",
       "\t<tr><td>andujjo01</td><td>1979     </td><td>HOU      </td><td> 46      </td><td> 57      </td><td>  3      </td><td>  5      </td></tr>\n",
       "\t<tr><td>antonjo02</td><td>1956     </td><td>NY1      </td><td> 49      </td><td> 89      </td><td>  7      </td><td> 14      </td></tr>\n",
       "\t<tr><td>aparilu01</td><td>1968     </td><td>CHA      </td><td>157      </td><td>622      </td><td> 55      </td><td>164      </td></tr>\n",
       "\t<tr><td>applilu01</td><td>1943     </td><td>CHA      </td><td>155      </td><td>585      </td><td> 63      </td><td>192      </td></tr>\n",
       "\t<tr><td>archeji01</td><td>1912     </td><td>CHN      </td><td>120      </td><td>385      </td><td> 35      </td><td>109      </td></tr>\n",
       "\t<tr><td>armasto01</td><td>1980     </td><td>OAK      </td><td>158      </td><td>628      </td><td> 87      </td><td>175      </td></tr>\n",
       "\t<tr><td>arroybr01</td><td>2008     </td><td>CIN      </td><td> 40      </td><td> 61      </td><td>  4      </td><td> 12      </td></tr>\n",
       "\t<tr><td>...</td><td>...</td><td>...</td><td>...</td><td>...</td><td>...</td><td>...</td></tr>\n",
       "\t<tr><td>wrighgl01</td><td>1925     </td><td>PIT      </td><td>153      </td><td>614      </td><td> 97      </td><td>189      </td></tr>\n",
       "\t<tr><td>wyattwh01</td><td>1932     </td><td>DET      </td><td> 43      </td><td> 78      </td><td>  7      </td><td> 15      </td></tr>\n",
       "\t<tr><td>wynnea01 </td><td>1948     </td><td>WS1      </td><td> 73      </td><td>106      </td><td>  9      </td><td> 23      </td></tr>\n",
       "\t<tr><td>wynnji01 </td><td>1967     </td><td>HOU      </td><td>158      </td><td>594      </td><td>102      </td><td>148      </td></tr>\n",
       "\t<tr><td>wyseha01 </td><td>1944     </td><td>CHN      </td><td> 41      </td><td> 90      </td><td> 11      </td><td> 16      </td></tr>\n",
       "\t<tr><td>wyseha01 </td><td>1950     </td><td>PHA      </td><td> 41      </td><td> 59      </td><td>  4      </td><td>  9      </td></tr>\n",
       "\t<tr><td>yastrca01</td><td>1969     </td><td>BOS      </td><td>162      </td><td>603      </td><td> 96      </td><td>154      </td></tr>\n",
       "\t<tr><td>yeagest01</td><td>1975     </td><td>LAN      </td><td>135      </td><td>452      </td><td> 34      </td><td>103      </td></tr>\n",
       "\t<tr><td>yorkru01 </td><td>1940     </td><td>DET      </td><td>155      </td><td>588      </td><td>105      </td><td>186      </td></tr>\n",
       "\t<tr><td>yorkru01 </td><td>1941     </td><td>DET      </td><td>155      </td><td>590      </td><td> 91      </td><td>153      </td></tr>\n",
       "\t<tr><td>yorkru01 </td><td>1943     </td><td>DET      </td><td>155      </td><td>571      </td><td> 90      </td><td>155      </td></tr>\n",
       "\t<tr><td>yorkru01 </td><td>1945     </td><td>DET      </td><td>155      </td><td>595      </td><td> 71      </td><td>157      </td></tr>\n",
       "\t<tr><td>youklke01</td><td>2006     </td><td>BOS      </td><td>147      </td><td>569      </td><td>100      </td><td>159      </td></tr>\n",
       "\t<tr><td>youngcy01</td><td>1891     </td><td>CL4      </td><td> 55      </td><td>174      </td><td> 23      </td><td> 29      </td></tr>\n",
       "\t<tr><td>youngde03</td><td>2007     </td><td>TBA      </td><td>162      </td><td>645      </td><td> 65      </td><td>186      </td></tr>\n",
       "\t<tr><td>youngdm01</td><td>2003     </td><td>DET      </td><td>155      </td><td>562      </td><td> 78      </td><td>167      </td></tr>\n",
       "\t<tr><td>younger01</td><td>2000     </td><td>CHN      </td><td>153      </td><td>607      </td><td> 98      </td><td>180      </td></tr>\n",
       "\t<tr><td>youngmi02</td><td>2006     </td><td>TEX      </td><td>162      </td><td>691      </td><td> 93      </td><td>217      </td></tr>\n",
       "\t<tr><td>youngro01</td><td>1920     </td><td>NY1      </td><td>153      </td><td>581      </td><td> 92      </td><td>204      </td></tr>\n",
       "\t<tr><td>yountro01</td><td>1988     </td><td>ML4      </td><td>162      </td><td>621      </td><td> 92      </td><td>190      </td></tr>\n",
       "\t<tr><td>zachrpa01</td><td>1984     </td><td>LAN      </td><td> 58      </td><td>  6      </td><td>  0      </td><td>  2      </td></tr>\n",
       "\t<tr><td>zahnge01 </td><td>1980     </td><td>MIN      </td><td> 38      </td><td> NA      </td><td> NA      </td><td> NA      </td></tr>\n",
       "\t<tr><td>zambrca01</td><td>2010     </td><td>CHN      </td><td> 42      </td><td> 52      </td><td>  5      </td><td> 12      </td></tr>\n",
       "\t<tr><td>zimmehe01</td><td>1917     </td><td>NY1      </td><td>150      </td><td>585      </td><td> 61      </td><td>174      </td></tr>\n",
       "\t<tr><td>zimmery01</td><td>2007     </td><td>WAS      </td><td>162      </td><td>653      </td><td> 99      </td><td>174      </td></tr>\n",
       "\t<tr><td>ziskri01 </td><td>1976     </td><td>PIT      </td><td>155      </td><td>581      </td><td> 91      </td><td>168      </td></tr>\n",
       "\t<tr><td>zitoba01 </td><td>2001     </td><td>OAK      </td><td> 35      </td><td>  5      </td><td>  0      </td><td>  0      </td></tr>\n",
       "\t<tr><td>zitoba01 </td><td>2002     </td><td>OAK      </td><td> 35      </td><td>  4      </td><td>  0      </td><td>  0      </td></tr>\n",
       "\t<tr><td>zitoba01 </td><td>2003     </td><td>OAK      </td><td> 35      </td><td>  6      </td><td>  0      </td><td>  0      </td></tr>\n",
       "\t<tr><td>zitoba01 </td><td>2005     </td><td>OAK      </td><td> 35      </td><td>  7      </td><td>  0      </td><td>  1      </td></tr>\n",
       "</tbody>\n",
       "</table>\n"
      ],
      "text/latex": [
       "\\begin{tabular}{r|lllllll}\n",
       " playerID & yearID & teamID & G & AB & R & H\\\\\n",
       "\\hline\n",
       "\t aaronha01 & 1963      & ML1       & 161       & 631       & 121       & 201      \\\\\n",
       "\t abbotji01 & 1991      & CAL       &  34       &  NA       &  NA       &  NA      \\\\\n",
       "\t abernte02 & 1965      & CHN       &  84       &  18       &   1       &   3      \\\\\n",
       "\t abreubo01 & 2001      & PHI       & 162       & 588       & 118       & 170      \\\\\n",
       "\t abreubo01 & 2005      & PHI       & 162       & 588       & 104       & 168      \\\\\n",
       "\t adamsba01 & 1913      & PIT       &  43       & 114       &  13       &  33      \\\\\n",
       "\t ageeto01  & 1966      & CHA       & 160       & 629       &  98       & 172      \\\\\n",
       "\t ainsmed01 & 1917      & WS1       & 125       & 350       &  38       &  67      \\\\\n",
       "\t akerja01  & 1966      & KC1       &  66       &  21       &   1       &   2      \\\\\n",
       "\t alexape01 & 1911      & PHI       &  50       & 138       &  12       &  24      \\\\\n",
       "\t alfonan01 & 2004      & ATL       &  79       &   1       &   0       &   0      \\\\\n",
       "\t alfoned01 & 1999      & NYN       & 158       & 628       & 123       & 191      \\\\\n",
       "\t allendi01 & 1964      & PHI       & 162       & 632       & 125       & 201      \\\\\n",
       "\t allenjo02 & 1936      & CLE       &  37       &  87       &  12       &  14      \\\\\n",
       "\t alleyge01 & 1965      & PIT       & 153       & 500       &  47       & 126      \\\\\n",
       "\t allisbo01 & 1961      & MIN       & 159       & 556       &  83       & 136      \\\\\n",
       "\t alomaro01 & 1991      & TOR       & 161       & 637       &  88       & 188      \\\\\n",
       "\t alomasa02 & 1990      & CLE       & 132       & 445       &  60       & 129      \\\\\n",
       "\t aloufe01  & 1968      & ATL       & 160       & 662       &  72       & 210      \\\\\n",
       "\t alouma01  & 1969      & PIT       & 162       & 698       & 105       & 231      \\\\\n",
       "\t aloumo01  & 1998      & HOU       & 159       & 584       & 104       & 182      \\\\\n",
       "\t amaroru01 & 1961      & PHI       & 135       & 381       &  34       &  98      \\\\\n",
       "\t anderga01 & 2001      & ANA       & 161       & 672       &  83       & 194      \\\\\n",
       "\t andujjo01 & 1979      & HOU       &  46       &  57       &   3       &   5      \\\\\n",
       "\t antonjo02 & 1956      & NY1       &  49       &  89       &   7       &  14      \\\\\n",
       "\t aparilu01 & 1968      & CHA       & 157       & 622       &  55       & 164      \\\\\n",
       "\t applilu01 & 1943      & CHA       & 155       & 585       &  63       & 192      \\\\\n",
       "\t archeji01 & 1912      & CHN       & 120       & 385       &  35       & 109      \\\\\n",
       "\t armasto01 & 1980      & OAK       & 158       & 628       &  87       & 175      \\\\\n",
       "\t arroybr01 & 2008      & CIN       &  40       &  61       &   4       &  12      \\\\\n",
       "\t ... & ... & ... & ... & ... & ... & ...\\\\\n",
       "\t wrighgl01 & 1925      & PIT       & 153       & 614       &  97       & 189      \\\\\n",
       "\t wyattwh01 & 1932      & DET       &  43       &  78       &   7       &  15      \\\\\n",
       "\t wynnea01  & 1948      & WS1       &  73       & 106       &   9       &  23      \\\\\n",
       "\t wynnji01  & 1967      & HOU       & 158       & 594       & 102       & 148      \\\\\n",
       "\t wyseha01  & 1944      & CHN       &  41       &  90       &  11       &  16      \\\\\n",
       "\t wyseha01  & 1950      & PHA       &  41       &  59       &   4       &   9      \\\\\n",
       "\t yastrca01 & 1969      & BOS       & 162       & 603       &  96       & 154      \\\\\n",
       "\t yeagest01 & 1975      & LAN       & 135       & 452       &  34       & 103      \\\\\n",
       "\t yorkru01  & 1940      & DET       & 155       & 588       & 105       & 186      \\\\\n",
       "\t yorkru01  & 1941      & DET       & 155       & 590       &  91       & 153      \\\\\n",
       "\t yorkru01  & 1943      & DET       & 155       & 571       &  90       & 155      \\\\\n",
       "\t yorkru01  & 1945      & DET       & 155       & 595       &  71       & 157      \\\\\n",
       "\t youklke01 & 2006      & BOS       & 147       & 569       & 100       & 159      \\\\\n",
       "\t youngcy01 & 1891      & CL4       &  55       & 174       &  23       &  29      \\\\\n",
       "\t youngde03 & 2007      & TBA       & 162       & 645       &  65       & 186      \\\\\n",
       "\t youngdm01 & 2003      & DET       & 155       & 562       &  78       & 167      \\\\\n",
       "\t younger01 & 2000      & CHN       & 153       & 607       &  98       & 180      \\\\\n",
       "\t youngmi02 & 2006      & TEX       & 162       & 691       &  93       & 217      \\\\\n",
       "\t youngro01 & 1920      & NY1       & 153       & 581       &  92       & 204      \\\\\n",
       "\t yountro01 & 1988      & ML4       & 162       & 621       &  92       & 190      \\\\\n",
       "\t zachrpa01 & 1984      & LAN       &  58       &   6       &   0       &   2      \\\\\n",
       "\t zahnge01  & 1980      & MIN       &  38       &  NA       &  NA       &  NA      \\\\\n",
       "\t zambrca01 & 2010      & CHN       &  42       &  52       &   5       &  12      \\\\\n",
       "\t zimmehe01 & 1917      & NY1       & 150       & 585       &  61       & 174      \\\\\n",
       "\t zimmery01 & 2007      & WAS       & 162       & 653       &  99       & 174      \\\\\n",
       "\t ziskri01  & 1976      & PIT       & 155       & 581       &  91       & 168      \\\\\n",
       "\t zitoba01  & 2001      & OAK       &  35       &   5       &   0       &   0      \\\\\n",
       "\t zitoba01  & 2002      & OAK       &  35       &   4       &   0       &   0      \\\\\n",
       "\t zitoba01  & 2003      & OAK       &  35       &   6       &   0       &   0      \\\\\n",
       "\t zitoba01  & 2005      & OAK       &  35       &   7       &   0       &   1      \\\\\n",
       "\\end{tabular}\n"
      ],
      "text/markdown": [
       "\n",
       "| playerID | yearID | teamID | G | AB | R | H |\n",
       "|---|---|---|---|---|---|---|\n",
       "| aaronha01 | 1963      | ML1       | 161       | 631       | 121       | 201       |\n",
       "| abbotji01 | 1991      | CAL       |  34       |  NA       |  NA       |  NA       |\n",
       "| abernte02 | 1965      | CHN       |  84       |  18       |   1       |   3       |\n",
       "| abreubo01 | 2001      | PHI       | 162       | 588       | 118       | 170       |\n",
       "| abreubo01 | 2005      | PHI       | 162       | 588       | 104       | 168       |\n",
       "| adamsba01 | 1913      | PIT       |  43       | 114       |  13       |  33       |\n",
       "| ageeto01  | 1966      | CHA       | 160       | 629       |  98       | 172       |\n",
       "| ainsmed01 | 1917      | WS1       | 125       | 350       |  38       |  67       |\n",
       "| akerja01  | 1966      | KC1       |  66       |  21       |   1       |   2       |\n",
       "| alexape01 | 1911      | PHI       |  50       | 138       |  12       |  24       |\n",
       "| alfonan01 | 2004      | ATL       |  79       |   1       |   0       |   0       |\n",
       "| alfoned01 | 1999      | NYN       | 158       | 628       | 123       | 191       |\n",
       "| allendi01 | 1964      | PHI       | 162       | 632       | 125       | 201       |\n",
       "| allenjo02 | 1936      | CLE       |  37       |  87       |  12       |  14       |\n",
       "| alleyge01 | 1965      | PIT       | 153       | 500       |  47       | 126       |\n",
       "| allisbo01 | 1961      | MIN       | 159       | 556       |  83       | 136       |\n",
       "| alomaro01 | 1991      | TOR       | 161       | 637       |  88       | 188       |\n",
       "| alomasa02 | 1990      | CLE       | 132       | 445       |  60       | 129       |\n",
       "| aloufe01  | 1968      | ATL       | 160       | 662       |  72       | 210       |\n",
       "| alouma01  | 1969      | PIT       | 162       | 698       | 105       | 231       |\n",
       "| aloumo01  | 1998      | HOU       | 159       | 584       | 104       | 182       |\n",
       "| amaroru01 | 1961      | PHI       | 135       | 381       |  34       |  98       |\n",
       "| anderga01 | 2001      | ANA       | 161       | 672       |  83       | 194       |\n",
       "| andujjo01 | 1979      | HOU       |  46       |  57       |   3       |   5       |\n",
       "| antonjo02 | 1956      | NY1       |  49       |  89       |   7       |  14       |\n",
       "| aparilu01 | 1968      | CHA       | 157       | 622       |  55       | 164       |\n",
       "| applilu01 | 1943      | CHA       | 155       | 585       |  63       | 192       |\n",
       "| archeji01 | 1912      | CHN       | 120       | 385       |  35       | 109       |\n",
       "| armasto01 | 1980      | OAK       | 158       | 628       |  87       | 175       |\n",
       "| arroybr01 | 2008      | CIN       |  40       |  61       |   4       |  12       |\n",
       "| ... | ... | ... | ... | ... | ... | ... |\n",
       "| wrighgl01 | 1925      | PIT       | 153       | 614       |  97       | 189       |\n",
       "| wyattwh01 | 1932      | DET       |  43       |  78       |   7       |  15       |\n",
       "| wynnea01  | 1948      | WS1       |  73       | 106       |   9       |  23       |\n",
       "| wynnji01  | 1967      | HOU       | 158       | 594       | 102       | 148       |\n",
       "| wyseha01  | 1944      | CHN       |  41       |  90       |  11       |  16       |\n",
       "| wyseha01  | 1950      | PHA       |  41       |  59       |   4       |   9       |\n",
       "| yastrca01 | 1969      | BOS       | 162       | 603       |  96       | 154       |\n",
       "| yeagest01 | 1975      | LAN       | 135       | 452       |  34       | 103       |\n",
       "| yorkru01  | 1940      | DET       | 155       | 588       | 105       | 186       |\n",
       "| yorkru01  | 1941      | DET       | 155       | 590       |  91       | 153       |\n",
       "| yorkru01  | 1943      | DET       | 155       | 571       |  90       | 155       |\n",
       "| yorkru01  | 1945      | DET       | 155       | 595       |  71       | 157       |\n",
       "| youklke01 | 2006      | BOS       | 147       | 569       | 100       | 159       |\n",
       "| youngcy01 | 1891      | CL4       |  55       | 174       |  23       |  29       |\n",
       "| youngde03 | 2007      | TBA       | 162       | 645       |  65       | 186       |\n",
       "| youngdm01 | 2003      | DET       | 155       | 562       |  78       | 167       |\n",
       "| younger01 | 2000      | CHN       | 153       | 607       |  98       | 180       |\n",
       "| youngmi02 | 2006      | TEX       | 162       | 691       |  93       | 217       |\n",
       "| youngro01 | 1920      | NY1       | 153       | 581       |  92       | 204       |\n",
       "| yountro01 | 1988      | ML4       | 162       | 621       |  92       | 190       |\n",
       "| zachrpa01 | 1984      | LAN       |  58       |   6       |   0       |   2       |\n",
       "| zahnge01  | 1980      | MIN       |  38       |  NA       |  NA       |  NA       |\n",
       "| zambrca01 | 2010      | CHN       |  42       |  52       |   5       |  12       |\n",
       "| zimmehe01 | 1917      | NY1       | 150       | 585       |  61       | 174       |\n",
       "| zimmery01 | 2007      | WAS       | 162       | 653       |  99       | 174       |\n",
       "| ziskri01  | 1976      | PIT       | 155       | 581       |  91       | 168       |\n",
       "| zitoba01  | 2001      | OAK       |  35       |   5       |   0       |   0       |\n",
       "| zitoba01  | 2002      | OAK       |  35       |   4       |   0       |   0       |\n",
       "| zitoba01  | 2003      | OAK       |  35       |   6       |   0       |   0       |\n",
       "| zitoba01  | 2005      | OAK       |  35       |   7       |   0       |   1       |\n",
       "\n"
      ],
      "text/plain": [
       "     playerID  yearID teamID G   AB  R   H  \n",
       "1    aaronha01 1963   ML1    161 631 121 201\n",
       "2    abbotji01 1991   CAL     34  NA  NA  NA\n",
       "3    abernte02 1965   CHN     84  18   1   3\n",
       "4    abreubo01 2001   PHI    162 588 118 170\n",
       "5    abreubo01 2005   PHI    162 588 104 168\n",
       "6    adamsba01 1913   PIT     43 114  13  33\n",
       "7    ageeto01  1966   CHA    160 629  98 172\n",
       "8    ainsmed01 1917   WS1    125 350  38  67\n",
       "9    akerja01  1966   KC1     66  21   1   2\n",
       "10   alexape01 1911   PHI     50 138  12  24\n",
       "11   alfonan01 2004   ATL     79   1   0   0\n",
       "12   alfoned01 1999   NYN    158 628 123 191\n",
       "13   allendi01 1964   PHI    162 632 125 201\n",
       "14   allenjo02 1936   CLE     37  87  12  14\n",
       "15   alleyge01 1965   PIT    153 500  47 126\n",
       "16   allisbo01 1961   MIN    159 556  83 136\n",
       "17   alomaro01 1991   TOR    161 637  88 188\n",
       "18   alomasa02 1990   CLE    132 445  60 129\n",
       "19   aloufe01  1968   ATL    160 662  72 210\n",
       "20   alouma01  1969   PIT    162 698 105 231\n",
       "21   aloumo01  1998   HOU    159 584 104 182\n",
       "22   amaroru01 1961   PHI    135 381  34  98\n",
       "23   anderga01 2001   ANA    161 672  83 194\n",
       "24   andujjo01 1979   HOU     46  57   3   5\n",
       "25   antonjo02 1956   NY1     49  89   7  14\n",
       "26   aparilu01 1968   CHA    157 622  55 164\n",
       "27   applilu01 1943   CHA    155 585  63 192\n",
       "28   archeji01 1912   CHN    120 385  35 109\n",
       "29   armasto01 1980   OAK    158 628  87 175\n",
       "30   arroybr01 2008   CIN     40  61   4  12\n",
       "...  ...       ...    ...    ... ... ... ...\n",
       "1460 wrighgl01 1925   PIT    153 614  97 189\n",
       "1461 wyattwh01 1932   DET     43  78   7  15\n",
       "1462 wynnea01  1948   WS1     73 106   9  23\n",
       "1463 wynnji01  1967   HOU    158 594 102 148\n",
       "1464 wyseha01  1944   CHN     41  90  11  16\n",
       "1465 wyseha01  1950   PHA     41  59   4   9\n",
       "1466 yastrca01 1969   BOS    162 603  96 154\n",
       "1467 yeagest01 1975   LAN    135 452  34 103\n",
       "1468 yorkru01  1940   DET    155 588 105 186\n",
       "1469 yorkru01  1941   DET    155 590  91 153\n",
       "1470 yorkru01  1943   DET    155 571  90 155\n",
       "1471 yorkru01  1945   DET    155 595  71 157\n",
       "1472 youklke01 2006   BOS    147 569 100 159\n",
       "1473 youngcy01 1891   CL4     55 174  23  29\n",
       "1474 youngde03 2007   TBA    162 645  65 186\n",
       "1475 youngdm01 2003   DET    155 562  78 167\n",
       "1476 younger01 2000   CHN    153 607  98 180\n",
       "1477 youngmi02 2006   TEX    162 691  93 217\n",
       "1478 youngro01 1920   NY1    153 581  92 204\n",
       "1479 yountro01 1988   ML4    162 621  92 190\n",
       "1480 zachrpa01 1984   LAN     58   6   0   2\n",
       "1481 zahnge01  1980   MIN     38  NA  NA  NA\n",
       "1482 zambrca01 2010   CHN     42  52   5  12\n",
       "1483 zimmehe01 1917   NY1    150 585  61 174\n",
       "1484 zimmery01 2007   WAS    162 653  99 174\n",
       "1485 ziskri01  1976   PIT    155 581  91 168\n",
       "1486 zitoba01  2001   OAK     35   5   0   0\n",
       "1487 zitoba01  2002   OAK     35   4   0   0\n",
       "1488 zitoba01  2003   OAK     35   6   0   0\n",
       "1489 zitoba01  2005   OAK     35   7   0   1"
      ]
     },
     "metadata": {},
     "output_type": "display_data"
    }
   ],
   "source": [
    "batting %>% group_by(playerID) %>% top_n(1, G)"
   ]
  },
  {
   "cell_type": "markdown",
   "metadata": {},
   "source": [
    "## Compare windowed functions   \n",
    "\n",
    "+ **row_number()**: equivalent to rank(ties.method = \"first\")   \n",
    "+ **min_rank()**: equivalent to rank(ties.method = \"min\")   \n",
    "+ **dense_rank()**: like min_rank(), but with no gaps between ranks   \n",
    "+ **percent_rank()**: a number between 0 and 1 computed by rescaling min_rank to [0, 1]   \n",
    "+ **cume_dist()**: a cumulative distribution function. Proportion of all values less than or equal to the current rank.   \n",
    "+ **ntile()**: a rough rank, which breaks the input vector into n buckets    \n",
    "\n",
    "\n",
    "13. **What are the top 5 sepal lengths based on the species?**   \n",
    "min_rank assigns minimum rank to smallest value while min_rank(desc()) assigns the smallest rank to highest value"
   ]
  },
  {
   "cell_type": "code",
   "execution_count": 104,
   "metadata": {},
   "outputs": [
    {
     "data": {
      "text/html": [
       "<table>\n",
       "<thead><tr><th scope=col>Species</th><th scope=col>Sepal.Length</th><th scope=col>rank</th></tr></thead>\n",
       "<tbody>\n",
       "\t<tr><td>setosa    </td><td>5.8       </td><td>1         </td></tr>\n",
       "\t<tr><td>setosa    </td><td>5.7       </td><td>2         </td></tr>\n",
       "\t<tr><td>setosa    </td><td>5.7       </td><td>2         </td></tr>\n",
       "\t<tr><td>setosa    </td><td>5.5       </td><td>4         </td></tr>\n",
       "\t<tr><td>setosa    </td><td>5.5       </td><td>4         </td></tr>\n",
       "\t<tr><td>versicolor</td><td>7.0       </td><td>1         </td></tr>\n",
       "\t<tr><td>versicolor</td><td>6.9       </td><td>2         </td></tr>\n",
       "\t<tr><td>versicolor</td><td>6.8       </td><td>3         </td></tr>\n",
       "\t<tr><td>versicolor</td><td>6.7       </td><td>4         </td></tr>\n",
       "\t<tr><td>versicolor</td><td>6.7       </td><td>4         </td></tr>\n",
       "\t<tr><td>versicolor</td><td>6.7       </td><td>4         </td></tr>\n",
       "\t<tr><td>virginica </td><td>7.9       </td><td>1         </td></tr>\n",
       "\t<tr><td>virginica </td><td>7.7       </td><td>2         </td></tr>\n",
       "\t<tr><td>virginica </td><td>7.7       </td><td>2         </td></tr>\n",
       "\t<tr><td>virginica </td><td>7.7       </td><td>2         </td></tr>\n",
       "\t<tr><td>virginica </td><td>7.7       </td><td>2         </td></tr>\n",
       "</tbody>\n",
       "</table>\n"
      ],
      "text/latex": [
       "\\begin{tabular}{r|lll}\n",
       " Species & Sepal.Length & rank\\\\\n",
       "\\hline\n",
       "\t setosa     & 5.8        & 1         \\\\\n",
       "\t setosa     & 5.7        & 2         \\\\\n",
       "\t setosa     & 5.7        & 2         \\\\\n",
       "\t setosa     & 5.5        & 4         \\\\\n",
       "\t setosa     & 5.5        & 4         \\\\\n",
       "\t versicolor & 7.0        & 1         \\\\\n",
       "\t versicolor & 6.9        & 2         \\\\\n",
       "\t versicolor & 6.8        & 3         \\\\\n",
       "\t versicolor & 6.7        & 4         \\\\\n",
       "\t versicolor & 6.7        & 4         \\\\\n",
       "\t versicolor & 6.7        & 4         \\\\\n",
       "\t virginica  & 7.9        & 1         \\\\\n",
       "\t virginica  & 7.7        & 2         \\\\\n",
       "\t virginica  & 7.7        & 2         \\\\\n",
       "\t virginica  & 7.7        & 2         \\\\\n",
       "\t virginica  & 7.7        & 2         \\\\\n",
       "\\end{tabular}\n"
      ],
      "text/markdown": [
       "\n",
       "| Species | Sepal.Length | rank |\n",
       "|---|---|---|\n",
       "| setosa     | 5.8        | 1          |\n",
       "| setosa     | 5.7        | 2          |\n",
       "| setosa     | 5.7        | 2          |\n",
       "| setosa     | 5.5        | 4          |\n",
       "| setosa     | 5.5        | 4          |\n",
       "| versicolor | 7.0        | 1          |\n",
       "| versicolor | 6.9        | 2          |\n",
       "| versicolor | 6.8        | 3          |\n",
       "| versicolor | 6.7        | 4          |\n",
       "| versicolor | 6.7        | 4          |\n",
       "| versicolor | 6.7        | 4          |\n",
       "| virginica  | 7.9        | 1          |\n",
       "| virginica  | 7.7        | 2          |\n",
       "| virginica  | 7.7        | 2          |\n",
       "| virginica  | 7.7        | 2          |\n",
       "| virginica  | 7.7        | 2          |\n",
       "\n"
      ],
      "text/plain": [
       "   Species    Sepal.Length rank\n",
       "1  setosa     5.8          1   \n",
       "2  setosa     5.7          2   \n",
       "3  setosa     5.7          2   \n",
       "4  setosa     5.5          4   \n",
       "5  setosa     5.5          4   \n",
       "6  versicolor 7.0          1   \n",
       "7  versicolor 6.9          2   \n",
       "8  versicolor 6.8          3   \n",
       "9  versicolor 6.7          4   \n",
       "10 versicolor 6.7          4   \n",
       "11 versicolor 6.7          4   \n",
       "12 virginica  7.9          1   \n",
       "13 virginica  7.7          2   \n",
       "14 virginica  7.7          2   \n",
       "15 virginica  7.7          2   \n",
       "16 virginica  7.7          2   "
      ]
     },
     "metadata": {},
     "output_type": "display_data"
    }
   ],
   "source": [
    "library(dplyr)\n",
    "iris %>% select(Species,Sepal.Length) %>%\n",
    "    group_by(Species) %>%\n",
    "    mutate(rank= min_rank(desc(Sepal.Length))) %>%  arrange(Species, rank) %>% filter(rank<=5)"
   ]
  },
  {
   "cell_type": "markdown",
   "metadata": {},
   "source": [
    "**Note** if there are ties, min_rank will skip next value rank while dense_rank assigns continuous values"
   ]
  },
  {
   "cell_type": "code",
   "execution_count": 103,
   "metadata": {},
   "outputs": [
    {
     "data": {
      "text/html": [
       "<table>\n",
       "<thead><tr><th scope=col>Species</th><th scope=col>Sepal.Length</th><th scope=col>rank</th></tr></thead>\n",
       "<tbody>\n",
       "\t<tr><td>setosa    </td><td>5.8       </td><td>1         </td></tr>\n",
       "\t<tr><td>setosa    </td><td>5.7       </td><td>2         </td></tr>\n",
       "\t<tr><td>setosa    </td><td>5.7       </td><td>2         </td></tr>\n",
       "\t<tr><td>setosa    </td><td>5.5       </td><td>3         </td></tr>\n",
       "\t<tr><td>setosa    </td><td>5.5       </td><td>3         </td></tr>\n",
       "\t<tr><td>setosa    </td><td>5.4       </td><td>4         </td></tr>\n",
       "\t<tr><td>setosa    </td><td>5.4       </td><td>4         </td></tr>\n",
       "\t<tr><td>setosa    </td><td>5.4       </td><td>4         </td></tr>\n",
       "\t<tr><td>setosa    </td><td>5.4       </td><td>4         </td></tr>\n",
       "\t<tr><td>setosa    </td><td>5.4       </td><td>4         </td></tr>\n",
       "\t<tr><td>setosa    </td><td>5.3       </td><td>5         </td></tr>\n",
       "\t<tr><td>versicolor</td><td>7.0       </td><td>1         </td></tr>\n",
       "\t<tr><td>versicolor</td><td>6.9       </td><td>2         </td></tr>\n",
       "\t<tr><td>versicolor</td><td>6.8       </td><td>3         </td></tr>\n",
       "\t<tr><td>versicolor</td><td>6.7       </td><td>4         </td></tr>\n",
       "\t<tr><td>versicolor</td><td>6.7       </td><td>4         </td></tr>\n",
       "\t<tr><td>versicolor</td><td>6.7       </td><td>4         </td></tr>\n",
       "\t<tr><td>versicolor</td><td>6.6       </td><td>5         </td></tr>\n",
       "\t<tr><td>versicolor</td><td>6.6       </td><td>5         </td></tr>\n",
       "\t<tr><td>virginica </td><td>7.9       </td><td>1         </td></tr>\n",
       "\t<tr><td>virginica </td><td>7.7       </td><td>2         </td></tr>\n",
       "\t<tr><td>virginica </td><td>7.7       </td><td>2         </td></tr>\n",
       "\t<tr><td>virginica </td><td>7.7       </td><td>2         </td></tr>\n",
       "\t<tr><td>virginica </td><td>7.7       </td><td>2         </td></tr>\n",
       "\t<tr><td>virginica </td><td>7.6       </td><td>3         </td></tr>\n",
       "\t<tr><td>virginica </td><td>7.4       </td><td>4         </td></tr>\n",
       "\t<tr><td>virginica </td><td>7.3       </td><td>5         </td></tr>\n",
       "</tbody>\n",
       "</table>\n"
      ],
      "text/latex": [
       "\\begin{tabular}{r|lll}\n",
       " Species & Sepal.Length & rank\\\\\n",
       "\\hline\n",
       "\t setosa     & 5.8        & 1         \\\\\n",
       "\t setosa     & 5.7        & 2         \\\\\n",
       "\t setosa     & 5.7        & 2         \\\\\n",
       "\t setosa     & 5.5        & 3         \\\\\n",
       "\t setosa     & 5.5        & 3         \\\\\n",
       "\t setosa     & 5.4        & 4         \\\\\n",
       "\t setosa     & 5.4        & 4         \\\\\n",
       "\t setosa     & 5.4        & 4         \\\\\n",
       "\t setosa     & 5.4        & 4         \\\\\n",
       "\t setosa     & 5.4        & 4         \\\\\n",
       "\t setosa     & 5.3        & 5         \\\\\n",
       "\t versicolor & 7.0        & 1         \\\\\n",
       "\t versicolor & 6.9        & 2         \\\\\n",
       "\t versicolor & 6.8        & 3         \\\\\n",
       "\t versicolor & 6.7        & 4         \\\\\n",
       "\t versicolor & 6.7        & 4         \\\\\n",
       "\t versicolor & 6.7        & 4         \\\\\n",
       "\t versicolor & 6.6        & 5         \\\\\n",
       "\t versicolor & 6.6        & 5         \\\\\n",
       "\t virginica  & 7.9        & 1         \\\\\n",
       "\t virginica  & 7.7        & 2         \\\\\n",
       "\t virginica  & 7.7        & 2         \\\\\n",
       "\t virginica  & 7.7        & 2         \\\\\n",
       "\t virginica  & 7.7        & 2         \\\\\n",
       "\t virginica  & 7.6        & 3         \\\\\n",
       "\t virginica  & 7.4        & 4         \\\\\n",
       "\t virginica  & 7.3        & 5         \\\\\n",
       "\\end{tabular}\n"
      ],
      "text/markdown": [
       "\n",
       "| Species | Sepal.Length | rank |\n",
       "|---|---|---|\n",
       "| setosa     | 5.8        | 1          |\n",
       "| setosa     | 5.7        | 2          |\n",
       "| setosa     | 5.7        | 2          |\n",
       "| setosa     | 5.5        | 3          |\n",
       "| setosa     | 5.5        | 3          |\n",
       "| setosa     | 5.4        | 4          |\n",
       "| setosa     | 5.4        | 4          |\n",
       "| setosa     | 5.4        | 4          |\n",
       "| setosa     | 5.4        | 4          |\n",
       "| setosa     | 5.4        | 4          |\n",
       "| setosa     | 5.3        | 5          |\n",
       "| versicolor | 7.0        | 1          |\n",
       "| versicolor | 6.9        | 2          |\n",
       "| versicolor | 6.8        | 3          |\n",
       "| versicolor | 6.7        | 4          |\n",
       "| versicolor | 6.7        | 4          |\n",
       "| versicolor | 6.7        | 4          |\n",
       "| versicolor | 6.6        | 5          |\n",
       "| versicolor | 6.6        | 5          |\n",
       "| virginica  | 7.9        | 1          |\n",
       "| virginica  | 7.7        | 2          |\n",
       "| virginica  | 7.7        | 2          |\n",
       "| virginica  | 7.7        | 2          |\n",
       "| virginica  | 7.7        | 2          |\n",
       "| virginica  | 7.6        | 3          |\n",
       "| virginica  | 7.4        | 4          |\n",
       "| virginica  | 7.3        | 5          |\n",
       "\n"
      ],
      "text/plain": [
       "   Species    Sepal.Length rank\n",
       "1  setosa     5.8          1   \n",
       "2  setosa     5.7          2   \n",
       "3  setosa     5.7          2   \n",
       "4  setosa     5.5          3   \n",
       "5  setosa     5.5          3   \n",
       "6  setosa     5.4          4   \n",
       "7  setosa     5.4          4   \n",
       "8  setosa     5.4          4   \n",
       "9  setosa     5.4          4   \n",
       "10 setosa     5.4          4   \n",
       "11 setosa     5.3          5   \n",
       "12 versicolor 7.0          1   \n",
       "13 versicolor 6.9          2   \n",
       "14 versicolor 6.8          3   \n",
       "15 versicolor 6.7          4   \n",
       "16 versicolor 6.7          4   \n",
       "17 versicolor 6.7          4   \n",
       "18 versicolor 6.6          5   \n",
       "19 versicolor 6.6          5   \n",
       "20 virginica  7.9          1   \n",
       "21 virginica  7.7          2   \n",
       "22 virginica  7.7          2   \n",
       "23 virginica  7.7          2   \n",
       "24 virginica  7.7          2   \n",
       "25 virginica  7.6          3   \n",
       "26 virginica  7.4          4   \n",
       "27 virginica  7.3          5   "
      ]
     },
     "metadata": {},
     "output_type": "display_data"
    }
   ],
   "source": [
    "iris %>% select(Species,Sepal.Length) %>%\n",
    "    group_by(Species) %>%\n",
    "    mutate(rank= dense_rank(desc(Sepal.Length)))  %>% filter(rank <=5) %>% arrange(Species, rank)"
   ]
  },
  {
   "cell_type": "markdown",
   "metadata": {},
   "source": [
    "## Quantile     \n",
    "\n",
    "Ranking of scale 4\n"
   ]
  },
  {
   "cell_type": "code",
   "execution_count": 109,
   "metadata": {},
   "outputs": [
    {
     "data": {
      "text/html": [
       "<table>\n",
       "<thead><tr><th scope=col>mpg</th><th scope=col>cyl</th><th scope=col>disp</th><th scope=col>hp</th><th scope=col>drat</th><th scope=col>wt</th><th scope=col>qsec</th><th scope=col>vs</th><th scope=col>am</th><th scope=col>gear</th><th scope=col>carb</th><th scope=col>quantile_rank</th></tr></thead>\n",
       "<tbody>\n",
       "\t<tr><td>21.0 </td><td>6    </td><td>160  </td><td>110  </td><td>3.90 </td><td>2.620</td><td>16.46</td><td>0    </td><td>1    </td><td>4    </td><td>4    </td><td>3    </td></tr>\n",
       "\t<tr><td>21.0 </td><td>6    </td><td>160  </td><td>110  </td><td>3.90 </td><td>2.875</td><td>17.02</td><td>0    </td><td>1    </td><td>4    </td><td>4    </td><td>3    </td></tr>\n",
       "\t<tr><td>22.8 </td><td>4    </td><td>108  </td><td> 93  </td><td>3.85 </td><td>2.320</td><td>18.61</td><td>1    </td><td>1    </td><td>4    </td><td>1    </td><td>3    </td></tr>\n",
       "</tbody>\n",
       "</table>\n"
      ],
      "text/latex": [
       "\\begin{tabular}{r|llllllllllll}\n",
       " mpg & cyl & disp & hp & drat & wt & qsec & vs & am & gear & carb & quantile\\_rank\\\\\n",
       "\\hline\n",
       "\t 21.0  & 6     & 160   & 110   & 3.90  & 2.620 & 16.46 & 0     & 1     & 4     & 4     & 3    \\\\\n",
       "\t 21.0  & 6     & 160   & 110   & 3.90  & 2.875 & 17.02 & 0     & 1     & 4     & 4     & 3    \\\\\n",
       "\t 22.8  & 4     & 108   &  93   & 3.85  & 2.320 & 18.61 & 1     & 1     & 4     & 1     & 3    \\\\\n",
       "\\end{tabular}\n"
      ],
      "text/markdown": [
       "\n",
       "| mpg | cyl | disp | hp | drat | wt | qsec | vs | am | gear | carb | quantile_rank |\n",
       "|---|---|---|---|---|---|---|---|---|---|---|---|\n",
       "| 21.0  | 6     | 160   | 110   | 3.90  | 2.620 | 16.46 | 0     | 1     | 4     | 4     | 3     |\n",
       "| 21.0  | 6     | 160   | 110   | 3.90  | 2.875 | 17.02 | 0     | 1     | 4     | 4     | 3     |\n",
       "| 22.8  | 4     | 108   |  93   | 3.85  | 2.320 | 18.61 | 1     | 1     | 4     | 1     | 3     |\n",
       "\n"
      ],
      "text/plain": [
       "  mpg  cyl disp hp  drat wt    qsec  vs am gear carb quantile_rank\n",
       "1 21.0 6   160  110 3.90 2.620 16.46 0  1  4    4    3            \n",
       "2 21.0 6   160  110 3.90 2.875 17.02 0  1  4    4    3            \n",
       "3 22.8 4   108   93 3.85 2.320 18.61 1  1  4    1    3            "
      ]
     },
     "metadata": {},
     "output_type": "display_data"
    }
   ],
   "source": [
    "library(dplyr)\n",
    " \n",
    "mtcars %>%\n",
    "    mutate( quantile_rank = ntile(.$mpg,4)) %>% head(3)\n"
   ]
  },
  {
   "cell_type": "markdown",
   "metadata": {},
   "source": [
    "## Decile   \n",
    "Ranking by 10 scale"
   ]
  },
  {
   "cell_type": "code",
   "execution_count": 112,
   "metadata": {},
   "outputs": [
    {
     "data": {
      "text/html": [
       "<table>\n",
       "<thead><tr><th scope=col>mpg</th><th scope=col>cyl</th><th scope=col>disp</th><th scope=col>hp</th><th scope=col>drat</th><th scope=col>wt</th><th scope=col>qsec</th><th scope=col>vs</th><th scope=col>am</th><th scope=col>gear</th><th scope=col>carb</th><th scope=col>decile_rank</th></tr></thead>\n",
       "<tbody>\n",
       "\t<tr><td>21.0 </td><td>6    </td><td>160  </td><td>110  </td><td>3.90 </td><td>2.620</td><td>16.46</td><td>0    </td><td>1    </td><td>4    </td><td>4    </td><td>6    </td></tr>\n",
       "\t<tr><td>21.0 </td><td>6    </td><td>160  </td><td>110  </td><td>3.90 </td><td>2.875</td><td>17.02</td><td>0    </td><td>1    </td><td>4    </td><td>4    </td><td>6    </td></tr>\n",
       "\t<tr><td>22.8 </td><td>4    </td><td>108  </td><td> 93  </td><td>3.85 </td><td>2.320</td><td>18.61</td><td>1    </td><td>1    </td><td>4    </td><td>1    </td><td>8    </td></tr>\n",
       "</tbody>\n",
       "</table>\n"
      ],
      "text/latex": [
       "\\begin{tabular}{r|llllllllllll}\n",
       " mpg & cyl & disp & hp & drat & wt & qsec & vs & am & gear & carb & decile\\_rank\\\\\n",
       "\\hline\n",
       "\t 21.0  & 6     & 160   & 110   & 3.90  & 2.620 & 16.46 & 0     & 1     & 4     & 4     & 6    \\\\\n",
       "\t 21.0  & 6     & 160   & 110   & 3.90  & 2.875 & 17.02 & 0     & 1     & 4     & 4     & 6    \\\\\n",
       "\t 22.8  & 4     & 108   &  93   & 3.85  & 2.320 & 18.61 & 1     & 1     & 4     & 1     & 8    \\\\\n",
       "\\end{tabular}\n"
      ],
      "text/markdown": [
       "\n",
       "| mpg | cyl | disp | hp | drat | wt | qsec | vs | am | gear | carb | decile_rank |\n",
       "|---|---|---|---|---|---|---|---|---|---|---|---|\n",
       "| 21.0  | 6     | 160   | 110   | 3.90  | 2.620 | 16.46 | 0     | 1     | 4     | 4     | 6     |\n",
       "| 21.0  | 6     | 160   | 110   | 3.90  | 2.875 | 17.02 | 0     | 1     | 4     | 4     | 6     |\n",
       "| 22.8  | 4     | 108   |  93   | 3.85  | 2.320 | 18.61 | 1     | 1     | 4     | 1     | 8     |\n",
       "\n"
      ],
      "text/plain": [
       "  mpg  cyl disp hp  drat wt    qsec  vs am gear carb decile_rank\n",
       "1 21.0 6   160  110 3.90 2.620 16.46 0  1  4    4    6          \n",
       "2 21.0 6   160  110 3.90 2.875 17.02 0  1  4    4    6          \n",
       "3 22.8 4   108   93 3.85 2.320 18.61 1  1  4    1    8          "
      ]
     },
     "metadata": {},
     "output_type": "display_data"
    }
   ],
   "source": [
    "mtcars %>%\n",
    "    mutate( decile_rank = ntile(.$mpg,10)) %>% head(3)"
   ]
  },
  {
   "cell_type": "markdown",
   "metadata": {},
   "source": [
    "## Percentile rank   \n",
    "Ranking by percentage"
   ]
  },
  {
   "cell_type": "code",
   "execution_count": 114,
   "metadata": {},
   "outputs": [
    {
     "data": {
      "text/html": [
       "<table>\n",
       "<thead><tr><th scope=col>mpg</th><th scope=col>cyl</th><th scope=col>disp</th><th scope=col>hp</th><th scope=col>drat</th><th scope=col>wt</th><th scope=col>qsec</th><th scope=col>vs</th><th scope=col>am</th><th scope=col>gear</th><th scope=col>carb</th><th scope=col>decile_rank</th></tr></thead>\n",
       "<tbody>\n",
       "\t<tr><td>21.0 </td><td>6    </td><td>160  </td><td>110  </td><td>3.90 </td><td>2.620</td><td>16.46</td><td>0    </td><td>1    </td><td>4    </td><td>4    </td><td>57   </td></tr>\n",
       "\t<tr><td>21.0 </td><td>6    </td><td>160  </td><td>110  </td><td>3.90 </td><td>2.875</td><td>17.02</td><td>0    </td><td>1    </td><td>4    </td><td>4    </td><td>60   </td></tr>\n",
       "\t<tr><td>22.8 </td><td>4    </td><td>108  </td><td> 93  </td><td>3.85 </td><td>2.320</td><td>18.61</td><td>1    </td><td>1    </td><td>4    </td><td>1    </td><td>72   </td></tr>\n",
       "</tbody>\n",
       "</table>\n"
      ],
      "text/latex": [
       "\\begin{tabular}{r|llllllllllll}\n",
       " mpg & cyl & disp & hp & drat & wt & qsec & vs & am & gear & carb & decile\\_rank\\\\\n",
       "\\hline\n",
       "\t 21.0  & 6     & 160   & 110   & 3.90  & 2.620 & 16.46 & 0     & 1     & 4     & 4     & 57   \\\\\n",
       "\t 21.0  & 6     & 160   & 110   & 3.90  & 2.875 & 17.02 & 0     & 1     & 4     & 4     & 60   \\\\\n",
       "\t 22.8  & 4     & 108   &  93   & 3.85  & 2.320 & 18.61 & 1     & 1     & 4     & 1     & 72   \\\\\n",
       "\\end{tabular}\n"
      ],
      "text/markdown": [
       "\n",
       "| mpg | cyl | disp | hp | drat | wt | qsec | vs | am | gear | carb | decile_rank |\n",
       "|---|---|---|---|---|---|---|---|---|---|---|---|\n",
       "| 21.0  | 6     | 160   | 110   | 3.90  | 2.620 | 16.46 | 0     | 1     | 4     | 4     | 57    |\n",
       "| 21.0  | 6     | 160   | 110   | 3.90  | 2.875 | 17.02 | 0     | 1     | 4     | 4     | 60    |\n",
       "| 22.8  | 4     | 108   |  93   | 3.85  | 2.320 | 18.61 | 1     | 1     | 4     | 1     | 72    |\n",
       "\n"
      ],
      "text/plain": [
       "  mpg  cyl disp hp  drat wt    qsec  vs am gear carb decile_rank\n",
       "1 21.0 6   160  110 3.90 2.620 16.46 0  1  4    4    57         \n",
       "2 21.0 6   160  110 3.90 2.875 17.02 0  1  4    4    60         \n",
       "3 22.8 4   108   93 3.85 2.320 18.61 1  1  4    1    72         "
      ]
     },
     "metadata": {},
     "output_type": "display_data"
    }
   ],
   "source": [
    "mtcars %>%\n",
    "    mutate( decile_rank = ntile(.$mpg,100)) %>% head(3)"
   ]
  },
  {
   "cell_type": "markdown",
   "metadata": {},
   "source": [
    "## Create new columns   \n",
    " **mutate_all** new columns for all the available columns"
   ]
  },
  {
   "cell_type": "code",
   "execution_count": 123,
   "metadata": {},
   "outputs": [
    {
     "data": {
      "text/html": [
       "<table>\n",
       "<thead><tr><th scope=col>Sepal.Length</th><th scope=col>Sepal.Width</th><th scope=col>Petal.Length</th><th scope=col>Petal.Width</th><th scope=col>Sepal.Length_percent</th><th scope=col>Sepal.Width_percent</th><th scope=col>Petal.Length_percent</th><th scope=col>Petal.Width_percent</th></tr></thead>\n",
       "<tbody>\n",
       "\t<tr><td>5.1  </td><td>3.5  </td><td>1.4  </td><td>0.2  </td><td>0.051</td><td>0.035</td><td>0.014</td><td>0.002</td></tr>\n",
       "\t<tr><td>4.9  </td><td>3.0  </td><td>1.4  </td><td>0.2  </td><td>0.049</td><td>0.030</td><td>0.014</td><td>0.002</td></tr>\n",
       "\t<tr><td>4.7  </td><td>3.2  </td><td>1.3  </td><td>0.2  </td><td>0.047</td><td>0.032</td><td>0.013</td><td>0.002</td></tr>\n",
       "</tbody>\n",
       "</table>\n"
      ],
      "text/latex": [
       "\\begin{tabular}{r|llllllll}\n",
       " Sepal.Length & Sepal.Width & Petal.Length & Petal.Width & Sepal.Length\\_percent & Sepal.Width\\_percent & Petal.Length\\_percent & Petal.Width\\_percent\\\\\n",
       "\\hline\n",
       "\t 5.1   & 3.5   & 1.4   & 0.2   & 0.051 & 0.035 & 0.014 & 0.002\\\\\n",
       "\t 4.9   & 3.0   & 1.4   & 0.2   & 0.049 & 0.030 & 0.014 & 0.002\\\\\n",
       "\t 4.7   & 3.2   & 1.3   & 0.2   & 0.047 & 0.032 & 0.013 & 0.002\\\\\n",
       "\\end{tabular}\n"
      ],
      "text/markdown": [
       "\n",
       "| Sepal.Length | Sepal.Width | Petal.Length | Petal.Width | Sepal.Length_percent | Sepal.Width_percent | Petal.Length_percent | Petal.Width_percent |\n",
       "|---|---|---|---|---|---|---|---|\n",
       "| 5.1   | 3.5   | 1.4   | 0.2   | 0.051 | 0.035 | 0.014 | 0.002 |\n",
       "| 4.9   | 3.0   | 1.4   | 0.2   | 0.049 | 0.030 | 0.014 | 0.002 |\n",
       "| 4.7   | 3.2   | 1.3   | 0.2   | 0.047 | 0.032 | 0.013 | 0.002 |\n",
       "\n"
      ],
      "text/plain": [
       "  Sepal.Length Sepal.Width Petal.Length Petal.Width Sepal.Length_percent\n",
       "1 5.1          3.5         1.4          0.2         0.051               \n",
       "2 4.9          3.0         1.4          0.2         0.049               \n",
       "3 4.7          3.2         1.3          0.2         0.047               \n",
       "  Sepal.Width_percent Petal.Length_percent Petal.Width_percent\n",
       "1 0.035               0.014                0.002              \n",
       "2 0.030               0.014                0.002              \n",
       "3 0.032               0.013                0.002              "
      ]
     },
     "metadata": {},
     "output_type": "display_data"
    }
   ],
   "source": [
    "iris[,-5] %>% mutate_all( funs(\"percent\"= ./100)) %>% head(3)"
   ]
  },
  {
   "cell_type": "markdown",
   "metadata": {},
   "source": [
    "**mutate_at() function in R creates new columns for the specified columns**"
   ]
  },
  {
   "cell_type": "code",
   "execution_count": 125,
   "metadata": {},
   "outputs": [
    {
     "data": {
      "text/html": [
       "<table>\n",
       "<thead><tr><th scope=col>Sepal.Length</th><th scope=col>Sepal.Width</th><th scope=col>Petal.Length</th><th scope=col>Petal.Width</th><th scope=col>Species</th><th scope=col>Sepal.Length_Rank</th><th scope=col>Sepal.Width_Rank</th></tr></thead>\n",
       "<tbody>\n",
       "\t<tr><td>5.1   </td><td>3.5   </td><td>1.4   </td><td>0.2   </td><td>setosa</td><td>110   </td><td>20    </td></tr>\n",
       "\t<tr><td>4.9   </td><td>3.0   </td><td>1.4   </td><td>0.2   </td><td>setosa</td><td>129   </td><td>68    </td></tr>\n",
       "\t<tr><td>4.7   </td><td>3.2   </td><td>1.3   </td><td>0.2   </td><td>setosa</td><td>140   </td><td>44    </td></tr>\n",
       "</tbody>\n",
       "</table>\n"
      ],
      "text/latex": [
       "\\begin{tabular}{r|lllllll}\n",
       " Sepal.Length & Sepal.Width & Petal.Length & Petal.Width & Species & Sepal.Length\\_Rank & Sepal.Width\\_Rank\\\\\n",
       "\\hline\n",
       "\t 5.1    & 3.5    & 1.4    & 0.2    & setosa & 110    & 20    \\\\\n",
       "\t 4.9    & 3.0    & 1.4    & 0.2    & setosa & 129    & 68    \\\\\n",
       "\t 4.7    & 3.2    & 1.3    & 0.2    & setosa & 140    & 44    \\\\\n",
       "\\end{tabular}\n"
      ],
      "text/markdown": [
       "\n",
       "| Sepal.Length | Sepal.Width | Petal.Length | Petal.Width | Species | Sepal.Length_Rank | Sepal.Width_Rank |\n",
       "|---|---|---|---|---|---|---|\n",
       "| 5.1    | 3.5    | 1.4    | 0.2    | setosa | 110    | 20     |\n",
       "| 4.9    | 3.0    | 1.4    | 0.2    | setosa | 129    | 68     |\n",
       "| 4.7    | 3.2    | 1.3    | 0.2    | setosa | 140    | 44     |\n",
       "\n"
      ],
      "text/plain": [
       "  Sepal.Length Sepal.Width Petal.Length Petal.Width Species Sepal.Length_Rank\n",
       "1 5.1          3.5         1.4          0.2         setosa  110              \n",
       "2 4.9          3.0         1.4          0.2         setosa  129              \n",
       "3 4.7          3.2         1.3          0.2         setosa  140              \n",
       "  Sepal.Width_Rank\n",
       "1 20              \n",
       "2 68              \n",
       "3 44              "
      ]
     },
     "metadata": {},
     "output_type": "display_data"
    }
   ],
   "source": [
    "iris %>% mutate_at( vars(Sepal.Length,Sepal.Width), funs(Rank=min_rank(desc(.)))) %>% head(3)"
   ]
  },
  {
   "cell_type": "code",
   "execution_count": null,
   "metadata": {},
   "outputs": [],
   "source": []
  }
 ],
 "metadata": {
  "kernelspec": {
   "display_name": "R",
   "language": "R",
   "name": "ir"
  },
  "language_info": {
   "codemirror_mode": "r",
   "file_extension": ".r",
   "mimetype": "text/x-r-source",
   "name": "R",
   "pygments_lexer": "r",
   "version": "3.6.0"
  }
 },
 "nbformat": 4,
 "nbformat_minor": 2
}
